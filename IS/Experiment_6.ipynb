{
 "cells": [
  {
   "cell_type": "markdown",
   "id": "002eb4bc",
   "metadata": {},
   "source": [
    "## Diffie Hellman Algorithm"
   ]
  },
  {
   "cell_type": "markdown",
   "id": "c02d87a1",
   "metadata": {},
   "source": [
    "### Source code :"
   ]
  },
  {
   "cell_type": "code",
   "execution_count": null,
   "id": "89fa4b30",
   "metadata": {},
   "outputs": [],
   "source": [
    "import random\n",
    "\n",
    "def diffie_hellman():\n",
    "    p = int(input(\"Enter a large prime number(p): \"))\n",
    "    g = int(input(\"Enter a primitive root of p(g): \"))\n",
    "\n",
    "    a = random.randint(2, p-2) # Alice's private key\n",
    "    b = random.randint(2, p-2) # Bob's private key\n",
    "\n",
    "    print(f\"Alice's private key: {a}\")\n",
    "    print(f\"Bob's private key: {b}\")\n",
    "\n",
    "    A = pow(g, a, p)\n",
    "    B = pow(g, b, p)\n",
    "\n",
    "    print(f\"Alice's public key: {A}\")\n",
    "    print(f\"Bob's public key: {B}\")\n",
    "\n",
    "    S_Alice = pow(B, a, p)\n",
    "    S_Bob = pow(A, b, p)\n",
    "\n",
    "    print(f\"Shared secret key calculated by Alice: {S_Alice}\")\n",
    "    print(f\"Shared secret key calculated by Bob: {S_Bob}\")\n",
    "\n",
    "    assert S_Alice == S_Bob, \"Key exchange failed!\"\n",
    "\n",
    "diffie_hellman()"
   ]
  },
  {
   "cell_type": "markdown",
   "id": "e6074368",
   "metadata": {},
   "source": [
    "### Output: <br>\n",
    "1) Prime number (p) : 71 <br>\n",
    "2) Primitive root of p (g) : 7"
   ]
  },
  {
   "cell_type": "code",
   "execution_count": null,
   "id": "a6bada95",
   "metadata": {},
   "outputs": [],
   "source": [
    "Alice's private key: 43\n",
    "Bob's private key: 69\n",
    "Alice's public key: 44\n",
    "Bob's public key: 61\n",
    "Shared secret key calculated by Alice: 21\n",
    "Shared secret key calculated by Bob: 21"
   ]
  }
 ],
 "metadata": {
  "kernelspec": {
   "display_name": "Python 3",
   "language": "python",
   "name": "python3"
  },
  "language_info": {
   "codemirror_mode": {
    "name": "ipython",
    "version": 3
   },
   "file_extension": ".py",
   "mimetype": "text/x-python",
   "name": "python",
   "nbconvert_exporter": "python",
   "pygments_lexer": "ipython3",
   "version": "3.10.0"
  }
 },
 "nbformat": 4,
 "nbformat_minor": 5
}
