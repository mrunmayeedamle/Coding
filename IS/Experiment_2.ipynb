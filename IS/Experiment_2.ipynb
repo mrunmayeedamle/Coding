{
 "cells": [
  {
   "cell_type": "markdown",
   "metadata": {},
   "source": [
    "## Railfence Cipher"
   ]
  },
  {
   "cell_type": "markdown",
   "metadata": {},
   "source": [
    "(i) Write a program to encrypt “ATTACK AT DAWN” with 3 rails"
   ]
  },
  {
   "cell_type": "code",
   "execution_count": null,
   "metadata": {},
   "outputs": [],
   "source": [
    "def Encrypt(msg, key):\n",
    "    mat_L = [['' for cols in range (len(msg))] for rows in range (key)]\n",
    "    row = 0\n",
    "    col = 0\n",
    "    i = 1\n",
    "\n",
    "    while col < len(msg):\n",
    "        if row + i < 0 or row + i >= key:\n",
    "            i = i * -1\n",
    "        mat_L[row][col] = msg[col]\n",
    "        row += i\n",
    "        col += 1\n",
    "\n",
    "    Encyption = ''\n",
    "    for j in mat_L:\n",
    "        Encyption += ''.join(j)\n",
    "\n",
    "    return Encyption  \n",
    "\n",
    "m = Encrypt('ATTACK AT DAWN', 3)\n",
    "print(m)  "
   ]
  },
  {
   "cell_type": "markdown",
   "metadata": {},
   "source": [
    "### Output"
   ]
  },
  {
   "cell_type": "code",
   "execution_count": null,
   "metadata": {},
   "outputs": [],
   "source": [
    "ACTWTAKA ANT D"
   ]
  },
  {
   "cell_type": "markdown",
   "metadata": {},
   "source": [
    "## Columnar Cipher"
   ]
  },
  {
   "cell_type": "markdown",
   "metadata": {},
   "source": [
    "(ii) Write a program to encrypt “HIDE THE GOLD” with keyword “LOCK” using columnar cipher. "
   ]
  },
  {
   "cell_type": "code",
   "execution_count": null,
   "metadata": {},
   "outputs": [],
   "source": [
    "import math\n",
    "\n",
    "def Encrypt(msg, key):\n",
    "    msg = msg.replace(\" \", \"\")\n",
    "    msg_length = len(msg)\n",
    "    \n",
    "    key = len(key)\n",
    "    rows = math.ceil(msg_length / key)\n",
    "\n",
    "    mat_1 = [['' for _ in range(key)] for _ in range(rows)]\n",
    "    \n",
    "    index = 0\n",
    "    for row in range(rows):\n",
    "        for col in range(key):\n",
    "            if index < msg_length:\n",
    "                mat_1[row][col] = msg[index]\n",
    "                index += 1\n",
    "\n",
    "    encrypted_msg = ''\n",
    "    for col in range(key):\n",
    "        for row in range(rows):\n",
    "            if mat_1[row][col]:\n",
    "                encrypted_msg += mat_1[row][col]\n",
    "\n",
    "    return encrypted_msg\n",
    "\n",
    "cipher_text = Encrypt('HIDE THE GOLD', 'LOCK')\n",
    "print(\"Encrypted Text:\", cipher_text)\n"
   ]
  },
  {
   "cell_type": "markdown",
   "metadata": {},
   "source": [
    "### Output"
   ]
  },
  {
   "cell_type": "code",
   "execution_count": null,
   "metadata": {},
   "outputs": [],
   "source": [
    "Encrypted Text: HTOIHLDEDEG"
   ]
  }
 ],
 "metadata": {
  "kernelspec": {
   "display_name": "Python 3",
   "language": "python",
   "name": "python3"
  },
  "language_info": {
   "codemirror_mode": {
    "name": "ipython",
    "version": 3
   },
   "file_extension": ".py",
   "mimetype": "text/x-python",
   "name": "python",
   "nbconvert_exporter": "python",
   "pygments_lexer": "ipython3",
   "version": "3.10.0"
  }
 },
 "nbformat": 4,
 "nbformat_minor": 2
}
