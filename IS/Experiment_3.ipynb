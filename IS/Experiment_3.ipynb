{
 "cells": [
  {
   "cell_type": "markdown",
   "metadata": {},
   "source": [
    "## DES encryption & decryption using pycryptodome"
   ]
  },
  {
   "cell_type": "markdown",
   "metadata": {},
   "source": [
    "Experiment (3) : Implement a program to perform Encryption and Decryption using DES cipher."
   ]
  },
  {
   "cell_type": "code",
   "execution_count": null,
   "metadata": {},
   "outputs": [],
   "source": [
    "from Crypto.Cipher import DES\n",
    "from Crypto.Random import get_random_bytes\n",
    "from Crypto.Util.Padding import pad, unpad\n",
    "\n",
    "key = b'abcdefgh' #8-bit key for DES\n",
    "cipher = DES.new(key, DES.MODE_CBC)\n",
    "\n",
    "plaintext = b'Hello DES'\n",
    "padded_plaintext = pad(plaintext, DES.block_size)\n",
    "ciphertext = cipher.encrypt(padded_plaintext)\n",
    "\n",
    "print('Plaintext:', plaintext)\n",
    "print('Ciphertext(hex):', ciphertext.hex())\n",
    "\n",
    "decipher = DES.new(key, DES.MODE_CBC, cipher.iv)\n",
    "decrypted_ciphertext = unpad(decipher.decrypt(ciphertext), DES.block_size)\n",
    "\n",
    "print('Decrypted ciphertext:', decrypted_ciphertext.decode())"
   ]
  },
  {
   "cell_type": "markdown",
   "metadata": {},
   "source": [
    "### Output"
   ]
  },
  {
   "cell_type": "code",
   "execution_count": null,
   "metadata": {},
   "outputs": [],
   "source": [
    "Plaintext: b'Hello DES'\n",
    "Ciphertext(hex): 099dcf21596138e4ba679ee960b5db41\n",
    "Decrypted ciphertext: Hello DES"
   ]
  }
 ],
 "metadata": {
  "kernelspec": {
   "display_name": "Python 3",
   "language": "python",
   "name": "python3"
  },
  "language_info": {
   "codemirror_mode": {
    "name": "ipython",
    "version": 3
   },
   "file_extension": ".py",
   "mimetype": "text/x-python",
   "name": "python",
   "nbconvert_exporter": "python",
   "pygments_lexer": "ipython3",
   "version": "3.10.0"
  }
 },
 "nbformat": 4,
 "nbformat_minor": 2
}
