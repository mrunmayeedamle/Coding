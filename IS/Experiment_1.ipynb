{
 "cells": [
  {
   "cell_type": "markdown",
   "metadata": {},
   "source": [
    "## Caesar Cipher"
   ]
  },
  {
   "cell_type": "markdown",
   "metadata": {},
   "source": [
    "(i)  Write a program to implement Caesar Cipher for plaintext “Attack in the morning” with shift of 3."
   ]
  },
  {
   "cell_type": "code",
   "execution_count": null,
   "metadata": {},
   "outputs": [],
   "source": [
    "def caesar_cipher(text, shift):\n",
    "    result = \"\"\n",
    "    for char in text:\n",
    "        if char.isalpha():\n",
    "            offset = 65 if char.isupper() else 97\n",
    "            print(ord(char))\n",
    "            result +=  chr((ord(char) - offset + shift) % 26 + offset)\n",
    "        else:\n",
    "            result += char\n",
    "    return result\n",
    "\n",
    "text = \"Attack in the morning\"\n",
    "shift = 3\n",
    "\n",
    "encrypted_text = caesar_cipher(text, shift)\n",
    "print(\"Encrypted:\", encrypted_text)\n",
    "\n",
    "decrypted_text = caesar_cipher(encrypted_text, -shift)\n",
    "print(\"Decrypted:\", decrypted_text)"
   ]
  },
  {
   "cell_type": "markdown",
   "metadata": {},
   "source": [
    "### Output"
   ]
  },
  {
   "cell_type": "code",
   "execution_count": null,
   "metadata": {},
   "outputs": [],
   "source": [
    "65 116 116 97 99 107 105 110 116 104 101 109 111 114 110 105 110 103 \n",
    "\n",
    "Encrypted: Dwwdfn lq wkh pruqlqj\n",
    "\n",
    "68 119 119 100 102 110 108 113 119 107 104 112 114 117 113 108 113 106\n",
    "\n",
    "Decrypted: Attack in the morning"
   ]
  },
  {
   "cell_type": "markdown",
   "metadata": {},
   "source": [
    "## Playfair Cipher"
   ]
  },
  {
   "cell_type": "markdown",
   "metadata": {},
   "source": [
    "(ii) Write a program to implement Playfair Cipher for plaintext “Hello World” with key equals to “keyword”"
   ]
  },
  {
   "cell_type": "code",
   "execution_count": null,
   "metadata": {},
   "outputs": [],
   "source": [
    "def create_key_matrix(key):\n",
    "    key = \"\".join(dict.fromkeys(key.upper().replace(\"J\", \"I\")))  \n",
    "    alphabet = \"ABCDEFGHIKLMNOPQRSTUVWXYZ\"\n",
    "    key_matrix = key + \"\".join(c for c in alphabet if c not in key)\n",
    "    return [list(key_matrix[i:i + 5]) for i in range(0, 25, 5)]\n",
    "\n",
    "def prepare_text(text):\n",
    "    text = text.upper().replace(\"J\", \"I\").replace(\" \", \"\")\n",
    "    prepared= \"\"\n",
    "    i = 0\n",
    "    while i < len(text):\n",
    "        prepared += text[i]\n",
    "        if i+1 < len(text) and text[i] == text[i+1]:\n",
    "            prepared += \"X\"\n",
    "        i += 1\n",
    "\n",
    "    if len(prepared) % 2 != 0:\n",
    "        prepared += \"X\"\n",
    "    return prepared\n",
    "\n",
    "def find_position(matrix, letter):\n",
    "    for row in range(5):\n",
    "        for col in range(5):\n",
    "            if matrix[row][col] == letter:\n",
    "                return row, col\n",
    "    return None\n",
    "\n",
    "def playfair_encypt_decrypt(text, matrix, mode=\"encrypt\"):\n",
    "    shift = 1 if mode == \"encrypt\" else -1\n",
    "    result = \"\"\n",
    "    for i in range (0, len(text), 2):\n",
    "        a, b = text[i], text[i+1]\n",
    "        row_a, col_a = find_position(matrix, a)\n",
    "        row_b, col_b = find_position(matrix, b)\n",
    "\n",
    "        if row_a == row_b:\n",
    "            result += matrix[row_a][(col_a + shift) % 5]\n",
    "            result += matrix[row_b][(col_b + shift) % 5]\n",
    "\n",
    "        elif col_a == col_b:\n",
    "            result += matrix[(row_a + shift) % 5][col_a]\n",
    "            result += matrix[(row_b + shift) % 5][col_b]\n",
    "\n",
    "        else:\n",
    "            result += matrix[row_a][col_b]\n",
    "            result += matrix[row_b][col_a]\n",
    "\n",
    "    return result\n",
    "\n",
    "\n",
    "key = \"keyword\"\n",
    "plain_text = \"Hello World\"\n",
    "\n",
    "key_matrix = create_key_matrix(key)\n",
    "prepared_text = prepare_text(plain_text)\n",
    "\n",
    "encrypted = playfair_encypt_decrypt(prepared_text, key_matrix, mode=\"encrypt\")\n",
    "print(\"Playfair Encrypted:\", encrypted)\n",
    "\n",
    "decrypted = playfair_encypt_decrypt(encrypted, key_matrix, mode=\"decrypt\")\n",
    "print(\"Playfair Decrypted:\", decrypted)"
   ]
  },
  {
   "cell_type": "markdown",
   "metadata": {},
   "source": [
    "### Output"
   ]
  },
  {
   "cell_type": "code",
   "execution_count": null,
   "metadata": {},
   "outputs": [],
   "source": [
    "Playfair Encrypted: GYIZSCOKCFBU\n",
    "Playfair Decrypted: HELXLOWORLDX"
   ]
  },
  {
   "cell_type": "markdown",
   "metadata": {},
   "source": [
    "## Hill Cipher"
   ]
  },
  {
   "cell_type": "markdown",
   "metadata": {},
   "source": [
    "(iii) Write a program to implement Hill Cipher for plaintext “Python” with key equals to <br>\n",
    "6 24 1 <br>\n",
    "13 16 10 <br>\n",
    "20 17 15 <br>"
   ]
  },
  {
   "cell_type": "code",
   "execution_count": null,
   "metadata": {},
   "outputs": [],
   "source": [
    "import numpy as np\n",
    "\n",
    "def hill_cipher_encrypt(plain_text, key_matrix):\n",
    "    plain_text = plain_text.upper().replace(\" \", \"\")\n",
    "    n = key_matrix.shape[0]\n",
    "    print(n)\n",
    "\n",
    "    while len(plain_text) % n != 0:\n",
    "        plain_text += \"X\"\n",
    "\n",
    "    text_vector = [ord(char) - 65 for char in plain_text]\n",
    "    print(text_vector)\n",
    "\n",
    "    encrypted_text = \"\"\n",
    "    for i in range(0, len(text_vector), n):\n",
    "        block = text_vector[i:i + n]\n",
    "        block_vector = np.dot(key_matrix, block) % 26\n",
    "        encrypted_text += ''.join(chr(num + 65) for num in block_vector)\n",
    "    \n",
    "    return encrypted_text\n",
    "\n",
    "def hill_cipher_decrypt(cipher_text, key_matrix):\n",
    "    n = key_matrix.shape[0]\n",
    "\n",
    "    det = int(np.round(np.linalg.det(key_matrix)))\n",
    "    det_inv = pow(det, -1, 26)\n",
    "\n",
    "    adjugate = np.round(det * np.linalg.inv(key_matrix)).astype(int) % 26\n",
    "    inverse_key = (det_inv * adjugate) % 26\n",
    "\n",
    "    cipher_vector = [ord(char) - 65 for char in cipher_text]\n",
    "\n",
    "    decrypted_text = \"\"\n",
    "    for i in range(0, len(cipher_vector), n):\n",
    "        block = cipher_vector[i:i + n]\n",
    "        block_vector = np.dot(inverse_key, block) % 26\n",
    "        decrypted_text += ''.join(chr(int(num) + 65) for num in block_vector)\n",
    "\n",
    "    return decrypted_text\n",
    "\n",
    "key_matrix = np.array([[6, 24, 1], [13, 16, 10], [20, 17, 15]])\n",
    "plain_text = \"Python\"\n",
    "\n",
    "encrypted_text = hill_cipher_encrypt(plain_text, key_matrix)\n",
    "print(\"Hill Cipher Encrypted:\", encrypted_text)\n",
    "\n",
    "decrypted_text = hill_cipher_decrypt(encrypted_text, key_matrix)\n",
    "print(\"Hill Cipher Decrypted:\", decrypted_text)"
   ]
  },
  {
   "cell_type": "markdown",
   "metadata": {},
   "source": [
    "### Output"
   ]
  },
  {
   "cell_type": "code",
   "execution_count": null,
   "metadata": {},
   "outputs": [],
   "source": [
    "3\n",
    "[15, 24, 19, 7, 14, 13]\n",
    "Hill Cipher Encrypted: JPFBDB\n",
    "Hill Cipher Decrypted: PYTHON"
   ]
  }
 ],
 "metadata": {
  "kernelspec": {
   "display_name": "Python 3",
   "language": "python",
   "name": "python3"
  },
  "language_info": {
   "codemirror_mode": {
    "name": "ipython",
    "version": 3
   },
   "file_extension": ".py",
   "mimetype": "text/x-python",
   "name": "python",
   "nbconvert_exporter": "python",
   "pygments_lexer": "ipython3",
   "version": "3.10.0"
  }
 },
 "nbformat": 4,
 "nbformat_minor": 2
}
