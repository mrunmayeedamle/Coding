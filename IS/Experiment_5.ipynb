{
 "cells": [
  {
   "cell_type": "markdown",
   "id": "791130e6",
   "metadata": {},
   "source": [
    "## RSA Algorithm encyption and decryption"
   ]
  },
  {
   "cell_type": "markdown",
   "id": "fe3f6252",
   "metadata": {},
   "source": [
    "Experiment(5):  Write program to perform encryption and decryption using RSA algorithm."
   ]
  },
  {
   "cell_type": "code",
   "execution_count": null,
   "id": "2d9cd15a",
   "metadata": {},
   "outputs": [],
   "source": [
    "from math import gcd\n",
    "\n",
    "def RSA():\n",
    "    p = int(input(\"Enter first prime number (p): \"))\n",
    "    q = int(input(\"Enter second prime number (q): \"))\n",
    "    message = int(input(\"Enter a number to encrypt (must be less than n): \"))\n",
    "    n = p * q\n",
    "    t = (p - 1) * (q - 1)\n",
    "    for i in range(2, t):\n",
    "        if gcd(i, t) == 1:\n",
    "            e = i\n",
    "            break\n",
    "\n",
    "    j = 0\n",
    "    while True:\n",
    "        if (j * e) % t == 1:\n",
    "            d = j\n",
    "            break\n",
    "        j += 1\n",
    "\n",
    "    ct = (message ** e) % n\n",
    "    print(f\"Encrypted message is {ct}\")\n",
    "    \n",
    "    mes = (ct ** d) % n\n",
    "    print(f\"Decrypted message is {mes}\")\n",
    "\n",
    "RSA()\n"
   ]
  },
  {
   "cell_type": "markdown",
   "id": "ca194499",
   "metadata": {},
   "source": [
    "### Output\n",
    "First prime number (p) : 19 <br>\n",
    "Second prime number (q) : 11 <br>\n",
    "Number for encryption (n) : 7 <br>"
   ]
  },
  {
   "cell_type": "code",
   "execution_count": null,
   "id": "e4fb3150",
   "metadata": {},
   "outputs": [],
   "source": [
    "Encrypted message is 156\n",
    "Decrypted message is 7"
   ]
  }
 ],
 "metadata": {
  "kernelspec": {
   "display_name": "Python 3",
   "language": "python",
   "name": "python3"
  },
  "language_info": {
   "codemirror_mode": {
    "name": "ipython",
    "version": 3
   },
   "file_extension": ".py",
   "mimetype": "text/x-python",
   "name": "python",
   "nbconvert_exporter": "python",
   "pygments_lexer": "ipython3",
   "version": "3.10.0"
  }
 },
 "nbformat": 4,
 "nbformat_minor": 5
}
