{
 "cells": [
  {
   "cell_type": "markdown",
   "metadata": {},
   "source": [
    "## AES encryption and decryption using pycryptodome"
   ]
  },
  {
   "cell_type": "markdown",
   "metadata": {},
   "source": [
    "Experiment (4) : Implement a program to perform Encryption and Decryption using AES cipher\n"
   ]
  },
  {
   "cell_type": "code",
   "execution_count": null,
   "metadata": {},
   "outputs": [],
   "source": [
    "from Crypto.Cipher import AES\n",
    "from Crypto.Random import get_random_bytes\n",
    "from Crypto.Util.Padding import pad, unpad\n",
    "\n",
    "key = get_random_bytes(16)\n",
    "cipher = AES.new(key, AES.MODE_CBC)\n",
    "\n",
    "plaintext = b'Hello AES'\n",
    "padded_plaintext = pad(plaintext, AES.block_size)\n",
    "ciphertext = cipher.encrypt(padded_plaintext)\n",
    "\n",
    "print('Plaintext:', plaintext)\n",
    "print('Ciphertext(hex):', ciphertext.hex())\n",
    "\n",
    "decipher = AES.new(key, AES.MODE_CBC, cipher.iv)\n",
    "decrypted_ciphertext = unpad(decipher.decrypt(ciphertext), AES.block_size)\n",
    "\n",
    "print('Decrypted ciphertext:', decrypted_ciphertext.decode())"
   ]
  },
  {
   "cell_type": "markdown",
   "metadata": {},
   "source": [
    "### Output"
   ]
  },
  {
   "cell_type": "code",
   "execution_count": null,
   "metadata": {},
   "outputs": [],
   "source": [
    "Plaintext: b'Hello AES'\n",
    "Ciphertext(hex): 340cdf0b51ad3d864c5ff87d84a6fe9f\n",
    "Decrypted ciphertext: Hello AES"
   ]
  }
 ],
 "metadata": {
  "kernelspec": {
   "display_name": "Python 3",
   "language": "python",
   "name": "python3"
  },
  "language_info": {
   "codemirror_mode": {
    "name": "ipython",
    "version": 3
   },
   "file_extension": ".py",
   "mimetype": "text/x-python",
   "name": "python",
   "nbconvert_exporter": "python",
   "pygments_lexer": "ipython3",
   "version": "3.10.0"
  }
 },
 "nbformat": 4,
 "nbformat_minor": 2
}
