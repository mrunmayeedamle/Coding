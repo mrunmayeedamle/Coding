{
 "cells": [
  {
   "cell_type": "markdown",
   "metadata": {},
   "source": [
    "Rail Fence"
   ]
  },
  {
   "cell_type": "code",
   "execution_count": null,
   "metadata": {},
   "outputs": [],
   "source": [
    "def Encrypt(msg, key):\n",
    "    mat_L = [['' for cols in range (len(msg))] for rows in range (key)]\n",
    "    row = 0\n",
    "    col = 0\n",
    "    i = 1\n",
    "\n",
    "    while col < len(msg):\n",
    "        if row + i < 0 or row + i >= key:\n",
    "            i = i * -1\n",
    "        mat_L[row][col] = msg[col]\n",
    "        row += i\n",
    "        col += 1\n",
    "\n",
    "    Encyption = ''\n",
    "    for j in mat_L:\n",
    "        Encyption += ''.join(j)\n",
    "\n",
    "    return Encyption    "
   ]
  },
  {
   "cell_type": "code",
   "execution_count": 5,
   "metadata": {},
   "outputs": [
    {
     "name": "stdout",
     "output_type": "stream",
     "text": [
      "Stgoehnmi\n"
     ]
    }
   ],
   "source": [
    "m = Encrypt('Something', 3)\n",
    "print(m)"
   ]
  },
  {
   "cell_type": "markdown",
   "metadata": {},
   "source": [
    "Columnar cipher"
   ]
  },
  {
   "cell_type": "code",
   "execution_count": null,
   "metadata": {},
   "outputs": [],
   "source": [
    "import math\n",
    "def encryptMessage(msg):\n",
    "    cipher = \"\"\n",
    "    key = \"MONEY\"\n",
    "\n",
    "    k_indx = 0\n",
    "\n",
    "    msg_len = float(len(msg))\n",
    "    msg_lst = list(msg)\n",
    "    key_lst = sorted(list(key))\n",
    "\n",
    "    col = len(key)\n",
    "\n",
    "    row = int(math.ceil(msg_len / col))\n",
    "\n",
    "    fill_null = int((row * col) - msg_len)\n",
    "    msg_lst.extend('_' * fill_null)\n",
    "\n",
    "\n",
    "    matrix = [msg_lst[i: i + col]\n",
    "              for i in range(0, len(msg_lst), col)]\n",
    "\n",
    "\n",
    "    for _ in range(col):\n",
    "        curr_idx = key.index(key_lst[k_indx])\n",
    "        cipher += ''.join([row[curr_idx]\n",
    "                           for row in matrix])\n",
    "        k_indx += 1\n",
    "\n",
    "    return cipher"
   ]
  },
  {
   "cell_type": "code",
   "execution_count": 12,
   "metadata": {},
   "outputs": [
    {
     "name": "stdout",
     "output_type": "stream",
     "text": [
      "Encrypted Message: neMauerym_\n"
     ]
    }
   ],
   "source": [
    "msg = \"Mrunmayee\"\n",
    "cipher = encryptMessage(msg)\n",
    "print(\"Encrypted Message: {}\".format(cipher))"
   ]
  },
  {
   "cell_type": "code",
   "execution_count": null,
   "metadata": {},
   "outputs": [],
   "source": []
  }
 ],
 "metadata": {
  "kernelspec": {
   "display_name": "Python 3",
   "language": "python",
   "name": "python3"
  },
  "language_info": {
   "codemirror_mode": {
    "name": "ipython",
    "version": 3
   },
   "file_extension": ".py",
   "mimetype": "text/x-python",
   "name": "python",
   "nbconvert_exporter": "python",
   "pygments_lexer": "ipython3",
   "version": "3.13.2"
  }
 },
 "nbformat": 4,
 "nbformat_minor": 2
}
