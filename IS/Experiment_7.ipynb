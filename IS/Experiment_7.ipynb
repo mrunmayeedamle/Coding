{
 "cells": [
  {
   "cell_type": "markdown",
   "id": "6615be3b",
   "metadata": {},
   "source": [
    "##  Implement Message Integrity using Hash function"
   ]
  },
  {
   "cell_type": "markdown",
   "id": "e9430453",
   "metadata": {},
   "source": [
    "### 1.A) SHA-1 Hash Function\n"
   ]
  },
  {
   "cell_type": "markdown",
   "id": "d0a92431",
   "metadata": {},
   "source": [
    "#### Source Code"
   ]
  },
  {
   "cell_type": "code",
   "execution_count": 4,
   "id": "dc2c24c0",
   "metadata": {},
   "outputs": [
    {
     "name": "stdout",
     "output_type": "stream",
     "text": [
      "Sender: Message and SHA-1 hash sent to received.txt\n",
      "❌ File integrity compromised.\n"
     ]
    }
   ],
   "source": [
    "import hashlib\n",
    "\n",
    "def sha1_hash(text):\n",
    "    return hashlib.sha1(text.encode()).hexdigest()\n",
    "\n",
    "def sender():\n",
    "    with open('original.txt', 'r') as f:\n",
    "        message = f.read()\n",
    "    \n",
    "    hash_value = sha1_hash(message)\n",
    "\n",
    "    with open('received.txt', 'w') as f:\n",
    "        f.write(message + \"\\n[HASH]:\" + hash_value)\n",
    "\n",
    "    print(\"Sender: Message and SHA-1 hash sent to received.txt\")\n",
    "\n",
    "def receiver():\n",
    "    try:\n",
    "        with open('received.txt', 'r') as f:\n",
    "            content = f.read()\n",
    "            if '[HASH]:' not in content:\n",
    "                print(\"Hash not found in received file.\")\n",
    "                return\n",
    "            message, received_hash = content.split('[HASH]:')\n",
    "            computed_hash = sha1_hash(message.strip())\n",
    "            if computed_hash == received_hash.strip():\n",
    "                print(\"✅ File integrity verified using SHA-1.\")\n",
    "            else:\n",
    "                print(\"❌ File integrity compromised.\")\n",
    "    except FileNotFoundError:\n",
    "        print(\"received.txt not found.\")\n",
    "\n",
    "sender()\n",
    "receiver()\n"
   ]
  },
  {
   "cell_type": "markdown",
   "id": "36f2a702",
   "metadata": {},
   "source": [
    "### Output:"
   ]
  },
  {
   "cell_type": "markdown",
   "id": "0a1284f3",
   "metadata": {},
   "source": [
    "1) File content is same"
   ]
  },
  {
   "cell_type": "code",
   "execution_count": null,
   "id": "af4dbc59",
   "metadata": {},
   "outputs": [],
   "source": [
    "Sender: Message and SHA-1 hash sent to received.txt\n",
    "✅ File integrity verified using SHA-1."
   ]
  },
  {
   "cell_type": "markdown",
   "id": "b1f8d639",
   "metadata": {},
   "source": [
    "2. File content is different i.e compromised"
   ]
  },
  {
   "cell_type": "code",
   "execution_count": null,
   "id": "d2a6b827",
   "metadata": {},
   "outputs": [],
   "source": [
    "Sender: Message and SHA-1 hash sent to received.txt\n",
    "❌ File integrity compromised."
   ]
  },
  {
   "cell_type": "markdown",
   "id": "07b862d9",
   "metadata": {},
   "source": []
  },
  {
   "cell_type": "markdown",
   "id": "7bc38d26",
   "metadata": {},
   "source": []
  },
  {
   "cell_type": "markdown",
   "id": "6392456e",
   "metadata": {},
   "source": []
  },
  {
   "cell_type": "markdown",
   "id": "6cded42a",
   "metadata": {},
   "source": []
  },
  {
   "cell_type": "markdown",
   "id": "34d44886",
   "metadata": {},
   "source": []
  },
  {
   "cell_type": "markdown",
   "metadata": {},
   "source": []
  },
  {
   "cell_type": "markdown",
   "id": "99b95146",
   "metadata": {},
   "source": []
  },
  {
   "cell_type": "markdown",
   "id": "2a108a56",
   "metadata": {},
   "source": []
  },
  {
   "cell_type": "markdown",
   "id": "395ca31a",
   "metadata": {},
   "source": []
  },
  {
   "cell_type": "markdown",
   "id": "f02edc0b",
   "metadata": {},
   "source": []
  },
  {
   "cell_type": "markdown",
   "id": "d60f8c41",
   "metadata": {},
   "source": []
  },
  {
   "cell_type": "markdown",
   "id": "8b97e2c9",
   "metadata": {},
   "source": []
  },
  {
   "cell_type": "markdown",
   "id": "3a19c5ae",
   "metadata": {},
   "source": []
  },
  {
   "cell_type": "markdown",
   "id": "7c1b60e6",
   "metadata": {},
   "source": []
  },
  {
   "cell_type": "markdown",
   "id": "4351d0d6",
   "metadata": {},
   "source": []
  },
  {
   "cell_type": "markdown",
   "id": "4cc70aa1",
   "metadata": {},
   "source": [
    "### 1.B) SHA-256 Hash Function\n"
   ]
  },
  {
   "cell_type": "markdown",
   "id": "a090361a",
   "metadata": {},
   "source": [
    "#### Source Code"
   ]
  },
  {
   "cell_type": "code",
   "execution_count": 13,
   "id": "8428ec10",
   "metadata": {},
   "outputs": [
    {
     "name": "stdout",
     "output_type": "stream",
     "text": [
      "Sender: Message and SHA-256 hash sent to received.txt\n",
      "✅ File integrity verified using SHA-256.\n"
     ]
    }
   ],
   "source": [
    "import hashlib\n",
    "\n",
    "def sha256_hash(text):\n",
    "    return hashlib.sha256(text.encode()).hexdigest()\n",
    "\n",
    "def sender():\n",
    "    with open('original.txt', 'r') as f:\n",
    "        message = f.read()\n",
    "    \n",
    "    hash_value = sha256_hash(message)\n",
    "\n",
    "    with open('received.txt', 'w') as f:\n",
    "        f.write(message + \"\\n[HASH]:\" + hash_value)\n",
    "\n",
    "    print(\"Sender: Message and SHA-256 hash sent to received.txt\")\n",
    "\n",
    "def receiver():\n",
    "    try:\n",
    "        with open('received.txt', 'r') as f:\n",
    "            content = f.read()\n",
    "            if '[HASH]:' not in content:\n",
    "                print(\"Hash not found in received file.\")\n",
    "                return\n",
    "            message, received_hash = content.split('[HASH]:')\n",
    "            computed_hash = sha256_hash(message.strip())\n",
    "            if computed_hash == received_hash.strip():\n",
    "                print(\"✅ File integrity verified using SHA-256.\")\n",
    "            else:\n",
    "                print(\"❌ File integrity compromised.\")\n",
    "    except FileNotFoundError:\n",
    "        print(\"received.txt not found.\")\n",
    "\n",
    "sender()\n",
    "receiver()\n"
   ]
  },
  {
   "cell_type": "markdown",
   "id": "5dbf71e0",
   "metadata": {},
   "source": [
    "### Output"
   ]
  },
  {
   "cell_type": "markdown",
   "id": "a8d3a4d8",
   "metadata": {},
   "source": [
    "1) File content is same"
   ]
  },
  {
   "cell_type": "code",
   "execution_count": null,
   "id": "65647913",
   "metadata": {},
   "outputs": [],
   "source": [
    "Sender: Message and SHA-256 hash sent to received.txt\n",
    "✅ File integrity verified using SHA-256."
   ]
  },
  {
   "cell_type": "markdown",
   "id": "161d0807",
   "metadata": {},
   "source": [
    "2. File content is different i.e compromised"
   ]
  },
  {
   "cell_type": "code",
   "execution_count": null,
   "id": "2b800eb9",
   "metadata": {},
   "outputs": [],
   "source": [
    "Sender: Message and SHA-256 hash sent to received.txt\n",
    "❌ File integrity compromised."
   ]
  },
  {
   "cell_type": "markdown",
   "id": "a629a192",
   "metadata": {},
   "source": []
  },
  {
   "cell_type": "markdown",
   "id": "76bcf63f",
   "metadata": {},
   "source": []
  },
  {
   "cell_type": "markdown",
   "id": "842ea5d9",
   "metadata": {},
   "source": []
  },
  {
   "cell_type": "markdown",
   "id": "00a5a80b",
   "metadata": {},
   "source": []
  },
  {
   "cell_type": "markdown",
   "id": "5b956ea3",
   "metadata": {},
   "source": []
  },
  {
   "cell_type": "markdown",
   "id": "e315c119",
   "metadata": {},
   "source": []
  },
  {
   "cell_type": "markdown",
   "id": "997c5f28",
   "metadata": {},
   "source": []
  },
  {
   "cell_type": "markdown",
   "id": "c056f1e4",
   "metadata": {},
   "source": []
  },
  {
   "cell_type": "markdown",
   "id": "c124c004",
   "metadata": {},
   "source": []
  },
  {
   "cell_type": "markdown",
   "id": "4a843fc8",
   "metadata": {},
   "source": []
  },
  {
   "cell_type": "markdown",
   "id": "0bf2e78d",
   "metadata": {},
   "source": []
  },
  {
   "cell_type": "markdown",
   "id": "e0e32f20",
   "metadata": {},
   "source": []
  },
  {
   "cell_type": "markdown",
   "id": "1a7174af",
   "metadata": {},
   "source": []
  },
  {
   "cell_type": "markdown",
   "id": "28ab3664",
   "metadata": {},
   "source": []
  },
  {
   "cell_type": "markdown",
   "id": "3e161aa6",
   "metadata": {},
   "source": []
  },
  {
   "cell_type": "markdown",
   "id": "c6febf2c",
   "metadata": {},
   "source": [
    "### 1.C) SHA-512 Hash Function\n"
   ]
  },
  {
   "cell_type": "markdown",
   "id": "402c01df",
   "metadata": {},
   "source": [
    "#### Source Code"
   ]
  },
  {
   "cell_type": "code",
   "execution_count": 18,
   "id": "0317f68a",
   "metadata": {},
   "outputs": [
    {
     "name": "stdout",
     "output_type": "stream",
     "text": [
      "Sender: Message and SHA-512 hash sent to received.txt\n",
      "✅ File integrity verified using SHA-512.\n"
     ]
    }
   ],
   "source": [
    "import hashlib\n",
    "\n",
    "def sha512_hash(text):\n",
    "    return hashlib.sha512(text.encode()).hexdigest()\n",
    "\n",
    "def sender():\n",
    "    with open('original.txt', 'r') as f:\n",
    "        message = f.read()\n",
    "    \n",
    "    hash_value = sha512_hash(message)\n",
    "\n",
    "    with open('received.txt', 'w') as f:\n",
    "        f.write(message + \"\\n[HASH]:\" + hash_value)\n",
    "\n",
    "    print(\"Sender: Message and SHA-512 hash sent to received.txt\")\n",
    "\n",
    "def receiver():\n",
    "    try:\n",
    "        with open('received.txt', 'r') as f:\n",
    "            content = f.read()\n",
    "            if '[HASH]:' not in content:\n",
    "                print(\"Hash not found in received file.\")\n",
    "                return\n",
    "            message, received_hash = content.split('[HASH]:')\n",
    "            computed_hash = sha512_hash(message.strip())\n",
    "            if computed_hash == received_hash.strip():\n",
    "                print(\"✅ File integrity verified using SHA-512.\")\n",
    "            else:\n",
    "                print(\"❌ File integrity compromised.\")\n",
    "    except FileNotFoundError:\n",
    "        print(\"received.txt not found.\")\n",
    "\n",
    "sender()\n",
    "receiver()\n"
   ]
  },
  {
   "cell_type": "markdown",
   "id": "a23a9b83",
   "metadata": {},
   "source": [
    "### Output"
   ]
  },
  {
   "cell_type": "markdown",
   "id": "8bb7b1b0",
   "metadata": {},
   "source": [
    "1) File content is same"
   ]
  },
  {
   "cell_type": "code",
   "execution_count": null,
   "id": "3cdac6bf",
   "metadata": {},
   "outputs": [],
   "source": [
    "Sender: Message and SHA-512 hash sent to received.txt\n",
    "✅ File integrity verified using SHA-512."
   ]
  },
  {
   "cell_type": "markdown",
   "id": "f345f7c1",
   "metadata": {},
   "source": [
    "2. File content is different i.e compromised"
   ]
  },
  {
   "cell_type": "code",
   "execution_count": null,
   "id": "2789c336",
   "metadata": {},
   "outputs": [],
   "source": [
    "Sender: Message and SHA-512 hash sent to received.txt\n",
    "❌ File integrity compromised."
   ]
  },
  {
   "cell_type": "markdown",
   "id": "dde75b83",
   "metadata": {},
   "source": []
  },
  {
   "cell_type": "markdown",
   "id": "51acce09",
   "metadata": {},
   "source": []
  },
  {
   "cell_type": "markdown",
   "id": "00b95c50",
   "metadata": {},
   "source": []
  },
  {
   "cell_type": "markdown",
   "id": "a28bab65",
   "metadata": {},
   "source": []
  },
  {
   "cell_type": "markdown",
   "id": "ac5a9611",
   "metadata": {},
   "source": []
  },
  {
   "cell_type": "markdown",
   "id": "87d27c01",
   "metadata": {},
   "source": []
  },
  {
   "cell_type": "markdown",
   "id": "6968db8d",
   "metadata": {},
   "source": []
  },
  {
   "cell_type": "markdown",
   "id": "c2019e13",
   "metadata": {},
   "source": []
  },
  {
   "cell_type": "markdown",
   "id": "de529606",
   "metadata": {},
   "source": []
  },
  {
   "cell_type": "markdown",
   "id": "319cfd67",
   "metadata": {},
   "source": []
  },
  {
   "cell_type": "markdown",
   "id": "bcd4353c",
   "metadata": {},
   "source": []
  },
  {
   "cell_type": "markdown",
   "id": "d79190e2",
   "metadata": {},
   "source": []
  },
  {
   "cell_type": "markdown",
   "id": "0cefb092",
   "metadata": {},
   "source": []
  },
  {
   "cell_type": "markdown",
   "id": "8b9db008",
   "metadata": {},
   "source": []
  },
  {
   "cell_type": "markdown",
   "id": "adf9415d",
   "metadata": {},
   "source": []
  },
  {
   "cell_type": "markdown",
   "id": "9e887350",
   "metadata": {},
   "source": [
    "### 2) MD5 Hash Function"
   ]
  },
  {
   "cell_type": "markdown",
   "id": "de06cb66",
   "metadata": {},
   "source": [
    "#### Source Code"
   ]
  },
  {
   "cell_type": "code",
   "execution_count": 20,
   "id": "b0e80557",
   "metadata": {},
   "outputs": [
    {
     "name": "stdout",
     "output_type": "stream",
     "text": [
      "Sender: Message and MD5 hash sent to received.txt\n",
      "✅ File integrity verified using MD5.\n"
     ]
    }
   ],
   "source": [
    "import hashlib\n",
    "\n",
    "def md5_hash(text):\n",
    "    return hashlib.md5(text.encode()).hexdigest()\n",
    "\n",
    "def sender():\n",
    "    with open('original.txt', 'r') as f:\n",
    "        message = f.read()\n",
    "    \n",
    "    hash_value = md5_hash(message)\n",
    "\n",
    "    with open('received.txt', 'w') as f:\n",
    "        f.write(message + \"\\n[HASH]:\" + hash_value)\n",
    "\n",
    "    print(\"Sender: Message and MD5 hash sent to received.txt\")\n",
    "\n",
    "def receiver():\n",
    "    try:\n",
    "        with open('received.txt', 'r') as f:\n",
    "            content = f.read()\n",
    "            if '[HASH]:' not in content:\n",
    "                print(\"Hash not found in received file.\")\n",
    "                return\n",
    "            message, received_hash = content.split('[HASH]:')\n",
    "            computed_hash = md5_hash(message.strip())\n",
    "            if computed_hash == received_hash.strip():\n",
    "                print(\"✅ File integrity verified using MD5.\")\n",
    "            else:\n",
    "                print(\"❌ File integrity compromised.\")\n",
    "    except FileNotFoundError:\n",
    "        print(\"received.txt not found.\")\n",
    "\n",
    "sender()\n",
    "receiver()\n"
   ]
  },
  {
   "cell_type": "markdown",
   "id": "c2e9d9f5",
   "metadata": {},
   "source": [
    "### Output"
   ]
  },
  {
   "cell_type": "markdown",
   "id": "9b9102b4",
   "metadata": {},
   "source": [
    "1) File content is same"
   ]
  },
  {
   "cell_type": "code",
   "execution_count": null,
   "id": "ecc2a9ca",
   "metadata": {},
   "outputs": [],
   "source": [
    "Sender: Message and MD5 hash sent to received.txt\n",
    "✅ File integrity verified using MD5."
   ]
  },
  {
   "cell_type": "markdown",
   "id": "1ee1eedf",
   "metadata": {},
   "source": [
    "2. File content is different i.e compromised"
   ]
  },
  {
   "cell_type": "code",
   "execution_count": null,
   "id": "e48cda29",
   "metadata": {},
   "outputs": [],
   "source": [
    "Sender: Message and MD5 hash sent to received.txt\n",
    "❌ File integrity compromised."
   ]
  },
  {
   "cell_type": "markdown",
   "id": "617184da",
   "metadata": {},
   "source": []
  },
  {
   "cell_type": "markdown",
   "id": "219302c9",
   "metadata": {},
   "source": []
  },
  {
   "cell_type": "markdown",
   "id": "df2c1a45",
   "metadata": {},
   "source": []
  },
  {
   "cell_type": "markdown",
   "id": "d79e17b6",
   "metadata": {},
   "source": []
  },
  {
   "cell_type": "markdown",
   "id": "3c1b3b2f",
   "metadata": {},
   "source": []
  },
  {
   "cell_type": "markdown",
   "id": "eb05209f",
   "metadata": {},
   "source": []
  },
  {
   "cell_type": "markdown",
   "id": "bc371acf",
   "metadata": {},
   "source": []
  },
  {
   "cell_type": "markdown",
   "id": "44fce8dd",
   "metadata": {},
   "source": []
  },
  {
   "cell_type": "markdown",
   "id": "732a66cd",
   "metadata": {},
   "source": []
  },
  {
   "cell_type": "markdown",
   "id": "2fad99e1",
   "metadata": {},
   "source": []
  },
  {
   "cell_type": "markdown",
   "id": "d4a9850b",
   "metadata": {},
   "source": []
  },
  {
   "cell_type": "markdown",
   "id": "a40c9ef6",
   "metadata": {},
   "source": []
  },
  {
   "cell_type": "markdown",
   "id": "316a03e2",
   "metadata": {},
   "source": []
  },
  {
   "cell_type": "markdown",
   "id": "eac0ee51",
   "metadata": {},
   "source": []
  },
  {
   "cell_type": "markdown",
   "id": "c87833bd",
   "metadata": {},
   "source": []
  }
 ],
 "metadata": {
  "kernelspec": {
   "display_name": "Python 3",
   "language": "python",
   "name": "python3"
  },
  "language_info": {
   "codemirror_mode": {
    "name": "ipython",
    "version": 3
   },
   "file_extension": ".py",
   "mimetype": "text/x-python",
   "name": "python",
   "nbconvert_exporter": "python",
   "pygments_lexer": "ipython3",
   "version": "3.10.0"
  }
 },
 "nbformat": 4,
 "nbformat_minor": 5
}
