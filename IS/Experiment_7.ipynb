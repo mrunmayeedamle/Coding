{
 "cells": [
  {
   "cell_type": "markdown",
   "id": "6615be3b",
   "metadata": {},
   "source": [
    "##  Implement Message Integrity using Hash function"
   ]
  },
  {
   "cell_type": "markdown",
   "id": "e9430453",
   "metadata": {},
   "source": [
    "### 1) SHA-1 Hash Function\n"
   ]
  },
  {
   "cell_type": "markdown",
   "id": "d0a92431",
   "metadata": {},
   "source": [
    "#### Source Code"
   ]
  },
  {
   "cell_type": "code",
   "execution_count": null,
   "id": "dc2c24c0",
   "metadata": {},
   "outputs": [],
   "source": [
    "import hashlib\n",
    "\n",
    "def sha1_hash(file_path):\n",
    "    sha1 = hashlib.sha1()\n",
    "    try:\n",
    "        with open(file_path, 'rb') as f:\n",
    "            while chunk := f.read(8192):\n",
    "                sha1.update(chunk)\n",
    "        return sha1.hexdigest()\n",
    "    except FileNotFoundError:\n",
    "        return \"File not found.\"\n",
    "\n",
    "def send_hashed_file(hash_value, path='received.txt'):\n",
    "    with open(path, 'w') as f:\n",
    "        f.write(hash_value)\n",
    "\n",
    "def check_file_integrity():\n",
    "    original_hash = sha1_hash('original.txt')\n",
    "\n",
    "    if original_hash == \"File not found.\":\n",
    "        print(\"Original file not found.\")\n",
    "        return\n",
    "\n",
    "    print(\"Original SHA-1 hash:\", original_hash)\n",
    "\n",
    "    send_hashed_file(original_hash)\n",
    "    print(\"Hash sent to receiver (received.txt)\")\n",
    "\n",
    "    try:\n",
    "        with open('received.txt', 'r') as f:\n",
    "            receiver_hash = f.read().strip()\n",
    "    except FileNotFoundError:\n",
    "        print(\"Hash file (received.txt) not found.\")\n",
    "        return\n",
    "\n",
    "    if original_hash == receiver_hash:\n",
    "        print(\"✅ File integrity verified.\")\n",
    "    else:\n",
    "        print(\"❌ File integrity compromised.\")\n",
    "\n",
    "check_file_integrity()\n"
   ]
  },
  {
   "cell_type": "markdown",
   "id": "36f2a702",
   "metadata": {},
   "source": [
    "### Output:"
   ]
  },
  {
   "cell_type": "markdown",
   "id": "74817b86",
   "metadata": {},
   "source": [
    "1) original.txt (Main text) : Hello. This is the Sender. I'm sending this file 'original.txt' to the receiver.\n",
    "2) recieved.txt (Hashed text) : 71f0a0cfb76b73ca2c6ed68bd4db98fa49a34a3a"
   ]
  },
  {
   "cell_type": "code",
   "execution_count": null,
   "id": "af4dbc59",
   "metadata": {},
   "outputs": [],
   "source": [
    "Original SHA-1 hash: 71f0a0cfb76b73ca2c6ed68bd4db98fa49a34a3a\n",
    "Hash sent to receiver (received.txt)\n",
    "✅ File integrity verified."
   ]
  },
  {
   "cell_type": "markdown",
   "id": "9e887350",
   "metadata": {},
   "source": [
    "### 2) MD5 Hash Function"
   ]
  },
  {
   "cell_type": "markdown",
   "id": "de06cb66",
   "metadata": {},
   "source": [
    "#### Source Code"
   ]
  },
  {
   "cell_type": "code",
   "execution_count": null,
   "id": "b0e80557",
   "metadata": {},
   "outputs": [],
   "source": [
    "import hashlib\n",
    "\n",
    "def md5_hash(file_path):\n",
    "    md5 = hashlib.md5()\n",
    "    try:\n",
    "        with open(file_path, 'rb') as f:\n",
    "            while chunk := f.read(8192):\n",
    "                md5.update(chunk)\n",
    "        return md5.hexdigest()\n",
    "    except FileNotFoundError:\n",
    "        return \"File not found.\"\n",
    "\n",
    "def send_hashed_file(hash_value, path='received.txt'):\n",
    "    with open(path, 'w') as f:\n",
    "        f.write(hash_value)\n",
    "\n",
    "def check_file_integrity_md5():\n",
    "    original_hash = md5_hash('original.txt')\n",
    "\n",
    "    if original_hash == \"File not found.\":\n",
    "        print(\"Original file not found.\")\n",
    "        return\n",
    "\n",
    "    print(\"Original MD5 hash:\", original_hash)\n",
    "\n",
    "    send_hashed_file(original_hash)\n",
    "    print(\"Hash sent to receiver (received.txt).\")\n",
    "\n",
    "    try:\n",
    "        with open('received.txt', 'r') as f:\n",
    "            receiver_hash = f.read().strip()\n",
    "    except FileNotFoundError:\n",
    "        print(\"Hash file (received.txt) not found.\")\n",
    "        return\n",
    "\n",
    "    if original_hash == receiver_hash:\n",
    "        print(\"✅ File integrity verified.\")\n",
    "    else:\n",
    "        print(\"❌ File integrity compromised.\")\n",
    "\n",
    "check_file_integrity_md5()\n"
   ]
  },
  {
   "cell_type": "markdown",
   "id": "c2e9d9f5",
   "metadata": {},
   "source": [
    "### Output"
   ]
  },
  {
   "cell_type": "markdown",
   "id": "f0c36cf7",
   "metadata": {},
   "source": [
    "1) original.txt (Main text) : Hello. This is the Sender. I'm sending this file 'original.txt' to the receiver with MD5 Hash function\n",
    "2) recieved.txt (Hashed text) : f56f4a57d14ab5db4c05b75f675bdbfb"
   ]
  },
  {
   "cell_type": "code",
   "execution_count": null,
   "id": "ecc2a9ca",
   "metadata": {},
   "outputs": [],
   "source": [
    "Original MD5 hash: f56f4a57d14ab5db4c05b75f675bdbfb\n",
    "Hash sent to receiver (received.txt).\n",
    "✅ File integrity verified."
   ]
  }
 ],
 "metadata": {
  "kernelspec": {
   "display_name": "Python 3",
   "language": "python",
   "name": "python3"
  },
  "language_info": {
   "codemirror_mode": {
    "name": "ipython",
    "version": 3
   },
   "file_extension": ".py",
   "mimetype": "text/x-python",
   "name": "python",
   "nbconvert_exporter": "python",
   "pygments_lexer": "ipython3",
   "version": "3.10.0"
  }
 },
 "nbformat": 4,
 "nbformat_minor": 5
}
