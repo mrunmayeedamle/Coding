{
 "cells": [
  {
   "cell_type": "markdown",
   "id": "09495ae1",
   "metadata": {},
   "source": [
    "### Support Vector Regression"
   ]
  },
  {
   "cell_type": "code",
   "execution_count": 1,
   "id": "7d38e7a5",
   "metadata": {},
   "outputs": [],
   "source": [
    "import pandas as pd\n",
    "import seaborn as sns\n",
    "\n",
    "from sklearn.svm import SVR\n",
    "from sklearn.model_selection import train_test_split\n",
    "from sklearn.metrics import mean_squared_error, r2_score"
   ]
  },
  {
   "cell_type": "code",
   "execution_count": 2,
   "id": "38dc70bd",
   "metadata": {},
   "outputs": [],
   "source": [
    "df = pd.read_csv(r'D:\\my stuff\\Coding\\ML\\defence_stock_price.csv')"
   ]
  },
  {
   "cell_type": "code",
   "execution_count": 3,
   "id": "7512cb76",
   "metadata": {},
   "outputs": [
    {
     "name": "stdout",
     "output_type": "stream",
     "text": [
      "<class 'pandas.core.frame.DataFrame'>\n",
      "RangeIndex: 953 entries, 0 to 952\n",
      "Data columns (total 7 columns):\n",
      " #   Column     Non-Null Count  Dtype  \n",
      "---  ------     --------------  -----  \n",
      " 0   Date       953 non-null    object \n",
      " 1   Open       953 non-null    float64\n",
      " 2   High       953 non-null    float64\n",
      " 3   Low        953 non-null    float64\n",
      " 4   Close      953 non-null    float64\n",
      " 5   Adj Close  953 non-null    float64\n",
      " 6   Volume     953 non-null    int64  \n",
      "dtypes: float64(5), int64(1), object(1)\n",
      "memory usage: 52.2+ KB\n"
     ]
    }
   ],
   "source": [
    "df.info()"
   ]
  },
  {
   "cell_type": "code",
   "execution_count": 4,
   "id": "8288cfa4",
   "metadata": {},
   "outputs": [
    {
     "data": {
      "text/html": [
       "<div>\n",
       "<style scoped>\n",
       "    .dataframe tbody tr th:only-of-type {\n",
       "        vertical-align: middle;\n",
       "    }\n",
       "\n",
       "    .dataframe tbody tr th {\n",
       "        vertical-align: top;\n",
       "    }\n",
       "\n",
       "    .dataframe thead th {\n",
       "        text-align: right;\n",
       "    }\n",
       "</style>\n",
       "<table border=\"1\" class=\"dataframe\">\n",
       "  <thead>\n",
       "    <tr style=\"text-align: right;\">\n",
       "      <th></th>\n",
       "      <th>Open</th>\n",
       "      <th>High</th>\n",
       "      <th>Low</th>\n",
       "      <th>Close</th>\n",
       "      <th>Adj Close</th>\n",
       "      <th>Volume</th>\n",
       "    </tr>\n",
       "  </thead>\n",
       "  <tbody>\n",
       "    <tr>\n",
       "      <th>count</th>\n",
       "      <td>953.000000</td>\n",
       "      <td>953.000000</td>\n",
       "      <td>953.000000</td>\n",
       "      <td>953.000000</td>\n",
       "      <td>953.000000</td>\n",
       "      <td>9.530000e+02</td>\n",
       "    </tr>\n",
       "    <tr>\n",
       "      <th>mean</th>\n",
       "      <td>97.150902</td>\n",
       "      <td>102.722452</td>\n",
       "      <td>92.379521</td>\n",
       "      <td>97.076971</td>\n",
       "      <td>90.204363</td>\n",
       "      <td>1.935141e+06</td>\n",
       "    </tr>\n",
       "    <tr>\n",
       "      <th>std</th>\n",
       "      <td>60.654891</td>\n",
       "      <td>64.173825</td>\n",
       "      <td>57.859788</td>\n",
       "      <td>60.778104</td>\n",
       "      <td>60.823523</td>\n",
       "      <td>2.796242e+06</td>\n",
       "    </tr>\n",
       "    <tr>\n",
       "      <th>min</th>\n",
       "      <td>23.200001</td>\n",
       "      <td>24.950001</td>\n",
       "      <td>21.966665</td>\n",
       "      <td>23.200001</td>\n",
       "      <td>19.980383</td>\n",
       "      <td>4.246500e+04</td>\n",
       "    </tr>\n",
       "    <tr>\n",
       "      <th>25%</th>\n",
       "      <td>43.733334</td>\n",
       "      <td>46.299999</td>\n",
       "      <td>41.833332</td>\n",
       "      <td>43.500000</td>\n",
       "      <td>38.378746</td>\n",
       "      <td>4.703090e+05</td>\n",
       "    </tr>\n",
       "    <tr>\n",
       "      <th>50%</th>\n",
       "      <td>95.000000</td>\n",
       "      <td>99.333336</td>\n",
       "      <td>88.500000</td>\n",
       "      <td>93.949997</td>\n",
       "      <td>84.911644</td>\n",
       "      <td>1.014542e+06</td>\n",
       "    </tr>\n",
       "    <tr>\n",
       "      <th>75%</th>\n",
       "      <td>122.500000</td>\n",
       "      <td>128.699997</td>\n",
       "      <td>116.250000</td>\n",
       "      <td>122.550003</td>\n",
       "      <td>113.598564</td>\n",
       "      <td>2.105121e+06</td>\n",
       "    </tr>\n",
       "    <tr>\n",
       "      <th>max</th>\n",
       "      <td>357.899994</td>\n",
       "      <td>374.500000</td>\n",
       "      <td>336.250000</td>\n",
       "      <td>356.700012</td>\n",
       "      <td>356.700012</td>\n",
       "      <td>2.876026e+07</td>\n",
       "    </tr>\n",
       "  </tbody>\n",
       "</table>\n",
       "</div>"
      ],
      "text/plain": [
       "             Open        High         Low       Close   Adj Close  \\\n",
       "count  953.000000  953.000000  953.000000  953.000000  953.000000   \n",
       "mean    97.150902  102.722452   92.379521   97.076971   90.204363   \n",
       "std     60.654891   64.173825   57.859788   60.778104   60.823523   \n",
       "min     23.200001   24.950001   21.966665   23.200001   19.980383   \n",
       "25%     43.733334   46.299999   41.833332   43.500000   38.378746   \n",
       "50%     95.000000   99.333336   88.500000   93.949997   84.911644   \n",
       "75%    122.500000  128.699997  116.250000  122.550003  113.598564   \n",
       "max    357.899994  374.500000  336.250000  356.700012  356.700012   \n",
       "\n",
       "             Volume  \n",
       "count  9.530000e+02  \n",
       "mean   1.935141e+06  \n",
       "std    2.796242e+06  \n",
       "min    4.246500e+04  \n",
       "25%    4.703090e+05  \n",
       "50%    1.014542e+06  \n",
       "75%    2.105121e+06  \n",
       "max    2.876026e+07  "
      ]
     },
     "execution_count": 4,
     "metadata": {},
     "output_type": "execute_result"
    }
   ],
   "source": [
    "df.describe()"
   ]
  },
  {
   "cell_type": "code",
   "execution_count": 5,
   "id": "776e2a41",
   "metadata": {},
   "outputs": [
    {
     "data": {
      "text/html": [
       "<div>\n",
       "<style scoped>\n",
       "    .dataframe tbody tr th:only-of-type {\n",
       "        vertical-align: middle;\n",
       "    }\n",
       "\n",
       "    .dataframe tbody tr th {\n",
       "        vertical-align: top;\n",
       "    }\n",
       "\n",
       "    .dataframe thead th {\n",
       "        text-align: right;\n",
       "    }\n",
       "</style>\n",
       "<table border=\"1\" class=\"dataframe\">\n",
       "  <thead>\n",
       "    <tr style=\"text-align: right;\">\n",
       "      <th></th>\n",
       "      <th>Open</th>\n",
       "      <th>High</th>\n",
       "      <th>Low</th>\n",
       "      <th>Close</th>\n",
       "      <th>Adj Close</th>\n",
       "      <th>Volume</th>\n",
       "    </tr>\n",
       "  </thead>\n",
       "  <tbody>\n",
       "    <tr>\n",
       "      <th>Open</th>\n",
       "      <td>1.000000</td>\n",
       "      <td>0.994999</td>\n",
       "      <td>0.996369</td>\n",
       "      <td>0.991361</td>\n",
       "      <td>0.987203</td>\n",
       "      <td>0.215374</td>\n",
       "    </tr>\n",
       "    <tr>\n",
       "      <th>High</th>\n",
       "      <td>0.994999</td>\n",
       "      <td>1.000000</td>\n",
       "      <td>0.995484</td>\n",
       "      <td>0.997601</td>\n",
       "      <td>0.992776</td>\n",
       "      <td>0.261554</td>\n",
       "    </tr>\n",
       "    <tr>\n",
       "      <th>Low</th>\n",
       "      <td>0.996369</td>\n",
       "      <td>0.995484</td>\n",
       "      <td>1.000000</td>\n",
       "      <td>0.995764</td>\n",
       "      <td>0.992416</td>\n",
       "      <td>0.221373</td>\n",
       "    </tr>\n",
       "    <tr>\n",
       "      <th>Close</th>\n",
       "      <td>0.991361</td>\n",
       "      <td>0.997601</td>\n",
       "      <td>0.995764</td>\n",
       "      <td>1.000000</td>\n",
       "      <td>0.995884</td>\n",
       "      <td>0.260382</td>\n",
       "    </tr>\n",
       "    <tr>\n",
       "      <th>Adj Close</th>\n",
       "      <td>0.987203</td>\n",
       "      <td>0.992776</td>\n",
       "      <td>0.992416</td>\n",
       "      <td>0.995884</td>\n",
       "      <td>1.000000</td>\n",
       "      <td>0.268798</td>\n",
       "    </tr>\n",
       "    <tr>\n",
       "      <th>Volume</th>\n",
       "      <td>0.215374</td>\n",
       "      <td>0.261554</td>\n",
       "      <td>0.221373</td>\n",
       "      <td>0.260382</td>\n",
       "      <td>0.268798</td>\n",
       "      <td>1.000000</td>\n",
       "    </tr>\n",
       "  </tbody>\n",
       "</table>\n",
       "</div>"
      ],
      "text/plain": [
       "               Open      High       Low     Close  Adj Close    Volume\n",
       "Open       1.000000  0.994999  0.996369  0.991361   0.987203  0.215374\n",
       "High       0.994999  1.000000  0.995484  0.997601   0.992776  0.261554\n",
       "Low        0.996369  0.995484  1.000000  0.995764   0.992416  0.221373\n",
       "Close      0.991361  0.997601  0.995764  1.000000   0.995884  0.260382\n",
       "Adj Close  0.987203  0.992776  0.992416  0.995884   1.000000  0.268798\n",
       "Volume     0.215374  0.261554  0.221373  0.260382   0.268798  1.000000"
      ]
     },
     "execution_count": 5,
     "metadata": {},
     "output_type": "execute_result"
    }
   ],
   "source": [
    "my_df = df.select_dtypes(exclude=[object])\n",
    "my_df.corr()"
   ]
  },
  {
   "cell_type": "code",
   "execution_count": 6,
   "id": "5ca5e4b5",
   "metadata": {},
   "outputs": [],
   "source": [
    "df1 = df[['Open', 'High', 'Low', 'Close', 'Adj Close', 'Volume']]"
   ]
  },
  {
   "cell_type": "code",
   "execution_count": 7,
   "id": "2a19c897",
   "metadata": {},
   "outputs": [
    {
     "data": {
      "text/plain": [
       "Open         0\n",
       "High         0\n",
       "Low          0\n",
       "Close        0\n",
       "Adj Close    0\n",
       "Volume       0\n",
       "dtype: int64"
      ]
     },
     "execution_count": 7,
     "metadata": {},
     "output_type": "execute_result"
    }
   ],
   "source": [
    "df1.isnull().sum()"
   ]
  },
  {
   "cell_type": "code",
   "execution_count": 8,
   "id": "7cb1c1f2",
   "metadata": {},
   "outputs": [
    {
     "data": {
      "text/plain": [
       "<Axes: ylabel='Open'>"
      ]
     },
     "execution_count": 8,
     "metadata": {},
     "output_type": "execute_result"
    },
    {
     "data": {
      "image/png": "[encoded data removed]",
      "text/plain": [
       "<Figure size 640x480 with 1 Axes>"
      ]
     },
     "metadata": {},
     "output_type": "display_data"
    }
   ],
   "source": [
    "sns.boxplot(df1.Open)"
   ]
  },
  {
   "cell_type": "code",
   "execution_count": 9,
   "id": "a44cb6c4",
   "metadata": {},
   "outputs": [
    {
     "data": {
      "text/plain": [
       "<Axes: ylabel='Close'>"
      ]
     },
     "execution_count": 9,
     "metadata": {},
     "output_type": "execute_result"
    },
    {
     "data": {
      "image/png": "[encoded data removed]",
      "text/plain": [
       "<Figure size 640x480 with 1 Axes>"
      ]
     },
     "metadata": {},
     "output_type": "display_data"
    }
   ],
   "source": [
    "sns.boxplot(df1.Close)"
   ]
  },
  {
   "cell_type": "code",
   "execution_count": 10,
   "id": "d393aedf",
   "metadata": {},
   "outputs": [
    {
     "data": {
      "text/plain": [
       "<Axes: ylabel='High'>"
      ]
     },
     "execution_count": 10,
     "metadata": {},
     "output_type": "execute_result"
    },
    {
     "data": {
      "image/png": "[encoded data removed]",
      "text/plain": [
       "<Figure size 640x480 with 1 Axes>"
      ]
     },
     "metadata": {},
     "output_type": "display_data"
    }
   ],
   "source": [
    "sns.boxplot(df1.High)"
   ]
  },
  {
   "cell_type": "code",
   "execution_count": 11,
   "id": "d4bcd775",
   "metadata": {},
   "outputs": [
    {
     "data": {
      "text/plain": [
       "<Axes: ylabel='Low'>"
      ]
     },
     "execution_count": 11,
     "metadata": {},
     "output_type": "execute_result"
    },
    {
     "data": {
      "image/png": "[encoded data removed]",
      "text/plain": [
       "<Figure size 640x480 with 1 Axes>"
      ]
     },
     "metadata": {},
     "output_type": "display_data"
    }
   ],
   "source": [
    "sns.boxplot(df1.Low)"
   ]
  },
  {
   "cell_type": "code",
   "execution_count": 12,
   "id": "92dab47b",
   "metadata": {},
   "outputs": [
    {
     "data": {
      "text/plain": [
       "<Axes: ylabel='Adj Close'>"
      ]
     },
     "execution_count": 12,
     "metadata": {},
     "output_type": "execute_result"
    },
    {
     "data": {
      "image/png": "[encoded data removed]",
      "text/plain": [
       "<Figure size 640x480 with 1 Axes>"
      ]
     },
     "metadata": {},
     "output_type": "display_data"
    }
   ],
   "source": [
    "sns.boxplot(df1['Adj Close'])"
   ]
  },
  {
   "cell_type": "code",
   "execution_count": 13,
   "id": "67ce1dec",
   "metadata": {},
   "outputs": [
    {
     "data": {
      "text/plain": [
       "<Axes: ylabel='Volume'>"
      ]
     },
     "execution_count": 13,
     "metadata": {},
     "output_type": "execute_result"
    },
    {
     "data": {
      "image/png": "[encoded data removed]",
      "text/plain": [
       "<Figure size 640x480 with 1 Axes>"
      ]
     },
     "metadata": {},
     "output_type": "display_data"
    }
   ],
   "source": [
    "sns.boxplot(df1.Volume)"
   ]
  },
  {
   "cell_type": "code",
   "execution_count": 14,
   "id": "f28b8e84",
   "metadata": {},
   "outputs": [
    {
     "data": {
      "text/plain": [
       "<Axes: ylabel='Open'>"
      ]
     },
     "execution_count": 14,
     "metadata": {},
     "output_type": "execute_result"
    },
    {
     "data": {
      "image/png": "[encoded data removed]",
      "text/plain": [
       "<Figure size 640x480 with 1 Axes>"
      ]
     },
     "metadata": {},
     "output_type": "display_data"
    }
   ],
   "source": [
    "Q1 = df1['Open'].quantile(0.25)\n",
    "Q3 = df1['Open'].quantile(0.75)\n",
    "IQR = Q3 - Q1\n",
    "\n",
    "l_limit = Q1 - 1.5 * IQR\n",
    "u_limit = Q3 + 1.5 * IQR\n",
    "\n",
    "df2 = df1[(df1['Open'] > l_limit) & (df1['Open'] < u_limit)]\n",
    "sns.boxplot(df2['Open'])"
   ]
  },
  {
   "cell_type": "code",
   "execution_count": 15,
   "id": "8cb0c9b3",
   "metadata": {},
   "outputs": [
    {
     "data": {
      "text/plain": [
       "<Axes: ylabel='Close'>"
      ]
     },
     "execution_count": 15,
     "metadata": {},
     "output_type": "execute_result"
    },
    {
     "data": {
      "image/png": "[encoded data removed]",
      "text/plain": [
       "<Figure size 640x480 with 1 Axes>"
      ]
     },
     "metadata": {},
     "output_type": "display_data"
    }
   ],
   "source": [
    "Q1 = df1['Close'].quantile(0.25)\n",
    "Q3 = df1['Close'].quantile(0.75)\n",
    "IQR = Q3 - Q1\n",
    "\n",
    "l_limit = Q1 - 1.5 * IQR\n",
    "u_limit = Q3 + 1.5 * IQR\n",
    "\n",
    "df2 = df1[(df1['Close'] > l_limit) & (df1['Close'] < u_limit)]\n",
    "sns.boxplot(df2['Close'])"
   ]
  },
  {
   "cell_type": "code",
   "execution_count": 16,
   "id": "0c52ece2",
   "metadata": {},
   "outputs": [
    {
     "data": {
      "text/plain": [
       "<Axes: ylabel='High'>"
      ]
     },
     "execution_count": 16,
     "metadata": {},
     "output_type": "execute_result"
    },
    {
     "data": {
      "image/png": "[encoded data removed]",
      "text/plain": [
       "<Figure size 640x480 with 1 Axes>"
      ]
     },
     "metadata": {},
     "output_type": "display_data"
    }
   ],
   "source": [
    "Q1 = df1['High'].quantile(0.25)\n",
    "Q3 = df1['High'].quantile(0.75)\n",
    "IQR = Q3 - Q1\n",
    "\n",
    "l_limit = Q1 - 1.5 * IQR\n",
    "u_limit = Q3 + 1.5 * IQR\n",
    "\n",
    "df2 = df1[(df1['High'] > l_limit) & (df1['High'] < u_limit)]\n",
    "sns.boxplot(df2['High'])"
   ]
  },
  {
   "cell_type": "code",
   "execution_count": 17,
   "id": "d53c1c13",
   "metadata": {},
   "outputs": [
    {
     "data": {
      "text/plain": [
       "<Axes: ylabel='Low'>"
      ]
     },
     "execution_count": 17,
     "metadata": {},
     "output_type": "execute_result"
    },
    {
     "data": {
      "image/png": "[encoded data removed]",
      "text/plain": [
       "<Figure size 640x480 with 1 Axes>"
      ]
     },
     "metadata": {},
     "output_type": "display_data"
    }
   ],
   "source": [
    "Q1 = df1['Low'].quantile(0.25)\n",
    "Q3 = df1['Low'].quantile(0.75)\n",
    "IQR = Q3 - Q1\n",
    "\n",
    "l_limit = Q1 - 1.5 * IQR\n",
    "u_limit = Q3 + 1.5 * IQR\n",
    "\n",
    "df2 = df1[(df1['Low'] > l_limit) & (df1['Low'] < u_limit)]\n",
    "sns.boxplot(df2['Low'])"
   ]
  },
  {
   "cell_type": "code",
   "execution_count": 18,
   "id": "bb446b3b",
   "metadata": {},
   "outputs": [
    {
     "data": {
      "text/plain": [
       "<Axes: ylabel='Adj Close'>"
      ]
     },
     "execution_count": 18,
     "metadata": {},
     "output_type": "execute_result"
    },
    {
     "data": {
      "image/png": "[encoded data removed]",
      "text/plain": [
       "<Figure size 640x480 with 1 Axes>"
      ]
     },
     "metadata": {},
     "output_type": "display_data"
    }
   ],
   "source": [
    "Q1 = df1['Adj Close'].quantile(0.25)\n",
    "Q3 = df1['Adj Close'].quantile(0.75)\n",
    "IQR = Q3 - Q1\n",
    "\n",
    "l_limit = Q1 - 1.5 * IQR\n",
    "u_limit = Q3 + 1.5 * IQR\n",
    "\n",
    "df2 = df1[(df1['Adj Close'] > l_limit) & (df1['Adj Close'] < u_limit)]\n",
    "sns.boxplot(df2['Adj Close'])"
   ]
  },
  {
   "cell_type": "code",
   "execution_count": 19,
   "id": "e8065acd",
   "metadata": {},
   "outputs": [
    {
     "data": {
      "text/plain": [
       "<Axes: ylabel='Volume'>"
      ]
     },
     "execution_count": 19,
     "metadata": {},
     "output_type": "execute_result"
    },
    {
     "data": {
      "image/png": "[encoded data removed]",
      "text/plain": [
       "<Figure size 640x480 with 1 Axes>"
      ]
     },
     "metadata": {},
     "output_type": "display_data"
    }
   ],
   "source": [
    "Q1 = df1['Volume'].quantile(0.25)\n",
    "Q3 = df1['Volume'].quantile(0.75)\n",
    "IQR = Q3 - Q1\n",
    "\n",
    "l_limit = Q1 - 1.5 * IQR\n",
    "u_limit = Q3 + 1.5 * IQR\n",
    "\n",
    "df2 = df1[(df1['Volume'] > l_limit) & (df1['Volume'] < u_limit)]\n",
    "sns.boxplot(df2['Volume'])"
   ]
  },
  {
   "cell_type": "code",
   "execution_count": 20,
   "id": "9409d613",
   "metadata": {},
   "outputs": [
    {
     "name": "stdout",
     "output_type": "stream",
     "text": [
      "<class 'pandas.core.frame.DataFrame'>\n",
      "Index: 859 entries, 0 to 952\n",
      "Data columns (total 6 columns):\n",
      " #   Column     Non-Null Count  Dtype  \n",
      "---  ------     --------------  -----  \n",
      " 0   Open       859 non-null    float64\n",
      " 1   High       859 non-null    float64\n",
      " 2   Low        859 non-null    float64\n",
      " 3   Close      859 non-null    float64\n",
      " 4   Adj Close  859 non-null    float64\n",
      " 5   Volume     859 non-null    int64  \n",
      "dtypes: float64(5), int64(1)\n",
      "memory usage: 47.0 KB\n"
     ]
    }
   ],
   "source": [
    "df2.info()"
   ]
  },
  {
   "cell_type": "code",
   "execution_count": 21,
   "id": "85606403",
   "metadata": {},
   "outputs": [],
   "source": [
    "x = df2[['Close', 'High', 'Low', 'Adj Close', 'Volume']]\n",
    "y = df2['Open']"
   ]
  },
  {
   "cell_type": "code",
   "execution_count": 22,
   "id": "6c1d8a09",
   "metadata": {},
   "outputs": [],
   "source": [
    "x_train, x_test, y_train, y_test = train_test_split(x, y, test_size=0.2)"
   ]
  },
  {
   "cell_type": "code",
   "execution_count": 23,
   "id": "a1ef9750",
   "metadata": {},
   "outputs": [],
   "source": [
    "svm = SVR()\n",
    "model = svm.fit(x_train, y_train)"
   ]
  },
  {
   "cell_type": "code",
   "execution_count": 24,
   "id": "55cd07c1",
   "metadata": {},
   "outputs": [],
   "source": [
    "y_pred = model.predict(x_test)"
   ]
  },
  {
   "cell_type": "code",
   "execution_count": 25,
   "id": "0417c476",
   "metadata": {},
   "outputs": [
    {
     "data": {
      "text/plain": [
       "3816.6206068833662"
      ]
     },
     "execution_count": 25,
     "metadata": {},
     "output_type": "execute_result"
    }
   ],
   "source": [
    "mean_squared_error(y_test, y_pred)"
   ]
  },
  {
   "cell_type": "code",
   "execution_count": 26,
   "id": "14427522",
   "metadata": {},
   "outputs": [
    {
     "data": {
      "text/plain": [
       "0.13592393474181474"
      ]
     },
     "execution_count": 26,
     "metadata": {},
     "output_type": "execute_result"
    }
   ],
   "source": [
    "r2_score(y_test, y_pred)"
   ]
  }
 ],
 "metadata": {
  "kernelspec": {
   "display_name": "Python 3",
   "language": "python",
   "name": "python3"
  },
  "language_info": {
   "codemirror_mode": {
    "name": "ipython",
    "version": 3
   },
   "file_extension": ".py",
   "mimetype": "text/x-python",
   "name": "python",
   "nbconvert_exporter": "python",
   "pygments_lexer": "ipython3",
   "version": "3.10.0"
  }
 },
 "nbformat": 4,
 "nbformat_minor": 5
}
