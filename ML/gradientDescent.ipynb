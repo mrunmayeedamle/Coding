{
 "cells": [
  {
   "cell_type": "code",
   "execution_count": null,
   "metadata": {},
   "outputs": [],
   "source": [
    "import pandas as pd\n",
    "import numpy as np"
   ]
  },
  {
   "cell_type": "code",
   "execution_count": null,
   "metadata": {},
   "outputs": [],
   "source": [
    "df = pd.read_csv(r\"D:\\my stuff\\Coding\\ML\\myData.csv\")"
   ]
  },
  {
   "cell_type": "code",
   "execution_count": null,
   "metadata": {},
   "outputs": [],
   "source": [
    "x = df[['Area']].values.flatten()\n",
    "y = df[['Price']].values.flatten()"
   ]
  },
  {
   "cell_type": "code",
   "execution_count": 125,
   "metadata": {},
   "outputs": [],
   "source": [
    "def gradient_desc(x, y):\n",
    "    m = 0\n",
    "    b = 0\n",
    "    lr = 0.01\n",
    "    epochs = 20\n",
    "    n = len(x)\n",
    "    \n",
    "    for i in range(epochs):\n",
    "        y_pred = m * x + b\n",
    "        cost = (1 / n) * sum((y_pred - y) ** 2)\n",
    "        dm = -(2 / n) * sum(x * (y_pred - y))\n",
    "        db = -(2 / n) * sum(y_pred - y)\n",
    "        \n",
    "        m = m - lr * dm\n",
    "        b = b - lr * db\n",
    "        print(\"Cost:\", cost, \"m:\", m, \"b:\", b)"
   ]
  },
  {
   "cell_type": "code",
   "execution_count": 126,
   "metadata": {},
   "outputs": [
    {
     "name": "stdout",
     "output_type": "stream",
     "text": [
      "Cost: 2192644000000.0 m: -39086800.0 b: -29144.0\n",
      "Cost: 2.7270864901005755e+21 m: -1395399495594.56 b: -986609702.88\n",
      "Cost: 3.4754532241731844e+30 m: -4.981439153434589e+16 b: -35220889639847.66\n",
      "Cost: 4.429186664044924e+39 m: -1.7783248523599075e+21 b: -1.257351167634352e+18\n",
      "Cost: 5.644643515413878e+48 m: -6.348445063993981e+25 b: -4.488620177175506e+22\n",
      "Cost: 7.193645884187275e+57 m: -2.2663325363229442e+30 b: -1.602393318077888e+27\n",
      "Cost: 9.167725289608519e+66 m: -8.090584565860015e+34 b: -5.720386765797556e+31\n",
      "Cost: 1.1683531319004188e+76 m: -2.888259227991987e+39 b: -2.0421218923680792e+36\n",
      "Cost: 1.488972452489147e+85 m: -1.0310801772324251e+44 b: -7.290174587884797e+40\n",
      "Cost: 1.8975760870049248e+94 m: -3.680854964742101e+48 b: -2.602520727115438e+45\n",
      "Cost: 2.4183086798908834e+103 m: -1.314029070739514e+53 b: -9.290743388123227e+49\n",
      "Cost: 3.0819406459038138e+112 m: -4.6909547246166234e+57 b: -3.316704140129092e+54\n",
      "Cost: 3.927686413176417e+121 m: -1.6746247642770134e+62 b: -1.184030802875465e+59\n",
      "Cost: 5.005521628313693e+130 m: -5.978245934486257e+66 b: -4.226873676177075e+63\n",
      "Cost: 6.379136248622605e+139 m: -2.1341750830151647e+71 b: -1.5089523879758286e+68\n",
      "Cost: 8.129698021542666e+148 m: -7.618795437451663e+75 b: -5.386811822673848e+72\n",
      "Cost: 1.0360648737632069e+158 m: -2.719835142847174e+80 b: -1.9230389138933915e+77\n",
      "Cost: 1.3203816670699407e+167 m: -9.709544330200344e+84 b: -6.865060050515486e+81\n",
      "Cost: 1.6827206392993212e+176 m: -3.466211963179377e+89 b: -2.4507590125550822e+86\n",
      "Cost: 2.1444926270503342e+185 m: -1.2374036273069805e+94 b: -8.748968972484028e+90\n"
     ]
    }
   ],
   "source": [
    "gradient_desc(x,y)"
   ]
  }
 ],
 "metadata": {
  "kernelspec": {
   "display_name": "Python 3",
   "language": "python",
   "name": "python3"
  },
  "language_info": {
   "codemirror_mode": {
    "name": "ipython",
    "version": 3
   },
   "file_extension": ".py",
   "mimetype": "text/x-python",
   "name": "python",
   "nbconvert_exporter": "python",
   "pygments_lexer": "ipython3",
   "version": "3.13.2"
  }
 },
 "nbformat": 4,
 "nbformat_minor": 2
}
