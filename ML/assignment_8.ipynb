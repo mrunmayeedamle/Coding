{
 "cells": [
  {
   "cell_type": "markdown",
   "id": "271a60e7",
   "metadata": {},
   "source": [
    "### ANN using Tensorflow and Keras\n"
   ]
  },
  {
   "cell_type": "code",
   "execution_count": 170,
   "id": "00fbb501",
   "metadata": {},
   "outputs": [],
   "source": [
    "import pandas as pd\n",
    "import numpy as np \n",
    "import seaborn as sns\n",
    "import keras\n",
    "from keras.models import Sequential\n",
    "from keras.layers import Dense\n",
    "from sklearn.metrics import confusion_matrix\n",
    "from sklearn.model_selection import train_test_split"
   ]
  },
  {
   "cell_type": "code",
   "execution_count": 171,
   "id": "bb836792",
   "metadata": {},
   "outputs": [],
   "source": [
    "df = pd.read_csv(r'D:\\my stuff\\Coding\\ML\\datasets\\dataset_heart.csv')"
   ]
  },
  {
   "cell_type": "code",
   "execution_count": 172,
   "id": "7958fede",
   "metadata": {},
   "outputs": [
    {
     "name": "stdout",
     "output_type": "stream",
     "text": [
      "<class 'pandas.core.frame.DataFrame'>\n",
      "RangeIndex: 270 entries, 0 to 269\n",
      "Data columns (total 14 columns):\n",
      " #   Column                                Non-Null Count  Dtype  \n",
      "---  ------                                --------------  -----  \n",
      " 0   age                                   270 non-null    int64  \n",
      " 1   sex                                   270 non-null    int64  \n",
      " 2   chest pain type                       270 non-null    int64  \n",
      " 3   resting blood pressure                270 non-null    int64  \n",
      " 4   serum cholestoral                     270 non-null    int64  \n",
      " 5   fasting blood sugar                   270 non-null    int64  \n",
      " 6   resting electrocardiographic results  270 non-null    int64  \n",
      " 7   max heart rate                        270 non-null    int64  \n",
      " 8   exercise induced angina               270 non-null    int64  \n",
      " 9   oldpeak                               270 non-null    float64\n",
      " 10  ST segment                            270 non-null    int64  \n",
      " 11  major vessels                         270 non-null    int64  \n",
      " 12  thal                                  270 non-null    int64  \n",
      " 13  heart disease                         270 non-null    int64  \n",
      "dtypes: float64(1), int64(13)\n",
      "memory usage: 29.7 KB\n"
     ]
    }
   ],
   "source": [
    "df.info()"
   ]
  },
  {
   "cell_type": "code",
   "execution_count": 173,
   "id": "bae4b469",
   "metadata": {},
   "outputs": [
    {
     "data": {
      "text/html": [
       "<div>\n",
       "<style scoped>\n",
       "    .dataframe tbody tr th:only-of-type {\n",
       "        vertical-align: middle;\n",
       "    }\n",
       "\n",
       "    .dataframe tbody tr th {\n",
       "        vertical-align: top;\n",
       "    }\n",
       "\n",
       "    .dataframe thead th {\n",
       "        text-align: right;\n",
       "    }\n",
       "</style>\n",
       "<table border=\"1\" class=\"dataframe\">\n",
       "  <thead>\n",
       "    <tr style=\"text-align: right;\">\n",
       "      <th></th>\n",
       "      <th>age</th>\n",
       "      <th>sex</th>\n",
       "      <th>chest pain type</th>\n",
       "      <th>resting blood pressure</th>\n",
       "      <th>serum cholestoral</th>\n",
       "      <th>fasting blood sugar</th>\n",
       "      <th>resting electrocardiographic results</th>\n",
       "      <th>max heart rate</th>\n",
       "      <th>exercise induced angina</th>\n",
       "      <th>oldpeak</th>\n",
       "      <th>ST segment</th>\n",
       "      <th>major vessels</th>\n",
       "      <th>thal</th>\n",
       "      <th>heart disease</th>\n",
       "    </tr>\n",
       "  </thead>\n",
       "  <tbody>\n",
       "    <tr>\n",
       "      <th>count</th>\n",
       "      <td>270.000000</td>\n",
       "      <td>270.000000</td>\n",
       "      <td>270.000000</td>\n",
       "      <td>270.000000</td>\n",
       "      <td>270.000000</td>\n",
       "      <td>270.000000</td>\n",
       "      <td>270.000000</td>\n",
       "      <td>270.000000</td>\n",
       "      <td>270.000000</td>\n",
       "      <td>270.00000</td>\n",
       "      <td>270.000000</td>\n",
       "      <td>270.000000</td>\n",
       "      <td>270.000000</td>\n",
       "      <td>270.000000</td>\n",
       "    </tr>\n",
       "    <tr>\n",
       "      <th>mean</th>\n",
       "      <td>54.433333</td>\n",
       "      <td>0.677778</td>\n",
       "      <td>3.174074</td>\n",
       "      <td>131.344444</td>\n",
       "      <td>249.659259</td>\n",
       "      <td>0.148148</td>\n",
       "      <td>1.022222</td>\n",
       "      <td>149.677778</td>\n",
       "      <td>0.329630</td>\n",
       "      <td>1.05000</td>\n",
       "      <td>1.585185</td>\n",
       "      <td>0.670370</td>\n",
       "      <td>4.696296</td>\n",
       "      <td>1.444444</td>\n",
       "    </tr>\n",
       "    <tr>\n",
       "      <th>std</th>\n",
       "      <td>9.109067</td>\n",
       "      <td>0.468195</td>\n",
       "      <td>0.950090</td>\n",
       "      <td>17.861608</td>\n",
       "      <td>51.686237</td>\n",
       "      <td>0.355906</td>\n",
       "      <td>0.997891</td>\n",
       "      <td>23.165717</td>\n",
       "      <td>0.470952</td>\n",
       "      <td>1.14521</td>\n",
       "      <td>0.614390</td>\n",
       "      <td>0.943896</td>\n",
       "      <td>1.940659</td>\n",
       "      <td>0.497827</td>\n",
       "    </tr>\n",
       "    <tr>\n",
       "      <th>min</th>\n",
       "      <td>29.000000</td>\n",
       "      <td>0.000000</td>\n",
       "      <td>1.000000</td>\n",
       "      <td>94.000000</td>\n",
       "      <td>126.000000</td>\n",
       "      <td>0.000000</td>\n",
       "      <td>0.000000</td>\n",
       "      <td>71.000000</td>\n",
       "      <td>0.000000</td>\n",
       "      <td>0.00000</td>\n",
       "      <td>1.000000</td>\n",
       "      <td>0.000000</td>\n",
       "      <td>3.000000</td>\n",
       "      <td>1.000000</td>\n",
       "    </tr>\n",
       "    <tr>\n",
       "      <th>25%</th>\n",
       "      <td>48.000000</td>\n",
       "      <td>0.000000</td>\n",
       "      <td>3.000000</td>\n",
       "      <td>120.000000</td>\n",
       "      <td>213.000000</td>\n",
       "      <td>0.000000</td>\n",
       "      <td>0.000000</td>\n",
       "      <td>133.000000</td>\n",
       "      <td>0.000000</td>\n",
       "      <td>0.00000</td>\n",
       "      <td>1.000000</td>\n",
       "      <td>0.000000</td>\n",
       "      <td>3.000000</td>\n",
       "      <td>1.000000</td>\n",
       "    </tr>\n",
       "    <tr>\n",
       "      <th>50%</th>\n",
       "      <td>55.000000</td>\n",
       "      <td>1.000000</td>\n",
       "      <td>3.000000</td>\n",
       "      <td>130.000000</td>\n",
       "      <td>245.000000</td>\n",
       "      <td>0.000000</td>\n",
       "      <td>2.000000</td>\n",
       "      <td>153.500000</td>\n",
       "      <td>0.000000</td>\n",
       "      <td>0.80000</td>\n",
       "      <td>2.000000</td>\n",
       "      <td>0.000000</td>\n",
       "      <td>3.000000</td>\n",
       "      <td>1.000000</td>\n",
       "    </tr>\n",
       "    <tr>\n",
       "      <th>75%</th>\n",
       "      <td>61.000000</td>\n",
       "      <td>1.000000</td>\n",
       "      <td>4.000000</td>\n",
       "      <td>140.000000</td>\n",
       "      <td>280.000000</td>\n",
       "      <td>0.000000</td>\n",
       "      <td>2.000000</td>\n",
       "      <td>166.000000</td>\n",
       "      <td>1.000000</td>\n",
       "      <td>1.60000</td>\n",
       "      <td>2.000000</td>\n",
       "      <td>1.000000</td>\n",
       "      <td>7.000000</td>\n",
       "      <td>2.000000</td>\n",
       "    </tr>\n",
       "    <tr>\n",
       "      <th>max</th>\n",
       "      <td>77.000000</td>\n",
       "      <td>1.000000</td>\n",
       "      <td>4.000000</td>\n",
       "      <td>200.000000</td>\n",
       "      <td>564.000000</td>\n",
       "      <td>1.000000</td>\n",
       "      <td>2.000000</td>\n",
       "      <td>202.000000</td>\n",
       "      <td>1.000000</td>\n",
       "      <td>6.20000</td>\n",
       "      <td>3.000000</td>\n",
       "      <td>3.000000</td>\n",
       "      <td>7.000000</td>\n",
       "      <td>2.000000</td>\n",
       "    </tr>\n",
       "  </tbody>\n",
       "</table>\n",
       "</div>"
      ],
      "text/plain": [
       "              age         sex  chest pain type  resting blood pressure  \\\n",
       "count  270.000000  270.000000       270.000000              270.000000   \n",
       "mean    54.433333    0.677778         3.174074              131.344444   \n",
       "std      9.109067    0.468195         0.950090               17.861608   \n",
       "min     29.000000    0.000000         1.000000               94.000000   \n",
       "25%     48.000000    0.000000         3.000000              120.000000   \n",
       "50%     55.000000    1.000000         3.000000              130.000000   \n",
       "75%     61.000000    1.000000         4.000000              140.000000   \n",
       "max     77.000000    1.000000         4.000000              200.000000   \n",
       "\n",
       "       serum cholestoral  fasting blood sugar  \\\n",
       "count         270.000000           270.000000   \n",
       "mean          249.659259             0.148148   \n",
       "std            51.686237             0.355906   \n",
       "min           126.000000             0.000000   \n",
       "25%           213.000000             0.000000   \n",
       "50%           245.000000             0.000000   \n",
       "75%           280.000000             0.000000   \n",
       "max           564.000000             1.000000   \n",
       "\n",
       "       resting electrocardiographic results  max heart rate  \\\n",
       "count                            270.000000      270.000000   \n",
       "mean                               1.022222      149.677778   \n",
       "std                                0.997891       23.165717   \n",
       "min                                0.000000       71.000000   \n",
       "25%                                0.000000      133.000000   \n",
       "50%                                2.000000      153.500000   \n",
       "75%                                2.000000      166.000000   \n",
       "max                                2.000000      202.000000   \n",
       "\n",
       "       exercise induced angina    oldpeak  ST segment  major vessels  \\\n",
       "count               270.000000  270.00000  270.000000     270.000000   \n",
       "mean                  0.329630    1.05000    1.585185       0.670370   \n",
       "std                   0.470952    1.14521    0.614390       0.943896   \n",
       "min                   0.000000    0.00000    1.000000       0.000000   \n",
       "25%                   0.000000    0.00000    1.000000       0.000000   \n",
       "50%                   0.000000    0.80000    2.000000       0.000000   \n",
       "75%                   1.000000    1.60000    2.000000       1.000000   \n",
       "max                   1.000000    6.20000    3.000000       3.000000   \n",
       "\n",
       "             thal  heart disease  \n",
       "count  270.000000     270.000000  \n",
       "mean     4.696296       1.444444  \n",
       "std      1.940659       0.497827  \n",
       "min      3.000000       1.000000  \n",
       "25%      3.000000       1.000000  \n",
       "50%      3.000000       1.000000  \n",
       "75%      7.000000       2.000000  \n",
       "max      7.000000       2.000000  "
      ]
     },
     "execution_count": 173,
     "metadata": {},
     "output_type": "execute_result"
    }
   ],
   "source": [
    "df.describe()"
   ]
  },
  {
   "cell_type": "code",
   "execution_count": 174,
   "id": "74e35968",
   "metadata": {},
   "outputs": [
    {
     "data": {
      "text/html": [
       "<div>\n",
       "<style scoped>\n",
       "    .dataframe tbody tr th:only-of-type {\n",
       "        vertical-align: middle;\n",
       "    }\n",
       "\n",
       "    .dataframe tbody tr th {\n",
       "        vertical-align: top;\n",
       "    }\n",
       "\n",
       "    .dataframe thead th {\n",
       "        text-align: right;\n",
       "    }\n",
       "</style>\n",
       "<table border=\"1\" class=\"dataframe\">\n",
       "  <thead>\n",
       "    <tr style=\"text-align: right;\">\n",
       "      <th></th>\n",
       "      <th>age</th>\n",
       "      <th>sex</th>\n",
       "      <th>chest pain type</th>\n",
       "      <th>resting blood pressure</th>\n",
       "      <th>serum cholestoral</th>\n",
       "      <th>fasting blood sugar</th>\n",
       "      <th>resting electrocardiographic results</th>\n",
       "      <th>max heart rate</th>\n",
       "      <th>exercise induced angina</th>\n",
       "      <th>oldpeak</th>\n",
       "      <th>ST segment</th>\n",
       "      <th>major vessels</th>\n",
       "      <th>thal</th>\n",
       "      <th>heart disease</th>\n",
       "    </tr>\n",
       "  </thead>\n",
       "  <tbody>\n",
       "    <tr>\n",
       "      <th>0</th>\n",
       "      <td>70</td>\n",
       "      <td>1</td>\n",
       "      <td>4</td>\n",
       "      <td>130</td>\n",
       "      <td>322</td>\n",
       "      <td>0</td>\n",
       "      <td>2</td>\n",
       "      <td>109</td>\n",
       "      <td>0</td>\n",
       "      <td>2.4</td>\n",
       "      <td>2</td>\n",
       "      <td>3</td>\n",
       "      <td>3</td>\n",
       "      <td>2</td>\n",
       "    </tr>\n",
       "    <tr>\n",
       "      <th>1</th>\n",
       "      <td>67</td>\n",
       "      <td>0</td>\n",
       "      <td>3</td>\n",
       "      <td>115</td>\n",
       "      <td>564</td>\n",
       "      <td>0</td>\n",
       "      <td>2</td>\n",
       "      <td>160</td>\n",
       "      <td>0</td>\n",
       "      <td>1.6</td>\n",
       "      <td>2</td>\n",
       "      <td>0</td>\n",
       "      <td>7</td>\n",
       "      <td>1</td>\n",
       "    </tr>\n",
       "    <tr>\n",
       "      <th>2</th>\n",
       "      <td>57</td>\n",
       "      <td>1</td>\n",
       "      <td>2</td>\n",
       "      <td>124</td>\n",
       "      <td>261</td>\n",
       "      <td>0</td>\n",
       "      <td>0</td>\n",
       "      <td>141</td>\n",
       "      <td>0</td>\n",
       "      <td>0.3</td>\n",
       "      <td>1</td>\n",
       "      <td>0</td>\n",
       "      <td>7</td>\n",
       "      <td>2</td>\n",
       "    </tr>\n",
       "    <tr>\n",
       "      <th>3</th>\n",
       "      <td>64</td>\n",
       "      <td>1</td>\n",
       "      <td>4</td>\n",
       "      <td>128</td>\n",
       "      <td>263</td>\n",
       "      <td>0</td>\n",
       "      <td>0</td>\n",
       "      <td>105</td>\n",
       "      <td>1</td>\n",
       "      <td>0.2</td>\n",
       "      <td>2</td>\n",
       "      <td>1</td>\n",
       "      <td>7</td>\n",
       "      <td>1</td>\n",
       "    </tr>\n",
       "    <tr>\n",
       "      <th>4</th>\n",
       "      <td>74</td>\n",
       "      <td>0</td>\n",
       "      <td>2</td>\n",
       "      <td>120</td>\n",
       "      <td>269</td>\n",
       "      <td>0</td>\n",
       "      <td>2</td>\n",
       "      <td>121</td>\n",
       "      <td>1</td>\n",
       "      <td>0.2</td>\n",
       "      <td>1</td>\n",
       "      <td>1</td>\n",
       "      <td>3</td>\n",
       "      <td>1</td>\n",
       "    </tr>\n",
       "  </tbody>\n",
       "</table>\n",
       "</div>"
      ],
      "text/plain": [
       "   age  sex  chest pain type  resting blood pressure  serum cholestoral  \\\n",
       "0   70    1                4                     130                322   \n",
       "1   67    0                3                     115                564   \n",
       "2   57    1                2                     124                261   \n",
       "3   64    1                4                     128                263   \n",
       "4   74    0                2                     120                269   \n",
       "\n",
       "   fasting blood sugar  resting electrocardiographic results  max heart rate  \\\n",
       "0                    0                                     2             109   \n",
       "1                    0                                     2             160   \n",
       "2                    0                                     0             141   \n",
       "3                    0                                     0             105   \n",
       "4                    0                                     2             121   \n",
       "\n",
       "   exercise induced angina  oldpeak  ST segment  major vessels  thal  \\\n",
       "0                        0      2.4           2              3     3   \n",
       "1                        0      1.6           2              0     7   \n",
       "2                        0      0.3           1              0     7   \n",
       "3                        1      0.2           2              1     7   \n",
       "4                        1      0.2           1              1     3   \n",
       "\n",
       "   heart disease  \n",
       "0              2  \n",
       "1              1  \n",
       "2              2  \n",
       "3              1  \n",
       "4              1  "
      ]
     },
     "execution_count": 174,
     "metadata": {},
     "output_type": "execute_result"
    }
   ],
   "source": [
    "df.head()"
   ]
  },
  {
   "cell_type": "code",
   "execution_count": 175,
   "id": "4c4ff908",
   "metadata": {},
   "outputs": [
    {
     "data": {
      "text/plain": [
       "age                                     0\n",
       "sex                                     0\n",
       "chest pain type                         0\n",
       "resting blood pressure                  0\n",
       "serum cholestoral                       0\n",
       "fasting blood sugar                     0\n",
       "resting electrocardiographic results    0\n",
       "max heart rate                          0\n",
       "exercise induced angina                 0\n",
       "oldpeak                                 0\n",
       "ST segment                              0\n",
       "major vessels                           0\n",
       "thal                                    0\n",
       "heart disease                           0\n",
       "dtype: int64"
      ]
     },
     "execution_count": 175,
     "metadata": {},
     "output_type": "execute_result"
    }
   ],
   "source": [
    "df.isnull().sum()"
   ]
  },
  {
   "cell_type": "code",
   "execution_count": 176,
   "id": "abdf5c6f",
   "metadata": {},
   "outputs": [
    {
     "data": {
      "text/plain": [
       "<Axes: ylabel='chest pain type'>"
      ]
     },
     "execution_count": 176,
     "metadata": {},
     "output_type": "execute_result"
    },
    {
     "data": {
      "image/png": "[encoded data removed]",
      "text/plain": [
       "<Figure size 640x480 with 1 Axes>"
      ]
     },
     "metadata": {},
     "output_type": "display_data"
    }
   ],
   "source": [
    "sns.boxplot(df['chest pain type'])"
   ]
  },
  {
   "cell_type": "code",
   "execution_count": 177,
   "id": "cc7a0274",
   "metadata": {},
   "outputs": [
    {
     "data": {
      "text/plain": [
       "<Axes: ylabel='resting blood pressure'>"
      ]
     },
     "execution_count": 177,
     "metadata": {},
     "output_type": "execute_result"
    },
    {
     "data": {
      "image/png": "[encoded data removed]",
      "text/plain": [
       "<Figure size 640x480 with 1 Axes>"
      ]
     },
     "metadata": {},
     "output_type": "display_data"
    }
   ],
   "source": [
    "sns.boxplot(df['resting blood pressure'])"
   ]
  },
  {
   "cell_type": "code",
   "execution_count": 178,
   "id": "64138bb7",
   "metadata": {},
   "outputs": [
    {
     "data": {
      "text/plain": [
       "<Axes: ylabel='serum cholestoral'>"
      ]
     },
     "execution_count": 178,
     "metadata": {},
     "output_type": "execute_result"
    },
    {
     "data": {
      "image/png": "[encoded data removed]",
      "text/plain": [
       "<Figure size 640x480 with 1 Axes>"
      ]
     },
     "metadata": {},
     "output_type": "display_data"
    }
   ],
   "source": [
    "sns.boxplot(df['serum cholestoral'])"
   ]
  },
  {
   "cell_type": "code",
   "execution_count": 179,
   "id": "9ced345c",
   "metadata": {},
   "outputs": [
    {
     "data": {
      "text/plain": [
       "<Axes: ylabel='max heart rate'>"
      ]
     },
     "execution_count": 179,
     "metadata": {},
     "output_type": "execute_result"
    },
    {
     "data": {
      "image/png": "[encoded data removed]",
      "text/plain": [
       "<Figure size 640x480 with 1 Axes>"
      ]
     },
     "metadata": {},
     "output_type": "display_data"
    }
   ],
   "source": [
    "sns.boxplot(df['max heart rate'])"
   ]
  },
  {
   "cell_type": "code",
   "execution_count": 180,
   "id": "b1273677",
   "metadata": {},
   "outputs": [
    {
     "data": {
      "text/plain": [
       "<Axes: ylabel='oldpeak'>"
      ]
     },
     "execution_count": 180,
     "metadata": {},
     "output_type": "execute_result"
    },
    {
     "data": {
      "image/png": "[encoded data removed]",
      "text/plain": [
       "<Figure size 640x480 with 1 Axes>"
      ]
     },
     "metadata": {},
     "output_type": "display_data"
    }
   ],
   "source": [
    "sns.boxplot(df['oldpeak'])"
   ]
  },
  {
   "cell_type": "code",
   "execution_count": 181,
   "id": "87dfeab8",
   "metadata": {},
   "outputs": [
    {
     "data": {
      "text/plain": [
       "<Axes: ylabel='major vessels'>"
      ]
     },
     "execution_count": 181,
     "metadata": {},
     "output_type": "execute_result"
    },
    {
     "data": {
      "image/png": "[encoded data removed]",
      "text/plain": [
       "<Figure size 640x480 with 1 Axes>"
      ]
     },
     "metadata": {},
     "output_type": "display_data"
    }
   ],
   "source": [
    "sns.boxplot(df['major vessels'])"
   ]
  },
  {
   "cell_type": "code",
   "execution_count": 182,
   "id": "3953d31b",
   "metadata": {},
   "outputs": [
    {
     "data": {
      "text/plain": [
       "<Axes: ylabel='chest pain type'>"
      ]
     },
     "execution_count": 182,
     "metadata": {},
     "output_type": "execute_result"
    },
    {
     "data": {
      "image/png": "[encoded data removed]",
      "text/plain": [
       "<Figure size 640x480 with 1 Axes>"
      ]
     },
     "metadata": {},
     "output_type": "display_data"
    }
   ],
   "source": [
    "Q1 = df['chest pain type'].quantile(0.25)\n",
    "Q3 = df['chest pain type'].quantile(0.75)\n",
    "IQR = Q3 - Q1\n",
    "\n",
    "l_limit = Q1 - 1.5 * IQR\n",
    "u_limit = Q3 + 1.5 * IQR\n",
    "\n",
    "df1 = df[(df['chest pain type'] > l_limit) & (df['chest pain type'] < u_limit)]\n",
    "sns.boxplot(df1['chest pain type'])"
   ]
  },
  {
   "cell_type": "code",
   "execution_count": 183,
   "id": "b4abbe19",
   "metadata": {},
   "outputs": [
    {
     "data": {
      "text/plain": [
       "<Axes: ylabel='resting blood pressure'>"
      ]
     },
     "execution_count": 183,
     "metadata": {},
     "output_type": "execute_result"
    },
    {
     "data": {
      "image/png": "[encoded data removed]",
      "text/plain": [
       "<Figure size 640x480 with 1 Axes>"
      ]
     },
     "metadata": {},
     "output_type": "display_data"
    }
   ],
   "source": [
    "Q1 = df['resting blood pressure'].quantile(0.25)\n",
    "Q3 = df['resting blood pressure'].quantile(0.75)\n",
    "IQR = Q3 - Q1\n",
    "\n",
    "l_limit = Q1 - 1.5 * IQR\n",
    "u_limit = Q3 + 1.5 * IQR\n",
    "\n",
    "df1 = df[(df['resting blood pressure'] > l_limit) & (df['resting blood pressure'] < u_limit)]\n",
    "sns.boxplot(df1['resting blood pressure'])"
   ]
  },
  {
   "cell_type": "code",
   "execution_count": 184,
   "id": "23010f15",
   "metadata": {},
   "outputs": [
    {
     "data": {
      "text/plain": [
       "<Axes: ylabel='serum cholestoral'>"
      ]
     },
     "execution_count": 184,
     "metadata": {},
     "output_type": "execute_result"
    },
    {
     "data": {
      "image/png": "[encoded data removed]",
      "text/plain": [
       "<Figure size 640x480 with 1 Axes>"
      ]
     },
     "metadata": {},
     "output_type": "display_data"
    }
   ],
   "source": [
    "Q1 = df['serum cholestoral'].quantile(0.25)\n",
    "Q3 = df['serum cholestoral'].quantile(0.75)\n",
    "IQR = Q3 - Q1\n",
    "\n",
    "l_limit = Q1 - 1.5 * IQR\n",
    "u_limit = Q3 + 1.5 * IQR\n",
    "\n",
    "df1 = df[(df['serum cholestoral'] > l_limit) & (df['serum cholestoral'] < u_limit)]\n",
    "sns.boxplot(df1['serum cholestoral'])"
   ]
  },
  {
   "cell_type": "code",
   "execution_count": 185,
   "id": "a08d5ce2",
   "metadata": {},
   "outputs": [
    {
     "data": {
      "text/plain": [
       "<Axes: ylabel='max heart rate'>"
      ]
     },
     "execution_count": 185,
     "metadata": {},
     "output_type": "execute_result"
    },
    {
     "data": {
      "image/png": "[encoded data removed]",
      "text/plain": [
       "<Figure size 640x480 with 1 Axes>"
      ]
     },
     "metadata": {},
     "output_type": "display_data"
    }
   ],
   "source": [
    "Q1 = df['max heart rate'].quantile(0.25)\n",
    "Q3 = df['max heart rate'].quantile(0.75)\n",
    "IQR = Q3 - Q1\n",
    "\n",
    "l_limit = Q1 - 1.5 * IQR\n",
    "u_limit = Q3 + 1.5 * IQR\n",
    "\n",
    "df1 = df[(df['max heart rate'] > l_limit) & (df['max heart rate'] < u_limit)]\n",
    "sns.boxplot(df1['max heart rate'])"
   ]
  },
  {
   "cell_type": "code",
   "execution_count": 186,
   "id": "ccc766c4",
   "metadata": {},
   "outputs": [
    {
     "data": {
      "text/plain": [
       "<Axes: ylabel='oldpeak'>"
      ]
     },
     "execution_count": 186,
     "metadata": {},
     "output_type": "execute_result"
    },
    {
     "data": {
      "image/png": "[encoded data removed]",
      "text/plain": [
       "<Figure size 640x480 with 1 Axes>"
      ]
     },
     "metadata": {},
     "output_type": "display_data"
    }
   ],
   "source": [
    "Q1 = df['oldpeak'].quantile(0.25)\n",
    "Q3 = df['oldpeak'].quantile(0.75)\n",
    "IQR = Q3 - Q1\n",
    "\n",
    "l_limit = Q1 - 1.5 * IQR\n",
    "u_limit = Q3 + 1.5 * IQR\n",
    "\n",
    "df1 = df[(df['oldpeak'] > l_limit) & (df['oldpeak'] < u_limit)]\n",
    "sns.boxplot(df1['oldpeak'])"
   ]
  },
  {
   "cell_type": "code",
   "execution_count": 187,
   "id": "c966cb44",
   "metadata": {},
   "outputs": [
    {
     "data": {
      "text/plain": [
       "<Axes: ylabel='major vessels'>"
      ]
     },
     "execution_count": 187,
     "metadata": {},
     "output_type": "execute_result"
    },
    {
     "data": {
      "image/png": "[encoded data removed]",
      "text/plain": [
       "<Figure size 640x480 with 1 Axes>"
      ]
     },
     "metadata": {},
     "output_type": "display_data"
    }
   ],
   "source": [
    "Q1 = df['major vessels'].quantile(0.25)\n",
    "Q3 = df['major vessels'].quantile(0.75)\n",
    "IQR = Q3 - Q1\n",
    "\n",
    "l_limit = Q1 - 1.5 * IQR\n",
    "u_limit = Q3 + 1.5 * IQR\n",
    "\n",
    "df1 = df[(df['major vessels'] > l_limit) & (df['major vessels'] < u_limit)]\n",
    "sns.boxplot(df1['major vessels'])"
   ]
  },
  {
   "cell_type": "code",
   "execution_count": 188,
   "id": "606e4227",
   "metadata": {},
   "outputs": [
    {
     "name": "stdout",
     "output_type": "stream",
     "text": [
      "<class 'pandas.core.frame.DataFrame'>\n",
      "Index: 251 entries, 1 to 268\n",
      "Data columns (total 14 columns):\n",
      " #   Column                                Non-Null Count  Dtype  \n",
      "---  ------                                --------------  -----  \n",
      " 0   age                                   251 non-null    int64  \n",
      " 1   sex                                   251 non-null    int64  \n",
      " 2   chest pain type                       251 non-null    int64  \n",
      " 3   resting blood pressure                251 non-null    int64  \n",
      " 4   serum cholestoral                     251 non-null    int64  \n",
      " 5   fasting blood sugar                   251 non-null    int64  \n",
      " 6   resting electrocardiographic results  251 non-null    int64  \n",
      " 7   max heart rate                        251 non-null    int64  \n",
      " 8   exercise induced angina               251 non-null    int64  \n",
      " 9   oldpeak                               251 non-null    float64\n",
      " 10  ST segment                            251 non-null    int64  \n",
      " 11  major vessels                         251 non-null    int64  \n",
      " 12  thal                                  251 non-null    int64  \n",
      " 13  heart disease                         251 non-null    int64  \n",
      "dtypes: float64(1), int64(13)\n",
      "memory usage: 29.4 KB\n"
     ]
    }
   ],
   "source": [
    "df1.info()"
   ]
  },
  {
   "cell_type": "code",
   "execution_count": 189,
   "id": "de20b349",
   "metadata": {},
   "outputs": [],
   "source": [
    "x = df1[['age', 'sex', 'chest pain type', 'resting blood pressure', 'serum cholestoral', 'fasting blood sugar',\n",
    "         'resting electrocardiographic results', 'max heart rate', 'exercise induced angina', 'oldpeak', 'ST segment',\n",
    "         'major vessels', 'thal']]\n",
    "y = df1[['heart disease']]"
   ]
  },
  {
   "cell_type": "code",
   "execution_count": 190,
   "id": "9694e372",
   "metadata": {},
   "outputs": [],
   "source": [
    "x_train, x_test, y_train, y_test = train_test_split(x, y, test_size=0.2)"
   ]
  },
  {
   "cell_type": "code",
   "execution_count": 191,
   "id": "c322578d",
   "metadata": {},
   "outputs": [],
   "source": [
    "from sklearn.preprocessing import StandardScaler\n",
    "sc = StandardScaler()\n",
    "x_train = sc.fit_transform(x_train)\n",
    "x_test = sc.transform(x_test)\n"
   ]
  },
  {
   "cell_type": "code",
   "execution_count": 192,
   "id": "1d9ade1f",
   "metadata": {},
   "outputs": [
    {
     "name": "stderr",
     "output_type": "stream",
     "text": [
      "c:\\Users\\Mrunmayee\\AppData\\Local\\Programs\\Python\\Python310\\lib\\site-packages\\keras\\src\\layers\\core\\dense.py:87: UserWarning: Do not pass an `input_shape`/`input_dim` argument to a layer. When using Sequential models, prefer using an `Input(shape)` object as the first layer in the model instead.\n",
      "  super().__init__(activity_regularizer=activity_regularizer, **kwargs)\n"
     ]
    }
   ],
   "source": [
    "classifier = Sequential()\n",
    "classifier.add(Dense(activation = \"relu\", input_dim = 13, \n",
    "                     units = 8, kernel_initializer = \"uniform\"))\n",
    "classifier.add(Dense(activation = \"relu\", units = 14, \n",
    "                     kernel_initializer = \"uniform\"))\n",
    "classifier.add(Dense(activation = \"sigmoid\", units = 1, \n",
    "                     kernel_initializer = \"uniform\"))\n",
    "classifier.compile(optimizer = 'adam' , loss = 'binary_crossentropy', \n",
    "                   metrics = ['accuracy'] )\n"
   ]
  },
  {
   "cell_type": "code",
   "execution_count": 193,
   "id": "84d57c81",
   "metadata": {},
   "outputs": [
    {
     "name": "stdout",
     "output_type": "stream",
     "text": [
      "Epoch 1/30\n",
      "\u001b[1m25/25\u001b[0m \u001b[32m━━━━━━━━━━━━━━━━━━━━\u001b[0m\u001b[37m\u001b[0m \u001b[1m1s\u001b[0m 4ms/step - accuracy: 0.5191 - loss: 0.6852\n",
      "Epoch 2/30\n",
      "\u001b[1m25/25\u001b[0m \u001b[32m━━━━━━━━━━━━━━━━━━━━\u001b[0m\u001b[37m\u001b[0m \u001b[1m0s\u001b[0m 3ms/step - accuracy: 0.5574 - loss: 0.6397\n",
      "Epoch 3/30\n",
      "\u001b[1m25/25\u001b[0m \u001b[32m━━━━━━━━━━━━━━━━━━━━\u001b[0m\u001b[37m\u001b[0m \u001b[1m0s\u001b[0m 4ms/step - accuracy: 0.5472 - loss: 0.5406\n",
      "Epoch 4/30\n",
      "\u001b[1m25/25\u001b[0m \u001b[32m━━━━━━━━━━━━━━━━━━━━\u001b[0m\u001b[37m\u001b[0m \u001b[1m0s\u001b[0m 4ms/step - accuracy: 0.5224 - loss: 0.3344\n",
      "Epoch 5/30\n",
      "\u001b[1m25/25\u001b[0m \u001b[32m━━━━━━━━━━━━━━━━━━━━\u001b[0m\u001b[37m\u001b[0m \u001b[1m0s\u001b[0m 4ms/step - accuracy: 0.6103 - loss: 0.0459\n",
      "Epoch 6/30\n",
      "\u001b[1m25/25\u001b[0m \u001b[32m━━━━━━━━━━━━━━━━━━━━\u001b[0m\u001b[37m\u001b[0m \u001b[1m0s\u001b[0m 5ms/step - accuracy: 0.5102 - loss: -0.7034\n",
      "Epoch 7/30\n",
      "\u001b[1m25/25\u001b[0m \u001b[32m━━━━━━━━━━━━━━━━━━━━\u001b[0m\u001b[37m\u001b[0m \u001b[1m0s\u001b[0m 5ms/step - accuracy: 0.5308 - loss: -1.4239 \n",
      "Epoch 8/30\n",
      "\u001b[1m25/25\u001b[0m \u001b[32m━━━━━━━━━━━━━━━━━━━━\u001b[0m\u001b[37m\u001b[0m \u001b[1m0s\u001b[0m 5ms/step - accuracy: 0.5488 - loss: -2.4983 \n",
      "Epoch 9/30\n",
      "\u001b[1m25/25\u001b[0m \u001b[32m━━━━━━━━━━━━━━━━━━━━\u001b[0m\u001b[37m\u001b[0m \u001b[1m0s\u001b[0m 4ms/step - accuracy: 0.5439 - loss: -3.8813\n",
      "Epoch 10/30\n",
      "\u001b[1m25/25\u001b[0m \u001b[32m━━━━━━━━━━━━━━━━━━━━\u001b[0m\u001b[37m\u001b[0m \u001b[1m0s\u001b[0m 4ms/step - accuracy: 0.5579 - loss: -6.3143\n",
      "Epoch 11/30\n",
      "\u001b[1m25/25\u001b[0m \u001b[32m━━━━━━━━━━━━━━━━━━━━\u001b[0m\u001b[37m\u001b[0m \u001b[1m0s\u001b[0m 4ms/step - accuracy: 0.5349 - loss: -8.3395\n",
      "Epoch 12/30\n",
      "\u001b[1m25/25\u001b[0m \u001b[32m━━━━━━━━━━━━━━━━━━━━\u001b[0m\u001b[37m\u001b[0m \u001b[1m0s\u001b[0m 4ms/step - accuracy: 0.5485 - loss: -9.7227\n",
      "Epoch 13/30\n",
      "\u001b[1m25/25\u001b[0m \u001b[32m━━━━━━━━━━━━━━━━━━━━\u001b[0m\u001b[37m\u001b[0m \u001b[1m0s\u001b[0m 3ms/step - accuracy: 0.5190 - loss: -15.4085 \n",
      "Epoch 14/30\n",
      "\u001b[1m25/25\u001b[0m \u001b[32m━━━━━━━━━━━━━━━━━━━━\u001b[0m\u001b[37m\u001b[0m \u001b[1m0s\u001b[0m 4ms/step - accuracy: 0.5240 - loss: -19.9812\n",
      "Epoch 15/30\n",
      "\u001b[1m25/25\u001b[0m \u001b[32m━━━━━━━━━━━━━━━━━━━━\u001b[0m\u001b[37m\u001b[0m \u001b[1m0s\u001b[0m 3ms/step - accuracy: 0.5714 - loss: -21.1401\n",
      "Epoch 16/30\n",
      "\u001b[1m25/25\u001b[0m \u001b[32m━━━━━━━━━━━━━━━━━━━━\u001b[0m\u001b[37m\u001b[0m \u001b[1m0s\u001b[0m 4ms/step - accuracy: 0.5424 - loss: -31.3988\n",
      "Epoch 17/30\n",
      "\u001b[1m25/25\u001b[0m \u001b[32m━━━━━━━━━━━━━━━━━━━━\u001b[0m\u001b[37m\u001b[0m \u001b[1m0s\u001b[0m 3ms/step - accuracy: 0.5231 - loss: -42.1169 \n",
      "Epoch 18/30\n",
      "\u001b[1m25/25\u001b[0m \u001b[32m━━━━━━━━━━━━━━━━━━━━\u001b[0m\u001b[37m\u001b[0m \u001b[1m0s\u001b[0m 3ms/step - accuracy: 0.5434 - loss: -44.8658 \n",
      "Epoch 19/30\n",
      "\u001b[1m25/25\u001b[0m \u001b[32m━━━━━━━━━━━━━━━━━━━━\u001b[0m\u001b[37m\u001b[0m \u001b[1m0s\u001b[0m 3ms/step - accuracy: 0.5749 - loss: -47.5580 \n",
      "Epoch 20/30\n",
      "\u001b[1m25/25\u001b[0m \u001b[32m━━━━━━━━━━━━━━━━━━━━\u001b[0m\u001b[37m\u001b[0m \u001b[1m0s\u001b[0m 3ms/step - accuracy: 0.5344 - loss: -71.4208 \n",
      "Epoch 21/30\n",
      "\u001b[1m25/25\u001b[0m \u001b[32m━━━━━━━━━━━━━━━━━━━━\u001b[0m\u001b[37m\u001b[0m \u001b[1m0s\u001b[0m 4ms/step - accuracy: 0.5612 - loss: -70.9856\n",
      "Epoch 22/30\n",
      "\u001b[1m25/25\u001b[0m \u001b[32m━━━━━━━━━━━━━━━━━━━━\u001b[0m\u001b[37m\u001b[0m \u001b[1m0s\u001b[0m 4ms/step - accuracy: 0.6008 - loss: -80.2497\n",
      "Epoch 23/30\n",
      "\u001b[1m25/25\u001b[0m \u001b[32m━━━━━━━━━━━━━━━━━━━━\u001b[0m\u001b[37m\u001b[0m \u001b[1m0s\u001b[0m 4ms/step - accuracy: 0.5964 - loss: -99.9527\n",
      "Epoch 24/30\n",
      "\u001b[1m25/25\u001b[0m \u001b[32m━━━━━━━━━━━━━━━━━━━━\u001b[0m\u001b[37m\u001b[0m \u001b[1m0s\u001b[0m 3ms/step - accuracy: 0.5197 - loss: -123.1020\n",
      "Epoch 25/30\n",
      "\u001b[1m25/25\u001b[0m \u001b[32m━━━━━━━━━━━━━━━━━━━━\u001b[0m\u001b[37m\u001b[0m \u001b[1m0s\u001b[0m 3ms/step - accuracy: 0.5724 - loss: -129.2972\n",
      "Epoch 26/30\n",
      "\u001b[1m25/25\u001b[0m \u001b[32m━━━━━━━━━━━━━━━━━━━━\u001b[0m\u001b[37m\u001b[0m \u001b[1m0s\u001b[0m 4ms/step - accuracy: 0.5593 - loss: -154.8758\n",
      "Epoch 27/30\n",
      "\u001b[1m25/25\u001b[0m \u001b[32m━━━━━━━━━━━━━━━━━━━━\u001b[0m\u001b[37m\u001b[0m \u001b[1m0s\u001b[0m 4ms/step - accuracy: 0.5447 - loss: -188.8660\n",
      "Epoch 28/30\n",
      "\u001b[1m25/25\u001b[0m \u001b[32m━━━━━━━━━━━━━━━━━━━━\u001b[0m\u001b[37m\u001b[0m \u001b[1m0s\u001b[0m 4ms/step - accuracy: 0.5318 - loss: -224.9131\n",
      "Epoch 29/30\n",
      "\u001b[1m25/25\u001b[0m \u001b[32m━━━━━━━━━━━━━━━━━━━━\u001b[0m\u001b[37m\u001b[0m \u001b[1m0s\u001b[0m 3ms/step - accuracy: 0.5204 - loss: -253.6981 \n",
      "Epoch 30/30\n",
      "\u001b[1m25/25\u001b[0m \u001b[32m━━━━━━━━━━━━━━━━━━━━\u001b[0m\u001b[37m\u001b[0m \u001b[1m0s\u001b[0m 4ms/step - accuracy: 0.5154 - loss: -257.3976\n"
     ]
    },
    {
     "data": {
      "text/plain": [
       "<keras.src.callbacks.history.History at 0x2049f4d3b80>"
      ]
     },
     "execution_count": 193,
     "metadata": {},
     "output_type": "execute_result"
    }
   ],
   "source": [
    "classifier.fit(x_train, y_train, batch_size=8, epochs = 30)"
   ]
  },
  {
   "cell_type": "code",
   "execution_count": 194,
   "id": "ebfcc3b3",
   "metadata": {},
   "outputs": [
    {
     "name": "stdout",
     "output_type": "stream",
     "text": [
      "\u001b[1m2/2\u001b[0m \u001b[32m━━━━━━━━━━━━━━━━━━━━\u001b[0m\u001b[37m\u001b[0m \u001b[1m0s\u001b[0m 115ms/step\n"
     ]
    }
   ],
   "source": [
    "y_pred = classifier.predict(x_test)\n",
    "y_pred = (y_pred > 0.5)"
   ]
  },
  {
   "cell_type": "code",
   "execution_count": 195,
   "id": "2b105f12",
   "metadata": {},
   "outputs": [
    {
     "data": {
      "text/plain": [
       "array([[36,  0],\n",
       "       [15,  0]], dtype=int64)"
      ]
     },
     "execution_count": 195,
     "metadata": {},
     "output_type": "execute_result"
    }
   ],
   "source": [
    "cm = confusion_matrix(y_test,y_pred)\n",
    "cm\n"
   ]
  },
  {
   "cell_type": "code",
   "execution_count": 196,
   "id": "c8aadec6",
   "metadata": {},
   "outputs": [
    {
     "name": "stdout",
     "output_type": "stream",
     "text": [
      "70.58823529411765\n"
     ]
    }
   ],
   "source": [
    "accuracy = (cm[0][0]+cm[1][1])/(cm[0][1] + cm[1][0] +cm[0][0] +cm[1][1])\n",
    "print(accuracy*100)\n"
   ]
  }
 ],
 "metadata": {
  "kernelspec": {
   "display_name": "Python 3",
   "language": "python",
   "name": "python3"
  },
  "language_info": {
   "codemirror_mode": {
    "name": "ipython",
    "version": 3
   },
   "file_extension": ".py",
   "mimetype": "text/x-python",
   "name": "python",
   "nbconvert_exporter": "python",
   "pygments_lexer": "ipython3",
   "version": "3.10.0"
  }
 },
 "nbformat": 4,
 "nbformat_minor": 5
}
