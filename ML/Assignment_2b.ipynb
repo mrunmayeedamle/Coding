{
 "cells": [
  {
   "cell_type": "markdown",
   "metadata": {},
   "source": [
    "Name : Mrunmayee Sandeep Damle <br>\n",
    "T.Y B.Tech CSBS <br>\n",
    "Roll no : 11 <br>\n",
    "\n",
    "Assignment 2 (B) - Multiple Regression"
   ]
  },
  {
   "cell_type": "code",
   "execution_count": 1,
   "metadata": {},
   "outputs": [],
   "source": [
    "import pandas as pd\n",
    "import numpy as np\n",
    "import seaborn as sns\n",
    "import matplotlib.pyplot as plt\n",
    "from sklearn.linear_model import LinearRegression\n",
    "from sklearn.model_selection import train_test_split\n",
    "from sklearn.metrics import mean_squared_error\n",
    "from sklearn.metrics import r2_score"
   ]
  },
  {
   "cell_type": "code",
   "execution_count": 3,
   "metadata": {},
   "outputs": [],
   "source": [
    "df = pd.read_csv(r'D:\\my stuff\\Coding\\ML\\train.csv')"
   ]
  },
  {
   "cell_type": "code",
   "execution_count": 4,
   "metadata": {},
   "outputs": [
    {
     "data": {
      "text/plain": [
       "<bound method DataFrame.info of       POSTED_BY  UNDER_CONSTRUCTION  RERA  BHK_NO. BHK_OR_RK    SQUARE_FT  \\\n",
       "0         Owner                   0     0        2       BHK  1300.236407   \n",
       "1        Dealer                   0     0        2       BHK  1275.000000   \n",
       "2         Owner                   0     0        2       BHK   933.159722   \n",
       "3         Owner                   0     1        2       BHK   929.921143   \n",
       "4        Dealer                   1     0        2       BHK   999.009247   \n",
       "...         ...                 ...   ...      ...       ...          ...   \n",
       "29446     Owner                   0     0        3       BHK  2500.000000   \n",
       "29447     Owner                   0     0        2       BHK   769.230769   \n",
       "29448    Dealer                   0     0        2       BHK  1022.641509   \n",
       "29449     Owner                   0     0        2       BHK   927.079009   \n",
       "29450    Dealer                   0     1        2       BHK   896.774194   \n",
       "\n",
       "       READY_TO_MOVE  RESALE                            ADDRESS  LONGITUDE  \\\n",
       "0                  1       1              Ksfc Layout,Bangalore  12.969910   \n",
       "1                  1       1          Vishweshwara Nagar,Mysore  12.274538   \n",
       "2                  1       1                   Jigani,Bangalore  12.778033   \n",
       "3                  1       1        Sector-1 Vaishali,Ghaziabad  28.642300   \n",
       "4                  0       1                   New Town,Kolkata  22.592200   \n",
       "...              ...     ...                                ...        ...   \n",
       "29446              1       1               Shamshabad Road,Agra  27.140626   \n",
       "29447              1       1  E3-108, Lake View Recidency,,Vapi  39.945409   \n",
       "29448              1       1                  Ajmer Road,Jaipur  26.928785   \n",
       "29449              1       1             Sholinganallur,Chennai  12.900150   \n",
       "29450              1       1                   Jagatpura,Jaipur  26.832353   \n",
       "\n",
       "        LATITUDE  TARGET(PRICE_IN_LACS)  \n",
       "0      77.597960                   55.0  \n",
       "1      76.644605                   51.0  \n",
       "2      77.632191                   43.0  \n",
       "3      77.344500                   62.5  \n",
       "4      88.484911                   60.5  \n",
       "...          ...                    ...  \n",
       "29446  78.043277                   45.0  \n",
       "29447 -86.150721                   16.0  \n",
       "29448  75.828002                   27.1  \n",
       "29449  80.227910                   67.0  \n",
       "29450  75.841749                   27.8  \n",
       "\n",
       "[29451 rows x 12 columns]>"
      ]
     },
     "execution_count": 4,
     "metadata": {},
     "output_type": "execute_result"
    }
   ],
   "source": [
    "df.info"
   ]
  },
  {
   "cell_type": "code",
   "execution_count": 5,
   "metadata": {},
   "outputs": [
    {
     "data": {
      "text/html": [
       "<div>\n",
       "<style scoped>\n",
       "    .dataframe tbody tr th:only-of-type {\n",
       "        vertical-align: middle;\n",
       "    }\n",
       "\n",
       "    .dataframe tbody tr th {\n",
       "        vertical-align: top;\n",
       "    }\n",
       "\n",
       "    .dataframe thead th {\n",
       "        text-align: right;\n",
       "    }\n",
       "</style>\n",
       "<table border=\"1\" class=\"dataframe\">\n",
       "  <thead>\n",
       "    <tr style=\"text-align: right;\">\n",
       "      <th></th>\n",
       "      <th>UNDER_CONSTRUCTION</th>\n",
       "      <th>RERA</th>\n",
       "      <th>BHK_NO.</th>\n",
       "      <th>SQUARE_FT</th>\n",
       "      <th>READY_TO_MOVE</th>\n",
       "      <th>RESALE</th>\n",
       "      <th>LONGITUDE</th>\n",
       "      <th>LATITUDE</th>\n",
       "      <th>TARGET(PRICE_IN_LACS)</th>\n",
       "    </tr>\n",
       "  </thead>\n",
       "  <tbody>\n",
       "    <tr>\n",
       "      <th>count</th>\n",
       "      <td>29451.000000</td>\n",
       "      <td>29451.000000</td>\n",
       "      <td>29451.000000</td>\n",
       "      <td>2.945100e+04</td>\n",
       "      <td>29451.000000</td>\n",
       "      <td>29451.000000</td>\n",
       "      <td>29451.000000</td>\n",
       "      <td>29451.000000</td>\n",
       "      <td>29451.000000</td>\n",
       "    </tr>\n",
       "    <tr>\n",
       "      <th>mean</th>\n",
       "      <td>0.179756</td>\n",
       "      <td>0.317918</td>\n",
       "      <td>2.392279</td>\n",
       "      <td>1.980217e+04</td>\n",
       "      <td>0.820244</td>\n",
       "      <td>0.929578</td>\n",
       "      <td>21.300255</td>\n",
       "      <td>76.837695</td>\n",
       "      <td>142.898746</td>\n",
       "    </tr>\n",
       "    <tr>\n",
       "      <th>std</th>\n",
       "      <td>0.383991</td>\n",
       "      <td>0.465675</td>\n",
       "      <td>0.879091</td>\n",
       "      <td>1.901335e+06</td>\n",
       "      <td>0.383991</td>\n",
       "      <td>0.255861</td>\n",
       "      <td>6.205306</td>\n",
       "      <td>10.557747</td>\n",
       "      <td>656.880713</td>\n",
       "    </tr>\n",
       "    <tr>\n",
       "      <th>min</th>\n",
       "      <td>0.000000</td>\n",
       "      <td>0.000000</td>\n",
       "      <td>1.000000</td>\n",
       "      <td>3.000000e+00</td>\n",
       "      <td>0.000000</td>\n",
       "      <td>0.000000</td>\n",
       "      <td>-37.713008</td>\n",
       "      <td>-121.761248</td>\n",
       "      <td>0.250000</td>\n",
       "    </tr>\n",
       "    <tr>\n",
       "      <th>25%</th>\n",
       "      <td>0.000000</td>\n",
       "      <td>0.000000</td>\n",
       "      <td>2.000000</td>\n",
       "      <td>9.000211e+02</td>\n",
       "      <td>1.000000</td>\n",
       "      <td>1.000000</td>\n",
       "      <td>18.452663</td>\n",
       "      <td>73.798100</td>\n",
       "      <td>38.000000</td>\n",
       "    </tr>\n",
       "    <tr>\n",
       "      <th>50%</th>\n",
       "      <td>0.000000</td>\n",
       "      <td>0.000000</td>\n",
       "      <td>2.000000</td>\n",
       "      <td>1.175057e+03</td>\n",
       "      <td>1.000000</td>\n",
       "      <td>1.000000</td>\n",
       "      <td>20.750000</td>\n",
       "      <td>77.324137</td>\n",
       "      <td>62.000000</td>\n",
       "    </tr>\n",
       "    <tr>\n",
       "      <th>75%</th>\n",
       "      <td>0.000000</td>\n",
       "      <td>1.000000</td>\n",
       "      <td>3.000000</td>\n",
       "      <td>1.550688e+03</td>\n",
       "      <td>1.000000</td>\n",
       "      <td>1.000000</td>\n",
       "      <td>26.900926</td>\n",
       "      <td>77.828740</td>\n",
       "      <td>100.000000</td>\n",
       "    </tr>\n",
       "    <tr>\n",
       "      <th>max</th>\n",
       "      <td>1.000000</td>\n",
       "      <td>1.000000</td>\n",
       "      <td>20.000000</td>\n",
       "      <td>2.545455e+08</td>\n",
       "      <td>1.000000</td>\n",
       "      <td>1.000000</td>\n",
       "      <td>59.912884</td>\n",
       "      <td>152.962676</td>\n",
       "      <td>30000.000000</td>\n",
       "    </tr>\n",
       "  </tbody>\n",
       "</table>\n",
       "</div>"
      ],
      "text/plain": [
       "       UNDER_CONSTRUCTION          RERA       BHK_NO.     SQUARE_FT  \\\n",
       "count        29451.000000  29451.000000  29451.000000  2.945100e+04   \n",
       "mean             0.179756      0.317918      2.392279  1.980217e+04   \n",
       "std              0.383991      0.465675      0.879091  1.901335e+06   \n",
       "min              0.000000      0.000000      1.000000  3.000000e+00   \n",
       "25%              0.000000      0.000000      2.000000  9.000211e+02   \n",
       "50%              0.000000      0.000000      2.000000  1.175057e+03   \n",
       "75%              0.000000      1.000000      3.000000  1.550688e+03   \n",
       "max              1.000000      1.000000     20.000000  2.545455e+08   \n",
       "\n",
       "       READY_TO_MOVE        RESALE     LONGITUDE      LATITUDE  \\\n",
       "count   29451.000000  29451.000000  29451.000000  29451.000000   \n",
       "mean        0.820244      0.929578     21.300255     76.837695   \n",
       "std         0.383991      0.255861      6.205306     10.557747   \n",
       "min         0.000000      0.000000    -37.713008   -121.761248   \n",
       "25%         1.000000      1.000000     18.452663     73.798100   \n",
       "50%         1.000000      1.000000     20.750000     77.324137   \n",
       "75%         1.000000      1.000000     26.900926     77.828740   \n",
       "max         1.000000      1.000000     59.912884    152.962676   \n",
       "\n",
       "       TARGET(PRICE_IN_LACS)  \n",
       "count           29451.000000  \n",
       "mean              142.898746  \n",
       "std               656.880713  \n",
       "min                 0.250000  \n",
       "25%                38.000000  \n",
       "50%                62.000000  \n",
       "75%               100.000000  \n",
       "max             30000.000000  "
      ]
     },
     "execution_count": 5,
     "metadata": {},
     "output_type": "execute_result"
    }
   ],
   "source": [
    "df.describe()"
   ]
  },
  {
   "cell_type": "code",
   "execution_count": 6,
   "metadata": {},
   "outputs": [
    {
     "data": {
      "text/plain": [
       "np.int64(0)"
      ]
     },
     "execution_count": 6,
     "metadata": {},
     "output_type": "execute_result"
    }
   ],
   "source": [
    "df['POSTED_BY'].isnull().sum()"
   ]
  },
  {
   "cell_type": "code",
   "execution_count": 7,
   "metadata": {},
   "outputs": [
    {
     "data": {
      "text/plain": [
       "np.int64(0)"
      ]
     },
     "execution_count": 7,
     "metadata": {},
     "output_type": "execute_result"
    }
   ],
   "source": [
    "df['UNDER_CONSTRUCTION'].isnull().sum()"
   ]
  },
  {
   "cell_type": "code",
   "execution_count": 8,
   "metadata": {},
   "outputs": [
    {
     "data": {
      "text/plain": [
       "np.int64(0)"
      ]
     },
     "execution_count": 8,
     "metadata": {},
     "output_type": "execute_result"
    }
   ],
   "source": [
    "df['RERA'].isnull().sum()"
   ]
  },
  {
   "cell_type": "code",
   "execution_count": 9,
   "metadata": {},
   "outputs": [
    {
     "data": {
      "text/plain": [
       "np.int64(0)"
      ]
     },
     "execution_count": 9,
     "metadata": {},
     "output_type": "execute_result"
    }
   ],
   "source": [
    "df['BHK_NO.'].isnull().sum()"
   ]
  },
  {
   "cell_type": "code",
   "execution_count": 10,
   "metadata": {},
   "outputs": [
    {
     "data": {
      "text/plain": [
       "np.int64(0)"
      ]
     },
     "execution_count": 10,
     "metadata": {},
     "output_type": "execute_result"
    }
   ],
   "source": [
    "df['BHK_OR_RK'].isnull().sum()"
   ]
  },
  {
   "cell_type": "code",
   "execution_count": 11,
   "metadata": {},
   "outputs": [
    {
     "data": {
      "text/plain": [
       "np.int64(0)"
      ]
     },
     "execution_count": 11,
     "metadata": {},
     "output_type": "execute_result"
    }
   ],
   "source": [
    "df['SQUARE_FT'].isnull().sum()"
   ]
  },
  {
   "cell_type": "code",
   "execution_count": 12,
   "metadata": {},
   "outputs": [
    {
     "data": {
      "text/plain": [
       "np.int64(0)"
      ]
     },
     "execution_count": 12,
     "metadata": {},
     "output_type": "execute_result"
    }
   ],
   "source": [
    "df['READY_TO_MOVE'].isnull().sum()"
   ]
  },
  {
   "cell_type": "code",
   "execution_count": 13,
   "metadata": {},
   "outputs": [
    {
     "data": {
      "text/plain": [
       "np.int64(0)"
      ]
     },
     "execution_count": 13,
     "metadata": {},
     "output_type": "execute_result"
    }
   ],
   "source": [
    "df['RESALE'].isnull().sum()"
   ]
  },
  {
   "cell_type": "code",
   "execution_count": 14,
   "metadata": {},
   "outputs": [
    {
     "data": {
      "text/plain": [
       "np.int64(0)"
      ]
     },
     "execution_count": 14,
     "metadata": {},
     "output_type": "execute_result"
    }
   ],
   "source": [
    "df['ADDRESS'].isnull().sum()"
   ]
  },
  {
   "cell_type": "code",
   "execution_count": 15,
   "metadata": {},
   "outputs": [
    {
     "data": {
      "text/plain": [
       "np.int64(0)"
      ]
     },
     "execution_count": 15,
     "metadata": {},
     "output_type": "execute_result"
    }
   ],
   "source": [
    "df['LONGITUDE'].isnull().sum()"
   ]
  },
  {
   "cell_type": "code",
   "execution_count": 16,
   "metadata": {},
   "outputs": [
    {
     "data": {
      "text/plain": [
       "np.int64(0)"
      ]
     },
     "execution_count": 16,
     "metadata": {},
     "output_type": "execute_result"
    }
   ],
   "source": [
    "df['LATITUDE'].isnull().sum()"
   ]
  },
  {
   "cell_type": "code",
   "execution_count": 17,
   "metadata": {},
   "outputs": [
    {
     "data": {
      "text/plain": [
       "np.int64(0)"
      ]
     },
     "execution_count": 17,
     "metadata": {},
     "output_type": "execute_result"
    }
   ],
   "source": [
    "df['TARGET(PRICE_IN_LACS)'].isnull().sum()"
   ]
  },
  {
   "cell_type": "code",
   "execution_count": 18,
   "metadata": {},
   "outputs": [
    {
     "data": {
      "text/plain": [
       "array([2, 1, 0])"
      ]
     },
     "execution_count": 18,
     "metadata": {},
     "output_type": "execute_result"
    }
   ],
   "source": [
    "from sklearn import preprocessing\n",
    "label_encode = preprocessing.LabelEncoder()\n",
    "\n",
    "df[\"POSTED_BY\"] = label_encode.fit_transform(df[\"POSTED_BY\"])\n",
    "df[\"POSTED_BY\"].unique()"
   ]
  },
  {
   "cell_type": "code",
   "execution_count": 19,
   "metadata": {},
   "outputs": [
    {
     "data": {
      "text/plain": [
       "0        2\n",
       "1        1\n",
       "2        2\n",
       "3        2\n",
       "4        1\n",
       "        ..\n",
       "29446    2\n",
       "29447    2\n",
       "29448    1\n",
       "29449    2\n",
       "29450    1\n",
       "Name: POSTED_BY, Length: 29451, dtype: int64"
      ]
     },
     "execution_count": 19,
     "metadata": {},
     "output_type": "execute_result"
    }
   ],
   "source": [
    "df['POSTED_BY']"
   ]
  },
  {
   "cell_type": "code",
   "execution_count": 20,
   "metadata": {},
   "outputs": [
    {
     "data": {
      "text/plain": [
       "array([0, 1])"
      ]
     },
     "execution_count": 20,
     "metadata": {},
     "output_type": "execute_result"
    }
   ],
   "source": [
    "df[\"BHK_OR_RK\"] = label_encode.fit_transform(df[\"BHK_OR_RK\"])\n",
    "df[\"BHK_OR_RK\"].unique()"
   ]
  },
  {
   "cell_type": "code",
   "execution_count": 21,
   "metadata": {},
   "outputs": [
    {
     "data": {
      "text/plain": [
       "array([2844, 6576, 2256, ..., 6897, 1629, 1510], shape=(6899,))"
      ]
     },
     "execution_count": 21,
     "metadata": {},
     "output_type": "execute_result"
    }
   ],
   "source": [
    "df[\"ADDRESS\"] = label_encode.fit_transform(df[\"ADDRESS\"])\n",
    "df[\"ADDRESS\"].unique()"
   ]
  },
  {
   "cell_type": "code",
   "execution_count": 22,
   "metadata": {},
   "outputs": [
    {
     "data": {
      "text/html": [
       "<div>\n",
       "<style scoped>\n",
       "    .dataframe tbody tr th:only-of-type {\n",
       "        vertical-align: middle;\n",
       "    }\n",
       "\n",
       "    .dataframe tbody tr th {\n",
       "        vertical-align: top;\n",
       "    }\n",
       "\n",
       "    .dataframe thead th {\n",
       "        text-align: right;\n",
       "    }\n",
       "</style>\n",
       "<table border=\"1\" class=\"dataframe\">\n",
       "  <thead>\n",
       "    <tr style=\"text-align: right;\">\n",
       "      <th></th>\n",
       "      <th>POSTED_BY</th>\n",
       "      <th>UNDER_CONSTRUCTION</th>\n",
       "      <th>RERA</th>\n",
       "      <th>BHK_NO.</th>\n",
       "      <th>BHK_OR_RK</th>\n",
       "      <th>SQUARE_FT</th>\n",
       "      <th>READY_TO_MOVE</th>\n",
       "      <th>RESALE</th>\n",
       "      <th>ADDRESS</th>\n",
       "      <th>LONGITUDE</th>\n",
       "      <th>LATITUDE</th>\n",
       "      <th>TARGET(PRICE_IN_LACS)</th>\n",
       "    </tr>\n",
       "  </thead>\n",
       "  <tbody>\n",
       "    <tr>\n",
       "      <th>POSTED_BY</th>\n",
       "      <td>1.000000</td>\n",
       "      <td>-0.263473</td>\n",
       "      <td>-0.285316</td>\n",
       "      <td>-0.072466</td>\n",
       "      <td>-0.027895</td>\n",
       "      <td>0.005415</td>\n",
       "      <td>0.263473</td>\n",
       "      <td>0.332280</td>\n",
       "      <td>-0.040621</td>\n",
       "      <td>-0.049164</td>\n",
       "      <td>0.025425</td>\n",
       "      <td>-0.093328</td>\n",
       "    </tr>\n",
       "    <tr>\n",
       "      <th>UNDER_CONSTRUCTION</th>\n",
       "      <td>-0.263473</td>\n",
       "      <td>1.000000</td>\n",
       "      <td>0.363826</td>\n",
       "      <td>-0.040712</td>\n",
       "      <td>0.020719</td>\n",
       "      <td>-0.004204</td>\n",
       "      <td>-1.000000</td>\n",
       "      <td>-0.347405</td>\n",
       "      <td>-0.013684</td>\n",
       "      <td>0.006440</td>\n",
       "      <td>-0.000381</td>\n",
       "      <td>0.055399</td>\n",
       "    </tr>\n",
       "    <tr>\n",
       "      <th>RERA</th>\n",
       "      <td>-0.285316</td>\n",
       "      <td>0.363826</td>\n",
       "      <td>1.000000</td>\n",
       "      <td>0.009547</td>\n",
       "      <td>0.006056</td>\n",
       "      <td>-0.006229</td>\n",
       "      <td>-0.363826</td>\n",
       "      <td>-0.270351</td>\n",
       "      <td>0.073604</td>\n",
       "      <td>0.104976</td>\n",
       "      <td>-0.065106</td>\n",
       "      <td>0.067636</td>\n",
       "    </tr>\n",
       "    <tr>\n",
       "      <th>BHK_NO.</th>\n",
       "      <td>-0.072466</td>\n",
       "      <td>-0.040712</td>\n",
       "      <td>0.009547</td>\n",
       "      <td>1.000000</td>\n",
       "      <td>-0.045231</td>\n",
       "      <td>0.005303</td>\n",
       "      <td>0.040712</td>\n",
       "      <td>0.014581</td>\n",
       "      <td>0.042386</td>\n",
       "      <td>0.068730</td>\n",
       "      <td>0.046930</td>\n",
       "      <td>0.112283</td>\n",
       "    </tr>\n",
       "    <tr>\n",
       "      <th>BHK_OR_RK</th>\n",
       "      <td>-0.027895</td>\n",
       "      <td>0.020719</td>\n",
       "      <td>0.006056</td>\n",
       "      <td>-0.045231</td>\n",
       "      <td>1.000000</td>\n",
       "      <td>-0.000292</td>\n",
       "      <td>-0.020719</td>\n",
       "      <td>-0.029346</td>\n",
       "      <td>-0.011355</td>\n",
       "      <td>0.009095</td>\n",
       "      <td>0.000303</td>\n",
       "      <td>-0.004429</td>\n",
       "    </tr>\n",
       "    <tr>\n",
       "      <th>SQUARE_FT</th>\n",
       "      <td>0.005415</td>\n",
       "      <td>-0.004204</td>\n",
       "      <td>-0.006229</td>\n",
       "      <td>0.005303</td>\n",
       "      <td>-0.000292</td>\n",
       "      <td>1.000000</td>\n",
       "      <td>0.004204</td>\n",
       "      <td>0.001732</td>\n",
       "      <td>0.000169</td>\n",
       "      <td>-0.012591</td>\n",
       "      <td>0.000803</td>\n",
       "      <td>0.402685</td>\n",
       "    </tr>\n",
       "    <tr>\n",
       "      <th>READY_TO_MOVE</th>\n",
       "      <td>0.263473</td>\n",
       "      <td>-1.000000</td>\n",
       "      <td>-0.363826</td>\n",
       "      <td>0.040712</td>\n",
       "      <td>-0.020719</td>\n",
       "      <td>0.004204</td>\n",
       "      <td>1.000000</td>\n",
       "      <td>0.347405</td>\n",
       "      <td>0.013684</td>\n",
       "      <td>-0.006440</td>\n",
       "      <td>0.000381</td>\n",
       "      <td>-0.055399</td>\n",
       "    </tr>\n",
       "    <tr>\n",
       "      <th>RESALE</th>\n",
       "      <td>0.332280</td>\n",
       "      <td>-0.347405</td>\n",
       "      <td>-0.270351</td>\n",
       "      <td>0.014581</td>\n",
       "      <td>-0.029346</td>\n",
       "      <td>0.001732</td>\n",
       "      <td>0.347405</td>\n",
       "      <td>1.000000</td>\n",
       "      <td>0.025715</td>\n",
       "      <td>0.024038</td>\n",
       "      <td>0.014844</td>\n",
       "      <td>-0.207378</td>\n",
       "    </tr>\n",
       "    <tr>\n",
       "      <th>ADDRESS</th>\n",
       "      <td>-0.040621</td>\n",
       "      <td>-0.013684</td>\n",
       "      <td>0.073604</td>\n",
       "      <td>0.042386</td>\n",
       "      <td>-0.011355</td>\n",
       "      <td>0.000169</td>\n",
       "      <td>0.013684</td>\n",
       "      <td>0.025715</td>\n",
       "      <td>1.000000</td>\n",
       "      <td>0.181983</td>\n",
       "      <td>-0.027280</td>\n",
       "      <td>-0.016178</td>\n",
       "    </tr>\n",
       "    <tr>\n",
       "      <th>LONGITUDE</th>\n",
       "      <td>-0.049164</td>\n",
       "      <td>0.006440</td>\n",
       "      <td>0.104976</td>\n",
       "      <td>0.068730</td>\n",
       "      <td>0.009095</td>\n",
       "      <td>-0.012591</td>\n",
       "      <td>-0.006440</td>\n",
       "      <td>0.024038</td>\n",
       "      <td>0.181983</td>\n",
       "      <td>1.000000</td>\n",
       "      <td>-0.155062</td>\n",
       "      <td>-0.031112</td>\n",
       "    </tr>\n",
       "    <tr>\n",
       "      <th>LATITUDE</th>\n",
       "      <td>0.025425</td>\n",
       "      <td>-0.000381</td>\n",
       "      <td>-0.065106</td>\n",
       "      <td>0.046930</td>\n",
       "      <td>0.000303</td>\n",
       "      <td>0.000803</td>\n",
       "      <td>0.000381</td>\n",
       "      <td>0.014844</td>\n",
       "      <td>-0.027280</td>\n",
       "      <td>-0.155062</td>\n",
       "      <td>1.000000</td>\n",
       "      <td>-0.017254</td>\n",
       "    </tr>\n",
       "    <tr>\n",
       "      <th>TARGET(PRICE_IN_LACS)</th>\n",
       "      <td>-0.093328</td>\n",
       "      <td>0.055399</td>\n",
       "      <td>0.067636</td>\n",
       "      <td>0.112283</td>\n",
       "      <td>-0.004429</td>\n",
       "      <td>0.402685</td>\n",
       "      <td>-0.055399</td>\n",
       "      <td>-0.207378</td>\n",
       "      <td>-0.016178</td>\n",
       "      <td>-0.031112</td>\n",
       "      <td>-0.017254</td>\n",
       "      <td>1.000000</td>\n",
       "    </tr>\n",
       "  </tbody>\n",
       "</table>\n",
       "</div>"
      ],
      "text/plain": [
       "                       POSTED_BY  UNDER_CONSTRUCTION      RERA   BHK_NO.  \\\n",
       "POSTED_BY               1.000000           -0.263473 -0.285316 -0.072466   \n",
       "UNDER_CONSTRUCTION     -0.263473            1.000000  0.363826 -0.040712   \n",
       "RERA                   -0.285316            0.363826  1.000000  0.009547   \n",
       "BHK_NO.                -0.072466           -0.040712  0.009547  1.000000   \n",
       "BHK_OR_RK              -0.027895            0.020719  0.006056 -0.045231   \n",
       "SQUARE_FT               0.005415           -0.004204 -0.006229  0.005303   \n",
       "READY_TO_MOVE           0.263473           -1.000000 -0.363826  0.040712   \n",
       "RESALE                  0.332280           -0.347405 -0.270351  0.014581   \n",
       "ADDRESS                -0.040621           -0.013684  0.073604  0.042386   \n",
       "LONGITUDE              -0.049164            0.006440  0.104976  0.068730   \n",
       "LATITUDE                0.025425           -0.000381 -0.065106  0.046930   \n",
       "TARGET(PRICE_IN_LACS)  -0.093328            0.055399  0.067636  0.112283   \n",
       "\n",
       "                       BHK_OR_RK  SQUARE_FT  READY_TO_MOVE    RESALE  \\\n",
       "POSTED_BY              -0.027895   0.005415       0.263473  0.332280   \n",
       "UNDER_CONSTRUCTION      0.020719  -0.004204      -1.000000 -0.347405   \n",
       "RERA                    0.006056  -0.006229      -0.363826 -0.270351   \n",
       "BHK_NO.                -0.045231   0.005303       0.040712  0.014581   \n",
       "BHK_OR_RK               1.000000  -0.000292      -0.020719 -0.029346   \n",
       "SQUARE_FT              -0.000292   1.000000       0.004204  0.001732   \n",
       "READY_TO_MOVE          -0.020719   0.004204       1.000000  0.347405   \n",
       "RESALE                 -0.029346   0.001732       0.347405  1.000000   \n",
       "ADDRESS                -0.011355   0.000169       0.013684  0.025715   \n",
       "LONGITUDE               0.009095  -0.012591      -0.006440  0.024038   \n",
       "LATITUDE                0.000303   0.000803       0.000381  0.014844   \n",
       "TARGET(PRICE_IN_LACS)  -0.004429   0.402685      -0.055399 -0.207378   \n",
       "\n",
       "                        ADDRESS  LONGITUDE  LATITUDE  TARGET(PRICE_IN_LACS)  \n",
       "POSTED_BY             -0.040621  -0.049164  0.025425              -0.093328  \n",
       "UNDER_CONSTRUCTION    -0.013684   0.006440 -0.000381               0.055399  \n",
       "RERA                   0.073604   0.104976 -0.065106               0.067636  \n",
       "BHK_NO.                0.042386   0.068730  0.046930               0.112283  \n",
       "BHK_OR_RK             -0.011355   0.009095  0.000303              -0.004429  \n",
       "SQUARE_FT              0.000169  -0.012591  0.000803               0.402685  \n",
       "READY_TO_MOVE          0.013684  -0.006440  0.000381              -0.055399  \n",
       "RESALE                 0.025715   0.024038  0.014844              -0.207378  \n",
       "ADDRESS                1.000000   0.181983 -0.027280              -0.016178  \n",
       "LONGITUDE              0.181983   1.000000 -0.155062              -0.031112  \n",
       "LATITUDE              -0.027280  -0.155062  1.000000              -0.017254  \n",
       "TARGET(PRICE_IN_LACS) -0.016178  -0.031112 -0.017254               1.000000  "
      ]
     },
     "execution_count": 22,
     "metadata": {},
     "output_type": "execute_result"
    }
   ],
   "source": [
    "df.corr()"
   ]
  },
  {
   "cell_type": "code",
   "execution_count": 23,
   "metadata": {},
   "outputs": [
    {
     "data": {
      "text/plain": [
       "<Axes: >"
      ]
     },
     "execution_count": 23,
     "metadata": {},
     "output_type": "execute_result"
    },
    {
     "data": {
      "image/png": "[encoded data removed]",
      "text/plain": [
       "<Figure size 640x480 with 2 Axes>"
      ]
     },
     "metadata": {},
     "output_type": "display_data"
    }
   ],
   "source": [
    "sns.heatmap(df.corr())"
   ]
  },
  {
   "cell_type": "code",
   "execution_count": 24,
   "metadata": {},
   "outputs": [],
   "source": [
    "x = df[['SQUARE_FT', 'ADDRESS', 'UNDER_CONSTRUCTION', 'BHK_NO.']]\n",
    "y = df[['TARGET(PRICE_IN_LACS)']]"
   ]
  },
  {
   "cell_type": "code",
   "execution_count": 25,
   "metadata": {},
   "outputs": [],
   "source": [
    "x_train, x_test, y_train, y_test = train_test_split(x,y,train_size=0.2)"
   ]
  },
  {
   "cell_type": "code",
   "execution_count": 26,
   "metadata": {},
   "outputs": [],
   "source": [
    "lr = LinearRegression()\n",
    "model = lr.fit(x_train, y_train)"
   ]
  },
  {
   "cell_type": "code",
   "execution_count": 27,
   "metadata": {},
   "outputs": [],
   "source": [
    "y_pred = model.predict(x_test)"
   ]
  },
  {
   "cell_type": "code",
   "execution_count": 28,
   "metadata": {},
   "outputs": [
    {
     "data": {
      "text/plain": [
       "7.873237383784726"
      ]
     },
     "execution_count": 28,
     "metadata": {},
     "output_type": "execute_result"
    }
   ],
   "source": [
    "mean_squared_error(y_test, y_pred) % 100"
   ]
  },
  {
   "cell_type": "code",
   "execution_count": 29,
   "metadata": {},
   "outputs": [
    {
     "data": {
      "text/plain": [
       "0.13572690284070943"
      ]
     },
     "execution_count": 29,
     "metadata": {},
     "output_type": "execute_result"
    }
   ],
   "source": [
    "r2_score(y_test, y_pred)"
   ]
  }
 ],
 "metadata": {
  "kernelspec": {
   "display_name": "Python 3",
   "language": "python",
   "name": "python3"
  },
  "language_info": {
   "codemirror_mode": {
    "name": "ipython",
    "version": 3
   },
   "file_extension": ".py",
   "mimetype": "text/x-python",
   "name": "python",
   "nbconvert_exporter": "python",
   "pygments_lexer": "ipython3",
   "version": "3.13.2"
  }
 },
 "nbformat": 4,
 "nbformat_minor": 2
}
