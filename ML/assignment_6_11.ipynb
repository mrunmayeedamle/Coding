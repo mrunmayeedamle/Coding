{
 "cells": [
  {
   "cell_type": "markdown",
   "id": "f05d8ae6",
   "metadata": {},
   "source": [
    "### Support Vector Classification"
   ]
  },
  {
   "cell_type": "code",
   "execution_count": 1,
   "id": "77a2283a",
   "metadata": {},
   "outputs": [],
   "source": [
    "import pandas as pd\n",
    "import seaborn as sns\n",
    "\n",
    "from sklearn.model_selection import train_test_split\n",
    "from sklearn.svm import SVC\n",
    "from sklearn.metrics import accuracy_score, recall_score, classification_report"
   ]
  },
  {
   "cell_type": "code",
   "execution_count": 2,
   "id": "d5b97b8e",
   "metadata": {},
   "outputs": [],
   "source": [
    "df = pd.read_csv(r'D:\\my stuff\\Coding\\ML\\hotel_cancellation.csv')"
   ]
  },
  {
   "cell_type": "code",
   "execution_count": 3,
   "id": "90ca0f13",
   "metadata": {},
   "outputs": [
    {
     "name": "stdout",
     "output_type": "stream",
     "text": [
      "<class 'pandas.core.frame.DataFrame'>\n",
      "RangeIndex: 36285 entries, 0 to 36284\n",
      "Data columns (total 17 columns):\n",
      " #   Column                    Non-Null Count  Dtype  \n",
      "---  ------                    --------------  -----  \n",
      " 0   Booking_ID                36285 non-null  object \n",
      " 1   number of adults          36285 non-null  int64  \n",
      " 2   number of children        36285 non-null  int64  \n",
      " 3   number of weekend nights  36285 non-null  int64  \n",
      " 4   number of week nights     36285 non-null  int64  \n",
      " 5   type of meal              36285 non-null  object \n",
      " 6   car parking space         36285 non-null  int64  \n",
      " 7   room type                 36285 non-null  object \n",
      " 8   lead time                 36285 non-null  int64  \n",
      " 9   market segment type       36285 non-null  object \n",
      " 10  repeated                  36285 non-null  int64  \n",
      " 11  P-C                       36285 non-null  int64  \n",
      " 12  P-not-C                   36285 non-null  int64  \n",
      " 13  average price             36285 non-null  float64\n",
      " 14  special requests          36285 non-null  int64  \n",
      " 15  date of reservation       36285 non-null  object \n",
      " 16  booking status            36285 non-null  object \n",
      "dtypes: float64(1), int64(10), object(6)\n",
      "memory usage: 4.7+ MB\n"
     ]
    }
   ],
   "source": [
    "df.info()"
   ]
  },
  {
   "cell_type": "code",
   "execution_count": 4,
   "id": "71d2284e",
   "metadata": {},
   "outputs": [
    {
     "data": {
      "text/html": [
       "<div>\n",
       "<style scoped>\n",
       "    .dataframe tbody tr th:only-of-type {\n",
       "        vertical-align: middle;\n",
       "    }\n",
       "\n",
       "    .dataframe tbody tr th {\n",
       "        vertical-align: top;\n",
       "    }\n",
       "\n",
       "    .dataframe thead th {\n",
       "        text-align: right;\n",
       "    }\n",
       "</style>\n",
       "<table border=\"1\" class=\"dataframe\">\n",
       "  <thead>\n",
       "    <tr style=\"text-align: right;\">\n",
       "      <th></th>\n",
       "      <th>number of adults</th>\n",
       "      <th>number of children</th>\n",
       "      <th>number of weekend nights</th>\n",
       "      <th>number of week nights</th>\n",
       "      <th>car parking space</th>\n",
       "      <th>lead time</th>\n",
       "      <th>repeated</th>\n",
       "      <th>P-C</th>\n",
       "      <th>P-not-C</th>\n",
       "      <th>average price</th>\n",
       "      <th>special requests</th>\n",
       "    </tr>\n",
       "  </thead>\n",
       "  <tbody>\n",
       "    <tr>\n",
       "      <th>count</th>\n",
       "      <td>36285.000000</td>\n",
       "      <td>36285.000000</td>\n",
       "      <td>36285.000000</td>\n",
       "      <td>36285.000000</td>\n",
       "      <td>36285.000000</td>\n",
       "      <td>36285.000000</td>\n",
       "      <td>36285.000000</td>\n",
       "      <td>36285.000000</td>\n",
       "      <td>36285.000000</td>\n",
       "      <td>36285.000000</td>\n",
       "      <td>36285.000000</td>\n",
       "    </tr>\n",
       "    <tr>\n",
       "      <th>mean</th>\n",
       "      <td>1.844839</td>\n",
       "      <td>0.105360</td>\n",
       "      <td>0.810693</td>\n",
       "      <td>2.204602</td>\n",
       "      <td>0.030977</td>\n",
       "      <td>85.239851</td>\n",
       "      <td>0.025630</td>\n",
       "      <td>0.023343</td>\n",
       "      <td>0.153369</td>\n",
       "      <td>103.421636</td>\n",
       "      <td>0.619733</td>\n",
       "    </tr>\n",
       "    <tr>\n",
       "      <th>std</th>\n",
       "      <td>0.518813</td>\n",
       "      <td>0.402704</td>\n",
       "      <td>0.870590</td>\n",
       "      <td>1.410946</td>\n",
       "      <td>0.173258</td>\n",
       "      <td>85.938796</td>\n",
       "      <td>0.158032</td>\n",
       "      <td>0.368281</td>\n",
       "      <td>1.753931</td>\n",
       "      <td>35.086469</td>\n",
       "      <td>0.786262</td>\n",
       "    </tr>\n",
       "    <tr>\n",
       "      <th>min</th>\n",
       "      <td>0.000000</td>\n",
       "      <td>0.000000</td>\n",
       "      <td>0.000000</td>\n",
       "      <td>0.000000</td>\n",
       "      <td>0.000000</td>\n",
       "      <td>0.000000</td>\n",
       "      <td>0.000000</td>\n",
       "      <td>0.000000</td>\n",
       "      <td>0.000000</td>\n",
       "      <td>0.000000</td>\n",
       "      <td>0.000000</td>\n",
       "    </tr>\n",
       "    <tr>\n",
       "      <th>25%</th>\n",
       "      <td>2.000000</td>\n",
       "      <td>0.000000</td>\n",
       "      <td>0.000000</td>\n",
       "      <td>1.000000</td>\n",
       "      <td>0.000000</td>\n",
       "      <td>17.000000</td>\n",
       "      <td>0.000000</td>\n",
       "      <td>0.000000</td>\n",
       "      <td>0.000000</td>\n",
       "      <td>80.300000</td>\n",
       "      <td>0.000000</td>\n",
       "    </tr>\n",
       "    <tr>\n",
       "      <th>50%</th>\n",
       "      <td>2.000000</td>\n",
       "      <td>0.000000</td>\n",
       "      <td>1.000000</td>\n",
       "      <td>2.000000</td>\n",
       "      <td>0.000000</td>\n",
       "      <td>57.000000</td>\n",
       "      <td>0.000000</td>\n",
       "      <td>0.000000</td>\n",
       "      <td>0.000000</td>\n",
       "      <td>99.450000</td>\n",
       "      <td>0.000000</td>\n",
       "    </tr>\n",
       "    <tr>\n",
       "      <th>75%</th>\n",
       "      <td>2.000000</td>\n",
       "      <td>0.000000</td>\n",
       "      <td>2.000000</td>\n",
       "      <td>3.000000</td>\n",
       "      <td>0.000000</td>\n",
       "      <td>126.000000</td>\n",
       "      <td>0.000000</td>\n",
       "      <td>0.000000</td>\n",
       "      <td>0.000000</td>\n",
       "      <td>120.000000</td>\n",
       "      <td>1.000000</td>\n",
       "    </tr>\n",
       "    <tr>\n",
       "      <th>max</th>\n",
       "      <td>4.000000</td>\n",
       "      <td>10.000000</td>\n",
       "      <td>7.000000</td>\n",
       "      <td>17.000000</td>\n",
       "      <td>1.000000</td>\n",
       "      <td>443.000000</td>\n",
       "      <td>1.000000</td>\n",
       "      <td>13.000000</td>\n",
       "      <td>58.000000</td>\n",
       "      <td>540.000000</td>\n",
       "      <td>5.000000</td>\n",
       "    </tr>\n",
       "  </tbody>\n",
       "</table>\n",
       "</div>"
      ],
      "text/plain": [
       "       number of adults  number of children  number of weekend nights  \\\n",
       "count      36285.000000        36285.000000              36285.000000   \n",
       "mean           1.844839            0.105360                  0.810693   \n",
       "std            0.518813            0.402704                  0.870590   \n",
       "min            0.000000            0.000000                  0.000000   \n",
       "25%            2.000000            0.000000                  0.000000   \n",
       "50%            2.000000            0.000000                  1.000000   \n",
       "75%            2.000000            0.000000                  2.000000   \n",
       "max            4.000000           10.000000                  7.000000   \n",
       "\n",
       "       number of week nights  car parking space     lead time      repeated  \\\n",
       "count           36285.000000       36285.000000  36285.000000  36285.000000   \n",
       "mean                2.204602           0.030977     85.239851      0.025630   \n",
       "std                 1.410946           0.173258     85.938796      0.158032   \n",
       "min                 0.000000           0.000000      0.000000      0.000000   \n",
       "25%                 1.000000           0.000000     17.000000      0.000000   \n",
       "50%                 2.000000           0.000000     57.000000      0.000000   \n",
       "75%                 3.000000           0.000000    126.000000      0.000000   \n",
       "max                17.000000           1.000000    443.000000      1.000000   \n",
       "\n",
       "                P-C       P-not-C  average price  special requests  \n",
       "count  36285.000000  36285.000000   36285.000000      36285.000000  \n",
       "mean       0.023343      0.153369     103.421636          0.619733  \n",
       "std        0.368281      1.753931      35.086469          0.786262  \n",
       "min        0.000000      0.000000       0.000000          0.000000  \n",
       "25%        0.000000      0.000000      80.300000          0.000000  \n",
       "50%        0.000000      0.000000      99.450000          0.000000  \n",
       "75%        0.000000      0.000000     120.000000          1.000000  \n",
       "max       13.000000     58.000000     540.000000          5.000000  "
      ]
     },
     "execution_count": 4,
     "metadata": {},
     "output_type": "execute_result"
    }
   ],
   "source": [
    "df.describe()"
   ]
  },
  {
   "cell_type": "code",
   "execution_count": 5,
   "id": "bcefbb44",
   "metadata": {},
   "outputs": [
    {
     "data": {
      "text/html": [
       "<div>\n",
       "<style scoped>\n",
       "    .dataframe tbody tr th:only-of-type {\n",
       "        vertical-align: middle;\n",
       "    }\n",
       "\n",
       "    .dataframe tbody tr th {\n",
       "        vertical-align: top;\n",
       "    }\n",
       "\n",
       "    .dataframe thead th {\n",
       "        text-align: right;\n",
       "    }\n",
       "</style>\n",
       "<table border=\"1\" class=\"dataframe\">\n",
       "  <thead>\n",
       "    <tr style=\"text-align: right;\">\n",
       "      <th></th>\n",
       "      <th>Booking_ID</th>\n",
       "      <th>number of adults</th>\n",
       "      <th>number of children</th>\n",
       "      <th>number of weekend nights</th>\n",
       "      <th>number of week nights</th>\n",
       "      <th>type of meal</th>\n",
       "      <th>car parking space</th>\n",
       "      <th>room type</th>\n",
       "      <th>lead time</th>\n",
       "      <th>market segment type</th>\n",
       "      <th>repeated</th>\n",
       "      <th>P-C</th>\n",
       "      <th>P-not-C</th>\n",
       "      <th>average price</th>\n",
       "      <th>special requests</th>\n",
       "      <th>date of reservation</th>\n",
       "      <th>booking status</th>\n",
       "    </tr>\n",
       "  </thead>\n",
       "  <tbody>\n",
       "    <tr>\n",
       "      <th>0</th>\n",
       "      <td>INN00001</td>\n",
       "      <td>1</td>\n",
       "      <td>1</td>\n",
       "      <td>2</td>\n",
       "      <td>5</td>\n",
       "      <td>Meal Plan 1</td>\n",
       "      <td>0</td>\n",
       "      <td>Room_Type 1</td>\n",
       "      <td>224</td>\n",
       "      <td>Offline</td>\n",
       "      <td>0</td>\n",
       "      <td>0</td>\n",
       "      <td>0</td>\n",
       "      <td>88.00</td>\n",
       "      <td>0</td>\n",
       "      <td>10/2/2015</td>\n",
       "      <td>Not_Canceled</td>\n",
       "    </tr>\n",
       "    <tr>\n",
       "      <th>1</th>\n",
       "      <td>INN00002</td>\n",
       "      <td>1</td>\n",
       "      <td>0</td>\n",
       "      <td>1</td>\n",
       "      <td>3</td>\n",
       "      <td>Not Selected</td>\n",
       "      <td>0</td>\n",
       "      <td>Room_Type 1</td>\n",
       "      <td>5</td>\n",
       "      <td>Online</td>\n",
       "      <td>0</td>\n",
       "      <td>0</td>\n",
       "      <td>0</td>\n",
       "      <td>106.68</td>\n",
       "      <td>1</td>\n",
       "      <td>11/6/2018</td>\n",
       "      <td>Not_Canceled</td>\n",
       "    </tr>\n",
       "    <tr>\n",
       "      <th>2</th>\n",
       "      <td>INN00003</td>\n",
       "      <td>2</td>\n",
       "      <td>1</td>\n",
       "      <td>1</td>\n",
       "      <td>3</td>\n",
       "      <td>Meal Plan 1</td>\n",
       "      <td>0</td>\n",
       "      <td>Room_Type 1</td>\n",
       "      <td>1</td>\n",
       "      <td>Online</td>\n",
       "      <td>0</td>\n",
       "      <td>0</td>\n",
       "      <td>0</td>\n",
       "      <td>50.00</td>\n",
       "      <td>0</td>\n",
       "      <td>2/28/2018</td>\n",
       "      <td>Canceled</td>\n",
       "    </tr>\n",
       "    <tr>\n",
       "      <th>3</th>\n",
       "      <td>INN00004</td>\n",
       "      <td>1</td>\n",
       "      <td>0</td>\n",
       "      <td>0</td>\n",
       "      <td>2</td>\n",
       "      <td>Meal Plan 1</td>\n",
       "      <td>0</td>\n",
       "      <td>Room_Type 1</td>\n",
       "      <td>211</td>\n",
       "      <td>Online</td>\n",
       "      <td>0</td>\n",
       "      <td>0</td>\n",
       "      <td>0</td>\n",
       "      <td>100.00</td>\n",
       "      <td>1</td>\n",
       "      <td>5/20/2017</td>\n",
       "      <td>Canceled</td>\n",
       "    </tr>\n",
       "    <tr>\n",
       "      <th>4</th>\n",
       "      <td>INN00005</td>\n",
       "      <td>1</td>\n",
       "      <td>0</td>\n",
       "      <td>1</td>\n",
       "      <td>2</td>\n",
       "      <td>Not Selected</td>\n",
       "      <td>0</td>\n",
       "      <td>Room_Type 1</td>\n",
       "      <td>48</td>\n",
       "      <td>Online</td>\n",
       "      <td>0</td>\n",
       "      <td>0</td>\n",
       "      <td>0</td>\n",
       "      <td>77.00</td>\n",
       "      <td>0</td>\n",
       "      <td>4/11/2018</td>\n",
       "      <td>Canceled</td>\n",
       "    </tr>\n",
       "  </tbody>\n",
       "</table>\n",
       "</div>"
      ],
      "text/plain": [
       "  Booking_ID  number of adults  number of children  number of weekend nights  \\\n",
       "0   INN00001                 1                   1                         2   \n",
       "1   INN00002                 1                   0                         1   \n",
       "2   INN00003                 2                   1                         1   \n",
       "3   INN00004                 1                   0                         0   \n",
       "4   INN00005                 1                   0                         1   \n",
       "\n",
       "   number of week nights  type of meal  car parking space    room type  \\\n",
       "0                      5   Meal Plan 1                  0  Room_Type 1   \n",
       "1                      3  Not Selected                  0  Room_Type 1   \n",
       "2                      3   Meal Plan 1                  0  Room_Type 1   \n",
       "3                      2   Meal Plan 1                  0  Room_Type 1   \n",
       "4                      2  Not Selected                  0  Room_Type 1   \n",
       "\n",
       "   lead time market segment type  repeated  P-C  P-not-C  average price  \\\n",
       "0        224             Offline         0    0        0          88.00   \n",
       "1          5              Online         0    0        0         106.68   \n",
       "2          1              Online         0    0        0          50.00   \n",
       "3        211              Online         0    0        0         100.00   \n",
       "4         48              Online         0    0        0          77.00   \n",
       "\n",
       "   special requests date of reservation booking status  \n",
       "0                 0           10/2/2015   Not_Canceled  \n",
       "1                 1           11/6/2018   Not_Canceled  \n",
       "2                 0           2/28/2018       Canceled  \n",
       "3                 1           5/20/2017       Canceled  \n",
       "4                 0           4/11/2018       Canceled  "
      ]
     },
     "execution_count": 5,
     "metadata": {},
     "output_type": "execute_result"
    }
   ],
   "source": [
    "df.head()"
   ]
  },
  {
   "cell_type": "code",
   "execution_count": 6,
   "id": "0be02cb9",
   "metadata": {},
   "outputs": [
    {
     "data": {
      "text/html": [
       "<div>\n",
       "<style scoped>\n",
       "    .dataframe tbody tr th:only-of-type {\n",
       "        vertical-align: middle;\n",
       "    }\n",
       "\n",
       "    .dataframe tbody tr th {\n",
       "        vertical-align: top;\n",
       "    }\n",
       "\n",
       "    .dataframe thead th {\n",
       "        text-align: right;\n",
       "    }\n",
       "</style>\n",
       "<table border=\"1\" class=\"dataframe\">\n",
       "  <thead>\n",
       "    <tr style=\"text-align: right;\">\n",
       "      <th></th>\n",
       "      <th>number of adults</th>\n",
       "      <th>number of children</th>\n",
       "      <th>number of weekend nights</th>\n",
       "      <th>number of week nights</th>\n",
       "      <th>car parking space</th>\n",
       "      <th>lead time</th>\n",
       "      <th>repeated</th>\n",
       "      <th>P-C</th>\n",
       "      <th>P-not-C</th>\n",
       "      <th>average price</th>\n",
       "      <th>special requests</th>\n",
       "    </tr>\n",
       "  </thead>\n",
       "  <tbody>\n",
       "    <tr>\n",
       "      <th>number of adults</th>\n",
       "      <td>1.000000</td>\n",
       "      <td>-0.020027</td>\n",
       "      <td>0.103316</td>\n",
       "      <td>0.105416</td>\n",
       "      <td>0.011467</td>\n",
       "      <td>0.097014</td>\n",
       "      <td>-0.192175</td>\n",
       "      <td>-0.047395</td>\n",
       "      <td>-0.119106</td>\n",
       "      <td>0.296832</td>\n",
       "      <td>0.189317</td>\n",
       "    </tr>\n",
       "    <tr>\n",
       "      <th>number of children</th>\n",
       "      <td>-0.020027</td>\n",
       "      <td>1.000000</td>\n",
       "      <td>0.029536</td>\n",
       "      <td>0.024680</td>\n",
       "      <td>0.034198</td>\n",
       "      <td>-0.047058</td>\n",
       "      <td>-0.036371</td>\n",
       "      <td>-0.016398</td>\n",
       "      <td>-0.021201</td>\n",
       "      <td>0.337491</td>\n",
       "      <td>0.124363</td>\n",
       "    </tr>\n",
       "    <tr>\n",
       "      <th>number of weekend nights</th>\n",
       "      <td>0.103316</td>\n",
       "      <td>0.029536</td>\n",
       "      <td>1.000000</td>\n",
       "      <td>0.179548</td>\n",
       "      <td>-0.031102</td>\n",
       "      <td>0.046510</td>\n",
       "      <td>-0.067096</td>\n",
       "      <td>-0.020687</td>\n",
       "      <td>-0.026307</td>\n",
       "      <td>-0.004565</td>\n",
       "      <td>0.060432</td>\n",
       "    </tr>\n",
       "    <tr>\n",
       "      <th>number of week nights</th>\n",
       "      <td>0.105416</td>\n",
       "      <td>0.024680</td>\n",
       "      <td>0.179548</td>\n",
       "      <td>1.000000</td>\n",
       "      <td>-0.048814</td>\n",
       "      <td>0.149600</td>\n",
       "      <td>-0.099782</td>\n",
       "      <td>-0.030089</td>\n",
       "      <td>-0.049354</td>\n",
       "      <td>0.022751</td>\n",
       "      <td>0.046136</td>\n",
       "    </tr>\n",
       "    <tr>\n",
       "      <th>car parking space</th>\n",
       "      <td>0.011467</td>\n",
       "      <td>0.034198</td>\n",
       "      <td>-0.031102</td>\n",
       "      <td>-0.048814</td>\n",
       "      <td>1.000000</td>\n",
       "      <td>-0.066444</td>\n",
       "      <td>0.110916</td>\n",
       "      <td>0.027109</td>\n",
       "      <td>0.063814</td>\n",
       "      <td>0.061310</td>\n",
       "      <td>0.087889</td>\n",
       "    </tr>\n",
       "    <tr>\n",
       "      <th>lead time</th>\n",
       "      <td>0.097014</td>\n",
       "      <td>-0.047058</td>\n",
       "      <td>0.046510</td>\n",
       "      <td>0.149600</td>\n",
       "      <td>-0.066444</td>\n",
       "      <td>1.000000</td>\n",
       "      <td>-0.135966</td>\n",
       "      <td>-0.045718</td>\n",
       "      <td>-0.078126</td>\n",
       "      <td>-0.062578</td>\n",
       "      <td>-0.101604</td>\n",
       "    </tr>\n",
       "    <tr>\n",
       "      <th>repeated</th>\n",
       "      <td>-0.192175</td>\n",
       "      <td>-0.036371</td>\n",
       "      <td>-0.067096</td>\n",
       "      <td>-0.099782</td>\n",
       "      <td>0.110916</td>\n",
       "      <td>-0.135966</td>\n",
       "      <td>1.000000</td>\n",
       "      <td>0.390811</td>\n",
       "      <td>0.539157</td>\n",
       "      <td>-0.174881</td>\n",
       "      <td>-0.011834</td>\n",
       "    </tr>\n",
       "    <tr>\n",
       "      <th>P-C</th>\n",
       "      <td>-0.047395</td>\n",
       "      <td>-0.016398</td>\n",
       "      <td>-0.020687</td>\n",
       "      <td>-0.030089</td>\n",
       "      <td>0.027109</td>\n",
       "      <td>-0.045718</td>\n",
       "      <td>0.390811</td>\n",
       "      <td>1.000000</td>\n",
       "      <td>0.468148</td>\n",
       "      <td>-0.063334</td>\n",
       "      <td>-0.003323</td>\n",
       "    </tr>\n",
       "    <tr>\n",
       "      <th>P-not-C</th>\n",
       "      <td>-0.119106</td>\n",
       "      <td>-0.021201</td>\n",
       "      <td>-0.026307</td>\n",
       "      <td>-0.049354</td>\n",
       "      <td>0.063814</td>\n",
       "      <td>-0.078126</td>\n",
       "      <td>0.539157</td>\n",
       "      <td>0.468148</td>\n",
       "      <td>1.000000</td>\n",
       "      <td>-0.113673</td>\n",
       "      <td>0.027363</td>\n",
       "    </tr>\n",
       "    <tr>\n",
       "      <th>average price</th>\n",
       "      <td>0.296832</td>\n",
       "      <td>0.337491</td>\n",
       "      <td>-0.004565</td>\n",
       "      <td>0.022751</td>\n",
       "      <td>0.061310</td>\n",
       "      <td>-0.062578</td>\n",
       "      <td>-0.174881</td>\n",
       "      <td>-0.063334</td>\n",
       "      <td>-0.113673</td>\n",
       "      <td>1.000000</td>\n",
       "      <td>0.184468</td>\n",
       "    </tr>\n",
       "    <tr>\n",
       "      <th>special requests</th>\n",
       "      <td>0.189317</td>\n",
       "      <td>0.124363</td>\n",
       "      <td>0.060432</td>\n",
       "      <td>0.046136</td>\n",
       "      <td>0.087889</td>\n",
       "      <td>-0.101604</td>\n",
       "      <td>-0.011834</td>\n",
       "      <td>-0.003323</td>\n",
       "      <td>0.027363</td>\n",
       "      <td>0.184468</td>\n",
       "      <td>1.000000</td>\n",
       "    </tr>\n",
       "  </tbody>\n",
       "</table>\n",
       "</div>"
      ],
      "text/plain": [
       "                          number of adults  number of children  \\\n",
       "number of adults                  1.000000           -0.020027   \n",
       "number of children               -0.020027            1.000000   \n",
       "number of weekend nights          0.103316            0.029536   \n",
       "number of week nights             0.105416            0.024680   \n",
       "car parking space                 0.011467            0.034198   \n",
       "lead time                         0.097014           -0.047058   \n",
       "repeated                         -0.192175           -0.036371   \n",
       "P-C                              -0.047395           -0.016398   \n",
       "P-not-C                          -0.119106           -0.021201   \n",
       "average price                     0.296832            0.337491   \n",
       "special requests                  0.189317            0.124363   \n",
       "\n",
       "                          number of weekend nights  number of week nights  \\\n",
       "number of adults                          0.103316               0.105416   \n",
       "number of children                        0.029536               0.024680   \n",
       "number of weekend nights                  1.000000               0.179548   \n",
       "number of week nights                     0.179548               1.000000   \n",
       "car parking space                        -0.031102              -0.048814   \n",
       "lead time                                 0.046510               0.149600   \n",
       "repeated                                 -0.067096              -0.099782   \n",
       "P-C                                      -0.020687              -0.030089   \n",
       "P-not-C                                  -0.026307              -0.049354   \n",
       "average price                            -0.004565               0.022751   \n",
       "special requests                          0.060432               0.046136   \n",
       "\n",
       "                          car parking space  lead time  repeated       P-C  \\\n",
       "number of adults                   0.011467   0.097014 -0.192175 -0.047395   \n",
       "number of children                 0.034198  -0.047058 -0.036371 -0.016398   \n",
       "number of weekend nights          -0.031102   0.046510 -0.067096 -0.020687   \n",
       "number of week nights             -0.048814   0.149600 -0.099782 -0.030089   \n",
       "car parking space                  1.000000  -0.066444  0.110916  0.027109   \n",
       "lead time                         -0.066444   1.000000 -0.135966 -0.045718   \n",
       "repeated                           0.110916  -0.135966  1.000000  0.390811   \n",
       "P-C                                0.027109  -0.045718  0.390811  1.000000   \n",
       "P-not-C                            0.063814  -0.078126  0.539157  0.468148   \n",
       "average price                      0.061310  -0.062578 -0.174881 -0.063334   \n",
       "special requests                   0.087889  -0.101604 -0.011834 -0.003323   \n",
       "\n",
       "                           P-not-C  average price  special requests  \n",
       "number of adults         -0.119106       0.296832          0.189317  \n",
       "number of children       -0.021201       0.337491          0.124363  \n",
       "number of weekend nights -0.026307      -0.004565          0.060432  \n",
       "number of week nights    -0.049354       0.022751          0.046136  \n",
       "car parking space         0.063814       0.061310          0.087889  \n",
       "lead time                -0.078126      -0.062578         -0.101604  \n",
       "repeated                  0.539157      -0.174881         -0.011834  \n",
       "P-C                       0.468148      -0.063334         -0.003323  \n",
       "P-not-C                   1.000000      -0.113673          0.027363  \n",
       "average price            -0.113673       1.000000          0.184468  \n",
       "special requests          0.027363       0.184468          1.000000  "
      ]
     },
     "execution_count": 6,
     "metadata": {},
     "output_type": "execute_result"
    }
   ],
   "source": [
    "my_df = df.select_dtypes(exclude=[object])\n",
    "my_df.corr()"
   ]
  },
  {
   "cell_type": "code",
   "execution_count": 7,
   "id": "fd5a7ccb",
   "metadata": {},
   "outputs": [],
   "source": [
    "df1 = df[['number of adults', 'number of children', 'number of weekend nights', 'number of week nights', 'car parking space','type of meal',\n",
    " 'lead time', 'market segment type', 'repeated', 'P-C', 'P-not-C', 'average price', 'special requests', 'booking status']]"
   ]
  },
  {
   "cell_type": "code",
   "execution_count": 8,
   "id": "df946d74",
   "metadata": {},
   "outputs": [
    {
     "name": "stdout",
     "output_type": "stream",
     "text": [
      "<class 'pandas.core.frame.DataFrame'>\n",
      "RangeIndex: 36285 entries, 0 to 36284\n",
      "Data columns (total 14 columns):\n",
      " #   Column                    Non-Null Count  Dtype  \n",
      "---  ------                    --------------  -----  \n",
      " 0   number of adults          36285 non-null  int64  \n",
      " 1   number of children        36285 non-null  int64  \n",
      " 2   number of weekend nights  36285 non-null  int64  \n",
      " 3   number of week nights     36285 non-null  int64  \n",
      " 4   car parking space         36285 non-null  int64  \n",
      " 5   type of meal              36285 non-null  object \n",
      " 6   lead time                 36285 non-null  int64  \n",
      " 7   market segment type       36285 non-null  object \n",
      " 8   repeated                  36285 non-null  int64  \n",
      " 9   P-C                       36285 non-null  int64  \n",
      " 10  P-not-C                   36285 non-null  int64  \n",
      " 11  average price             36285 non-null  float64\n",
      " 12  special requests          36285 non-null  int64  \n",
      " 13  booking status            36285 non-null  object \n",
      "dtypes: float64(1), int64(10), object(3)\n",
      "memory usage: 3.9+ MB\n"
     ]
    }
   ],
   "source": [
    "df1.info()"
   ]
  },
  {
   "cell_type": "code",
   "execution_count": 9,
   "id": "38be0167",
   "metadata": {},
   "outputs": [
    {
     "data": {
      "text/plain": [
       "number of adults            0\n",
       "number of children          0\n",
       "number of weekend nights    0\n",
       "number of week nights       0\n",
       "car parking space           0\n",
       "type of meal                0\n",
       "lead time                   0\n",
       "market segment type         0\n",
       "repeated                    0\n",
       "P-C                         0\n",
       "P-not-C                     0\n",
       "average price               0\n",
       "special requests            0\n",
       "booking status              0\n",
       "dtype: int64"
      ]
     },
     "execution_count": 9,
     "metadata": {},
     "output_type": "execute_result"
    }
   ],
   "source": [
    "df1.isnull().sum()"
   ]
  },
  {
   "cell_type": "code",
   "execution_count": 10,
   "id": "40bae3dc",
   "metadata": {},
   "outputs": [
    {
     "data": {
      "text/plain": [
       "<Axes: ylabel='number of weekend nights'>"
      ]
     },
     "execution_count": 10,
     "metadata": {},
     "output_type": "execute_result"
    },
    {
     "data": {
      "image/png": "[encoded data removed]",
      "text/plain": [
       "<Figure size 640x480 with 1 Axes>"
      ]
     },
     "metadata": {},
     "output_type": "display_data"
    }
   ],
   "source": [
    "sns.boxplot(df1['number of weekend nights'])"
   ]
  },
  {
   "cell_type": "code",
   "execution_count": 11,
   "id": "e5c2c9f5",
   "metadata": {},
   "outputs": [
    {
     "data": {
      "text/plain": [
       "<Axes: ylabel='number of weekend nights'>"
      ]
     },
     "execution_count": 11,
     "metadata": {},
     "output_type": "execute_result"
    },
    {
     "data": {
      "image/png": "[encoded data removed]",
      "text/plain": [
       "<Figure size 640x480 with 1 Axes>"
      ]
     },
     "metadata": {},
     "output_type": "display_data"
    }
   ],
   "source": [
    "Q1 = df1['number of weekend nights'].quantile(0.25)\n",
    "Q3 = df1['number of weekend nights'].quantile(0.75)\n",
    "IQR = Q3 - Q1\n",
    "\n",
    "l_limit = Q1 - 1.5 * IQR\n",
    "u_limit = Q3 + 1.5 * IQR\n",
    "\n",
    "df2 = df1[(df1['number of weekend nights'] > l_limit) & (df1['number of weekend nights'] < u_limit)]\n",
    "sns.boxplot(df2['number of weekend nights'])"
   ]
  },
  {
   "cell_type": "code",
   "execution_count": 12,
   "id": "e72a3c12",
   "metadata": {},
   "outputs": [
    {
     "data": {
      "text/plain": [
       "<Axes: ylabel='number of week nights'>"
      ]
     },
     "execution_count": 12,
     "metadata": {},
     "output_type": "execute_result"
    },
    {
     "data": {
      "image/png": "[encoded data removed]",
      "text/plain": [
       "<Figure size 640x480 with 1 Axes>"
      ]
     },
     "metadata": {},
     "output_type": "display_data"
    }
   ],
   "source": [
    "sns.boxplot(df1['number of week nights'])"
   ]
  },
  {
   "cell_type": "code",
   "execution_count": 13,
   "id": "dcdd8e44",
   "metadata": {},
   "outputs": [
    {
     "data": {
      "text/plain": [
       "<Axes: ylabel='number of week nights'>"
      ]
     },
     "execution_count": 13,
     "metadata": {},
     "output_type": "execute_result"
    },
    {
     "data": {
      "image/png": "[encoded data removed]",
      "text/plain": [
       "<Figure size 640x480 with 1 Axes>"
      ]
     },
     "metadata": {},
     "output_type": "display_data"
    }
   ],
   "source": [
    "Q1 = df1['number of week nights'].quantile(0.25)\n",
    "Q3 = df1['number of week nights'].quantile(0.75)\n",
    "IQR = Q3 - Q1\n",
    "\n",
    "l_limit = Q1 - 1.5 * IQR\n",
    "u_limit = Q3 + 1.5 * IQR\n",
    "\n",
    "df2 = df1[(df1['number of week nights'] > l_limit) & (df1['number of week nights'] < u_limit)]\n",
    "sns.boxplot(df2['number of week nights'])"
   ]
  },
  {
   "cell_type": "code",
   "execution_count": 14,
   "id": "143ce714",
   "metadata": {},
   "outputs": [
    {
     "data": {
      "text/plain": [
       "<Axes: ylabel='lead time'>"
      ]
     },
     "execution_count": 14,
     "metadata": {},
     "output_type": "execute_result"
    },
    {
     "data": {
      "image/png": "[encoded data removed]",
      "text/plain": [
       "<Figure size 640x480 with 1 Axes>"
      ]
     },
     "metadata": {},
     "output_type": "display_data"
    }
   ],
   "source": [
    "sns.boxplot(df1['lead time'])"
   ]
  },
  {
   "cell_type": "code",
   "execution_count": 15,
   "id": "39479a53",
   "metadata": {},
   "outputs": [
    {
     "data": {
      "text/plain": [
       "<Axes: ylabel='lead time'>"
      ]
     },
     "execution_count": 15,
     "metadata": {},
     "output_type": "execute_result"
    },
    {
     "data": {
      "image/png": "[encoded data removed]",
      "text/plain": [
       "<Figure size 640x480 with 1 Axes>"
      ]
     },
     "metadata": {},
     "output_type": "display_data"
    }
   ],
   "source": [
    "Q1 = df1['lead time'].quantile(0.25)\n",
    "Q3 = df1['lead time'].quantile(0.75)\n",
    "IQR = Q3 - Q1\n",
    "\n",
    "l_limit = Q1 - 1.5 * IQR\n",
    "u_limit = Q3 + 1.5 * IQR\n",
    "\n",
    "df2 = df1[(df1['lead time'] > l_limit) & (df1['lead time'] < u_limit)]\n",
    "sns.boxplot(df2['lead time'])"
   ]
  },
  {
   "cell_type": "code",
   "execution_count": 16,
   "id": "5b72b0e5",
   "metadata": {},
   "outputs": [
    {
     "data": {
      "text/plain": [
       "<Axes: ylabel='market segment type'>"
      ]
     },
     "execution_count": 16,
     "metadata": {},
     "output_type": "execute_result"
    },
    {
     "data": {
      "image/png": "[encoded data removed]",
      "text/plain": [
       "<Figure size 640x480 with 1 Axes>"
      ]
     },
     "metadata": {},
     "output_type": "display_data"
    }
   ],
   "source": [
    "sns.boxplot(df1['market segment type'])"
   ]
  },
  {
   "cell_type": "code",
   "execution_count": 17,
   "id": "c6130268",
   "metadata": {},
   "outputs": [
    {
     "data": {
      "text/plain": [
       "<Axes: ylabel='average price'>"
      ]
     },
     "execution_count": 17,
     "metadata": {},
     "output_type": "execute_result"
    },
    {
     "data": {
      "image/png": "[encoded data removed]",
      "text/plain": [
       "<Figure size 640x480 with 1 Axes>"
      ]
     },
     "metadata": {},
     "output_type": "display_data"
    }
   ],
   "source": [
    "sns.boxplot(df1['average price'])"
   ]
  },
  {
   "cell_type": "code",
   "execution_count": 18,
   "id": "08848a91",
   "metadata": {},
   "outputs": [
    {
     "data": {
      "text/plain": [
       "<Axes: ylabel='average price'>"
      ]
     },
     "execution_count": 18,
     "metadata": {},
     "output_type": "execute_result"
    },
    {
     "data": {
      "image/png": "[encoded data removed]",
      "text/plain": [
       "<Figure size 640x480 with 1 Axes>"
      ]
     },
     "metadata": {},
     "output_type": "display_data"
    }
   ],
   "source": [
    "Q1 = df1['average price'].quantile(0.25)\n",
    "Q3 = df1['average price'].quantile(0.75)\n",
    "IQR = Q3 - Q1\n",
    "\n",
    "l_limit = Q1 - 1.5 * IQR\n",
    "u_limit = Q3 + 1.5 * IQR\n",
    "\n",
    "df2 = df1[(df1['average price'] > l_limit) & (df1['average price'] < u_limit)]\n",
    "sns.boxplot(df2['average price'])"
   ]
  },
  {
   "cell_type": "code",
   "execution_count": 19,
   "id": "497290c0",
   "metadata": {},
   "outputs": [
    {
     "data": {
      "text/plain": [
       "<Axes: ylabel='booking status'>"
      ]
     },
     "execution_count": 19,
     "metadata": {},
     "output_type": "execute_result"
    },
    {
     "data": {
      "image/png": "[encoded data removed]",
      "text/plain": [
       "<Figure size 640x480 with 1 Axes>"
      ]
     },
     "metadata": {},
     "output_type": "display_data"
    }
   ],
   "source": [
    "sns.boxplot(df1['booking status'])"
   ]
  },
  {
   "cell_type": "code",
   "execution_count": 20,
   "id": "9becfc44",
   "metadata": {},
   "outputs": [
    {
     "name": "stdout",
     "output_type": "stream",
     "text": [
      "<class 'pandas.core.frame.DataFrame'>\n",
      "Index: 34589 entries, 0 to 36284\n",
      "Data columns (total 14 columns):\n",
      " #   Column                    Non-Null Count  Dtype  \n",
      "---  ------                    --------------  -----  \n",
      " 0   number of adults          34589 non-null  int64  \n",
      " 1   number of children        34589 non-null  int64  \n",
      " 2   number of weekend nights  34589 non-null  int64  \n",
      " 3   number of week nights     34589 non-null  int64  \n",
      " 4   car parking space         34589 non-null  int64  \n",
      " 5   type of meal              34589 non-null  object \n",
      " 6   lead time                 34589 non-null  int64  \n",
      " 7   market segment type       34589 non-null  object \n",
      " 8   repeated                  34589 non-null  int64  \n",
      " 9   P-C                       34589 non-null  int64  \n",
      " 10  P-not-C                   34589 non-null  int64  \n",
      " 11  average price             34589 non-null  float64\n",
      " 12  special requests          34589 non-null  int64  \n",
      " 13  booking status            34589 non-null  object \n",
      "dtypes: float64(1), int64(10), object(3)\n",
      "memory usage: 4.0+ MB\n"
     ]
    }
   ],
   "source": [
    "df2.info()"
   ]
  },
  {
   "cell_type": "code",
   "execution_count": 21,
   "id": "559ee24a",
   "metadata": {},
   "outputs": [
    {
     "name": "stderr",
     "output_type": "stream",
     "text": [
      "C:\\Users\\Mrunmayee\\AppData\\Local\\Temp\\ipykernel_7764\\2445423594.py:3: SettingWithCopyWarning: \n",
      "A value is trying to be set on a copy of a slice from a DataFrame.\n",
      "Try using .loc[row_indexer,col_indexer] = value instead\n",
      "\n",
      "See the caveats in the documentation: https://pandas.pydata.org/pandas-docs/stable/user_guide/indexing.html#returning-a-view-versus-a-copy\n",
      "  df2['market segment type'] = lb.fit_transform(df2['market segment type'])\n",
      "C:\\Users\\Mrunmayee\\AppData\\Local\\Temp\\ipykernel_7764\\2445423594.py:4: SettingWithCopyWarning: \n",
      "A value is trying to be set on a copy of a slice from a DataFrame.\n",
      "Try using .loc[row_indexer,col_indexer] = value instead\n",
      "\n",
      "See the caveats in the documentation: https://pandas.pydata.org/pandas-docs/stable/user_guide/indexing.html#returning-a-view-versus-a-copy\n",
      "  df2['type of meal'] = lb.fit_transform(df2['type of meal'])\n",
      "C:\\Users\\Mrunmayee\\AppData\\Local\\Temp\\ipykernel_7764\\2445423594.py:5: SettingWithCopyWarning: \n",
      "A value is trying to be set on a copy of a slice from a DataFrame.\n",
      "Try using .loc[row_indexer,col_indexer] = value instead\n",
      "\n",
      "See the caveats in the documentation: https://pandas.pydata.org/pandas-docs/stable/user_guide/indexing.html#returning-a-view-versus-a-copy\n",
      "  df2['booking status'] = lb.fit_transform(df2['booking status'])\n"
     ]
    }
   ],
   "source": [
    "from sklearn.preprocessing import LabelEncoder\n",
    "lb = LabelEncoder()\n",
    "df2['market segment type'] = lb.fit_transform(df2['market segment type'])\n",
    "df2['type of meal'] = lb.fit_transform(df2['type of meal'])\n",
    "df2['booking status'] = lb.fit_transform(df2['booking status'])"
   ]
  },
  {
   "cell_type": "code",
   "execution_count": 22,
   "id": "3212ca38",
   "metadata": {},
   "outputs": [
    {
     "data": {
      "text/plain": [
       "<Axes: ylabel='market segment type'>"
      ]
     },
     "execution_count": 22,
     "metadata": {},
     "output_type": "execute_result"
    },
    {
     "data": {
      "image/png": "[encoded data removed]",
      "text/plain": [
       "<Figure size 640x480 with 1 Axes>"
      ]
     },
     "metadata": {},
     "output_type": "display_data"
    }
   ],
   "source": [
    "sns.boxplot(df2['market segment type'])"
   ]
  },
  {
   "cell_type": "code",
   "execution_count": 23,
   "id": "2be5fab4",
   "metadata": {},
   "outputs": [
    {
     "data": {
      "text/plain": [
       "<Axes: ylabel='market segment type'>"
      ]
     },
     "execution_count": 23,
     "metadata": {},
     "output_type": "execute_result"
    },
    {
     "data": {
      "image/png": "[encoded data removed]",
      "text/plain": [
       "<Figure size 640x480 with 1 Axes>"
      ]
     },
     "metadata": {},
     "output_type": "display_data"
    }
   ],
   "source": [
    "Q1 = df2['market segment type'].quantile(0.25)\n",
    "Q3 = df2['market segment type'].quantile(0.75)\n",
    "IQR = Q3 - Q1\n",
    "\n",
    "l_limit = Q1 - 1.5 * IQR\n",
    "u_limit = Q3 + 1.5 * IQR\n",
    "\n",
    "df3 = df2[(df2['market segment type'] > l_limit) & (df2['market segment type'] < u_limit)]\n",
    "sns.boxplot(df3['market segment type'])"
   ]
  },
  {
   "cell_type": "code",
   "execution_count": 24,
   "id": "2750176f",
   "metadata": {},
   "outputs": [
    {
     "name": "stdout",
     "output_type": "stream",
     "text": [
      "<class 'pandas.core.frame.DataFrame'>\n",
      "Index: 34448 entries, 0 to 36284\n",
      "Data columns (total 14 columns):\n",
      " #   Column                    Non-Null Count  Dtype  \n",
      "---  ------                    --------------  -----  \n",
      " 0   number of adults          34448 non-null  int64  \n",
      " 1   number of children        34448 non-null  int64  \n",
      " 2   number of weekend nights  34448 non-null  int64  \n",
      " 3   number of week nights     34448 non-null  int64  \n",
      " 4   car parking space         34448 non-null  int64  \n",
      " 5   type of meal              34448 non-null  int32  \n",
      " 6   lead time                 34448 non-null  int64  \n",
      " 7   market segment type       34448 non-null  int32  \n",
      " 8   repeated                  34448 non-null  int64  \n",
      " 9   P-C                       34448 non-null  int64  \n",
      " 10  P-not-C                   34448 non-null  int64  \n",
      " 11  average price             34448 non-null  float64\n",
      " 12  special requests          34448 non-null  int64  \n",
      " 13  booking status            34448 non-null  int32  \n",
      "dtypes: float64(1), int32(3), int64(10)\n",
      "memory usage: 3.5 MB\n"
     ]
    }
   ],
   "source": [
    "df3.info()"
   ]
  },
  {
   "cell_type": "code",
   "execution_count": 32,
   "id": "8de261e8",
   "metadata": {},
   "outputs": [],
   "source": [
    "x = df3[['number of adults', 'number of children', 'number of weekend nights', 'number of week nights', 'car parking space', 'type of meal',\n",
    " 'lead time', 'market segment type', 'repeated', 'P-C', 'P-not-C', 'average price', 'special requests']]\n",
    "y = df3['booking status']"
   ]
  },
  {
   "cell_type": "code",
   "execution_count": 33,
   "id": "fc2fd8cb",
   "metadata": {},
   "outputs": [],
   "source": [
    "x_train, x_test, y_train, y_test = train_test_split(x, y, test_size=0.2)"
   ]
  },
  {
   "cell_type": "code",
   "execution_count": 34,
   "id": "85ee2ff4",
   "metadata": {},
   "outputs": [],
   "source": [
    "svm = SVC()\n",
    "model = svm.fit(x_train, y_train)"
   ]
  },
  {
   "cell_type": "code",
   "execution_count": null,
   "id": "35df3476",
   "metadata": {},
   "outputs": [],
   "source": [
    "y_pred = model.predict(x_test)\n"
   ]
  },
  {
   "cell_type": "code",
   "execution_count": 36,
   "id": "d03b211f",
   "metadata": {},
   "outputs": [
    {
     "data": {
      "text/plain": [
       "0.7730043541364296"
      ]
     },
     "execution_count": 36,
     "metadata": {},
     "output_type": "execute_result"
    }
   ],
   "source": [
    "accuracy_score(y_test, y_pred)"
   ]
  },
  {
   "cell_type": "code",
   "execution_count": 37,
   "id": "764bcdec",
   "metadata": {},
   "outputs": [
    {
     "data": {
      "text/plain": [
       "0.6882167964326537"
      ]
     },
     "execution_count": 37,
     "metadata": {},
     "output_type": "execute_result"
    }
   ],
   "source": [
    "recall_score(y_test, y_pred, average='macro')"
   ]
  },
  {
   "cell_type": "code",
   "execution_count": 38,
   "id": "984b253b",
   "metadata": {},
   "outputs": [
    {
     "name": "stdout",
     "output_type": "stream",
     "text": [
      "              precision    recall  f1-score   support\n",
      "\n",
      "           0       0.79      0.43      0.56      2302\n",
      "           1       0.77      0.94      0.85      4588\n",
      "\n",
      "    accuracy                           0.77      6890\n",
      "   macro avg       0.78      0.69      0.70      6890\n",
      "weighted avg       0.78      0.77      0.75      6890\n",
      "\n"
     ]
    }
   ],
   "source": [
    "cr = classification_report(y_test, y_pred)\n",
    "print(cr)"
   ]
  }
 ],
 "metadata": {
  "kernelspec": {
   "display_name": "Python 3",
   "language": "python",
   "name": "python3"
  },
  "language_info": {
   "codemirror_mode": {
    "name": "ipython",
    "version": 3
   },
   "file_extension": ".py",
   "mimetype": "text/x-python",
   "name": "python",
   "nbconvert_exporter": "python",
   "pygments_lexer": "ipython3",
   "version": "3.10.0"
  }
 },
 "nbformat": 4,
 "nbformat_minor": 5
}
